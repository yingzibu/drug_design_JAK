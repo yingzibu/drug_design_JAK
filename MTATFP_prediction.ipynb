{
  "nbformat": 4,
  "nbformat_minor": 0,
  "metadata": {
    "colab": {
      "provenance": [],
      "machine_shape": "hm",
      "gpuType": "A100",
      "authorship_tag": "ABX9TyO2KorqnggtjFa6z8s/J3hA",
      "include_colab_link": true
    },
    "kernelspec": {
      "name": "python3",
      "display_name": "Python 3"
    },
    "language_info": {
      "name": "python"
    },
    "accelerator": "GPU"
  },
  "cells": [
    {
      "cell_type": "markdown",
      "metadata": {
        "id": "view-in-github",
        "colab_type": "text"
      },
      "source": [
        "<a href=\"https://colab.research.google.com/github/yingzibu/drug_design_JAK/blob/main/MTATFP_prediction.ipynb\" target=\"_parent\"><img src=\"https://colab.research.google.com/assets/colab-badge.svg\" alt=\"Open In Colab\"/></a>"
      ]
    },
    {
      "cell_type": "markdown",
      "source": [
        "MTATFP trained by original author using model saved in their github, here set as GPU"
      ],
      "metadata": {
        "id": "U8MZkShS51fb"
      }
    },
    {
      "cell_type": "code",
      "execution_count": 1,
      "metadata": {
        "colab": {
          "base_uri": "https://localhost:8080/"
        },
        "id": "FqQ0HKpd50DT",
        "outputId": "b1d438b4-bfa3-4088-f4ac-56faaa7e787d"
      },
      "outputs": [
        {
          "output_type": "stream",
          "name": "stdout",
          "text": [
            "Mounted at /content/drive\n"
          ]
        }
      ],
      "source": [
        "from google.colab import drive\n",
        "drive.mount('/content/drive')"
      ]
    },
    {
      "cell_type": "code",
      "source": [
        "!pip install pubchempy --quiet\n",
        "!pip install transformers --quiet\n",
        "!pip install cairosvg --quiet\n",
        "!pip install varname --quiet\n",
        "!pip install Cython --quiet\n",
        "!pip install rdkit --quiet\n",
        "# !pip install molsets --quiet\n",
        "!pip install pathlib --quiet\n",
        "!pip install xgboost==1.6.1 --quiet\n",
        "!pip install dgllife --quiet\n",
        "!pip install molvs --quiet\n",
        "\n",
        "# !pip install dgl==1.1 --quiet # cpu version, usable for calculation\n",
        "\n",
        "!pip uninstall dgl -y # dgl cuda version for training using gpu\n",
        "!pip install  dgl -f https://data.dgl.ai/wheels/cu118/repo.html --quiet\n",
        "!pip install  dglgo -f https://data.dgl.ai/wheels-test/repo.html --quiet\n",
        "\n",
        "!python --version\n",
        "import torch\n",
        "print('torch version: ', torch.__version__)\n",
        "print('cuda available: ', torch.cuda.is_available())\n",
        "import dgl\n",
        "print('dgl version: ', dgl.__version__)\n",
        "import dgllife\n",
        "print('dgllife version: ', dgllife.__version__)\n",
        "import rdkit\n",
        "print('rdkit version: ', rdkit.__version__)\n",
        "import molvs\n",
        "print('molvs version: ', molvs.__version__)\n",
        "import matplotlib\n",
        "print('matplotlib version: ', matplotlib.__version__)"
      ],
      "metadata": {
        "id": "pHRyCzRo6sra"
      },
      "execution_count": null,
      "outputs": []
    },
    {
      "cell_type": "code",
      "source": [
        "cd /content/drive/MyDrive/A_JAK_design"
      ],
      "metadata": {
        "colab": {
          "base_uri": "https://localhost:8080/"
        },
        "id": "NQ2D75Mg6S6N",
        "outputId": "66719d22-a5ec-4bd9-92bd-c04e82025132"
      },
      "execution_count": 1,
      "outputs": [
        {
          "output_type": "stream",
          "name": "stdout",
          "text": [
            "/content/drive/MyDrive/A_JAK_design\n"
          ]
        }
      ]
    },
    {
      "cell_type": "code",
      "source": [
        "from help_function.function import *\n",
        "from help_function.jak_dataset import *"
      ],
      "metadata": {
        "id": "b0hOBwZu6Vwt"
      },
      "execution_count": 2,
      "outputs": []
    },
    {
      "cell_type": "code",
      "source": [
        "from MTATFP.MTATFP_predict import *"
      ],
      "metadata": {
        "id": "NzZpQKZC9qAv"
      },
      "execution_count": 3,
      "outputs": []
    },
    {
      "cell_type": "code",
      "source": [
        "data_path = '/content/drive/MyDrive/A_JAK_design/Data/data_label_0.25/'\n",
        "for enzyme in ['JAK1']:\n",
        "    for file_type in ['valid']:\n",
        "        file_name = enzyme + '_' + file_type + '.csv'\n",
        "        data = pd.read_csv(data_path + file_name)\n",
        "        # df = MTATFP_predict(data['SMILES'])\n",
        "        # print(data['SMILES'])\n",
        "_, binary_df = MTATFP_predict(data['SMILES'], convert_binary=True)\n",
        "enzymes = ['JAK1', 'JAK2', 'JAK3', 'TYK2']\n",
        "l = ['SMILES'] + [enzyme +'_pred' for enzyme in enzymes]\n",
        "binary_df[l]"
      ],
      "metadata": {
        "colab": {
          "base_uri": "https://localhost:8080/"
        },
        "id": "4GlBvO1592cW",
        "outputId": "b276e9b5-2a85-4362-8272-c367fdf2a108"
      },
      "execution_count": 6,
      "outputs": [
        {
          "output_type": "stream",
          "name": "stdout",
          "text": [
            "bins/  folder is in directory:  True\n",
            "Processing dgl graphs from scratch...\n",
            "ExTest sets:  874\n"
          ]
        },
        {
          "output_type": "execute_result",
          "data": {
            "text/plain": [
              "['SMILES', 'JAK1_pred', 'JAK2_pred', 'JAK3_pred', 'TYK2_pred']"
            ]
          },
          "metadata": {},
          "execution_count": 6
        }
      ]
    },
    {
      "cell_type": "code",
      "source": [
        "# import pandas as pd\n",
        "# import numpy as np\n",
        "# import matplotlib.pyplot as plt\n",
        "# import torch\n",
        "# from torch.utils.data import DataLoader\n",
        "# from dgllife.model import model_zoo\n",
        "# from dgllife.utils import smiles_to_bigraph\n",
        "# from dgllife.utils import AttentiveFPAtomFeaturizer\n",
        "# from dgllife.utils import AttentiveFPBondFeaturizer\n",
        "# from dgllife.data import MoleculeCSVDataset\n",
        "# import dgl\n",
        "# import matplotlib\n",
        "# import matplotlib.cm as cm\n",
        "# from IPython.display import SVG, display\n",
        "# from rdkit import Chem\n",
        "# from rdkit.Chem import rdDepictor\n",
        "# from rdkit.Chem.Draw import rdMolDraw2D\n",
        "# from datetime import datetime\n",
        "# import os\n",
        "# import math\n",
        "\n",
        "# if torch.cuda.is_available():\n",
        "#     # print('use GPU')\n",
        "#     device = 'cuda'\n",
        "# else:\n",
        "#     # print('use CPU')\n",
        "#     device = 'cpu'\n",
        "\n",
        "\n",
        "# def handle_less_symbol(a_string):\n",
        "# #     l = a_string.split()\n",
        "#     s = a_string[1:]\n",
        "#     try:\n",
        "#         s = int(s)\n",
        "#         return s\n",
        "#     except:\n",
        "#         print('cannot convert s')\n",
        "#         return s\n",
        "\n",
        "# def threshold_IC50(row, enzyme, thres=250):\n",
        "#     num = row[enzyme]\n",
        "#     if isinstance(num, str):\n",
        "#         try:\n",
        "#             num = float(num)\n",
        "#         except: num = handle_less_symbol(num)\n",
        "#     try:\n",
        "#         if num > thres: return 0 # noninhibitor\n",
        "#         else: return 1\n",
        "#     except: # <500 type, cannot convert\n",
        "#         print('error', num)\n",
        "\n",
        "# # !cd /Users/uranaieiko_1/Desktop/JAK_design/MTATFP/Data\n",
        "\n",
        "\n",
        "# def create_path(path):\n",
        "#     # Check whether the specified path exists or not\n",
        "#     isExist = os.path.exists(path)\n",
        "#     #printing if the path exists or not\n",
        "#     # print(path, ' folder is in directory: ', isExist)\n",
        "#     if not isExist:\n",
        "#     # Create a new directory because it does not exist\n",
        "#         os.makedirs(path)\n",
        "#         print(path, \" is created!\")\n",
        "\n",
        "# def collate_molgraphs(data):\n",
        "#     assert len(data[0]) in [3, 4], \\\n",
        "#         'Expect the tuple to be of length 3 or 4, got {:d}'.format(len(data[0]))\n",
        "#     if len(data[0]) == 3:\n",
        "#         smiles, graphs, labels = map(list, zip(*data))\n",
        "#         masks = None\n",
        "#     else:\n",
        "#         smiles, graphs, labels, masks = map(list, zip(*data))\n",
        "\n",
        "#     bg = dgl.batch(graphs)\n",
        "#     bg.set_n_initializer(dgl.init.zero_initializer)\n",
        "#     bg.set_e_initializer(dgl.init.zero_initializer)\n",
        "#     labels = torch.stack(labels, dim=0)\n",
        "\n",
        "#     if masks is None:\n",
        "#         masks = torch.ones(labels.shape)\n",
        "#     else:\n",
        "#         masks = torch.stack(masks, dim=0)\n",
        "#     return smiles, bg, labels, masks\n",
        "\n",
        "\n",
        "# def MTATFP_predict(df_smiles, savename=None, save_path='prediction/',\n",
        "#                    convert_binary=False, thres_CoGT=250,\n",
        "#                    model_file='model/MTATFP_jak.pt'):\n",
        "#     now = datetime.now() # current date and time\n",
        "#     date_time = now.strftime(\"%m_%d_%Y__%H:%M:%S\")\n",
        "#     bin_path = 'bins/'\n",
        "#     create_path(bin_path)\n",
        "#     cache_file_path = bin_path + date_time + '.bin'\n",
        "\n",
        "#     atom_featurizer = AttentiveFPAtomFeaturizer(atom_data_field='hv')\n",
        "#     bond_featurizer = AttentiveFPBondFeaturizer(bond_data_field='he')\n",
        "#     n_feats = atom_featurizer.feat_size('hv')\n",
        "#     e_feats = bond_featurizer.feat_size('he')\n",
        "\n",
        "#     data_df = pd.DataFrame()\n",
        "#     data_df['SMILES'] = df_smiles\n",
        "\n",
        "#     for task_name in ['pIC50_JAK1','pIC50_JAK2','pIC50_JAK3','pIC50_TYK2']:\n",
        "#         data_df[task_name] = 888888888888888 # Random num\n",
        "\n",
        "#     extest_datasets = MoleculeCSVDataset(data_df,\n",
        "#                             smiles_to_graph=smiles_to_bigraph,\n",
        "#                             node_featurizer=atom_featurizer,\n",
        "#                             edge_featurizer= bond_featurizer,\n",
        "#                             smiles_column='SMILES',\n",
        "#                             cache_file_path=cache_file_path,\n",
        "#                             task_names=['pIC50_JAK1','pIC50_JAK2',\n",
        "#                                         'pIC50_JAK3','pIC50_TYK2'],\n",
        "#                             load=True,init_mask=True\n",
        "#                             )\n",
        "\n",
        "#     print('ExTest sets: ',len(extest_datasets))\n",
        "\n",
        "#     fn = model_file\n",
        "#     model = model_zoo.AttentiveFPPredictor(node_feat_size=n_feats,\n",
        "#                                     edge_feat_size=e_feats,\n",
        "#                                     num_layers=2,\n",
        "#                                     num_timesteps=1,\n",
        "#                                     graph_feat_size=300,\n",
        "#                                     n_tasks=4,\n",
        "#                                         )\n",
        "#     model.load_state_dict(torch.load(fn,map_location=torch.device(device)))\n",
        "\n",
        "#     for i in range(len(data_df)):\n",
        "#         smiles, g, label, _ = extest_datasets[i]\n",
        "#         g = dgl.batch([g])\n",
        "#         atom_feats, bond_feats = g.ndata.pop('hv'), g.edata.pop('he')\n",
        "#         preds, _ = model(g, atom_feats, bond_feats, get_node_weight=True)\n",
        "#         jak_list = [round(10**(-1.0 * i), 4) for i in preds[0].tolist()]\n",
        "#         for enzyme, ic50 in zip(['JAK1', 'JAK2', 'JAK3', 'TYK2'], jak_list):\n",
        "#             data_df.loc[i, enzyme] = ic50\n",
        "#     # print(data_df[['SMILES', 'JAK1', 'JAK2', 'JAK3', 'TYK2']])\n",
        "#     data_df = data_df[['SMILES', 'JAK1', 'JAK2', 'JAK3', 'TYK2']]\n",
        "#     if savename != None:\n",
        "#         # save_path = 'prediction/'\n",
        "#         create_path(save_path)\n",
        "#         print('Data saved in ', save_path + savename)\n",
        "#         data_df.to_csv(save_path+savename, index=False)\n",
        "#     if convert_binary == True:\n",
        "#         new_df = pd.DataFrame()\n",
        "#         for enzyme in ['JAK1', 'JAK2', 'JAK3', 'TYK2']:\n",
        "#             new_df['SMILES'] = data_df['SMILES']\n",
        "#             new_df[enzyme] = data_df[enzyme]\n",
        "#             new_df[enzyme+'_pred'] = data_df.apply(\n",
        "#                     lambda row: threshold_IC50(row, enzyme, thres_CoGT), axis=1)\n",
        "#         print(f'Data processed for CoGT binary ({thres_CoGT}nM) saved in ',\n",
        "#                   save_path+f'for_CoGT_{thres_CoGT}nM_'+savename)\n",
        "#         new_df.to_csv(save_path+f'for_CoGT_{thres_CoGT}nM_'+savename,\n",
        "#                       index=False)\n",
        "#     return data_df\n",
        "\n",
        "# # EXAMPLE\n",
        "# # Only need Smiles column\n",
        "# # MTATFP_pred(data_test['SMILES'])\n",
        "\n",
        "# # def MTATFP_pred(df_smiles, savename=None, save_path='prediction/',\n",
        "# #                 convert_binary=False, thres_CoGT=250):\n",
        "\n",
        "# # model_path = '../CoGT_0.25uM/model_0.25nM_data_train_same_MTATFP/'\n",
        "# # data_path = '../CoGT_0.25uM/Data_MTATFP/data_label_0.25/'\n",
        "# # save_path_MTATFP = data_path +'pred_MTATFP/'\n",
        "\n",
        "# # data_path_MACCS = data_path + 'MACCS/'\n",
        "# # from os import walk\n",
        "# for enzyme in ['JAK1', 'JAK2', 'JAK3', 'TYK2']:\n",
        "#     for file_type in ['valid', 'test']:\n",
        "#         file_name = enzyme + '_' + file_type + '.csv'\n",
        "#         data = pd.read_csv(data_path + file_name)\n",
        "#         df = MTATFP_predict(data['SMILES'])\n",
        "#         # print(data['SMILES'])\n",
        "\n",
        "\n"
      ],
      "metadata": {
        "id": "kAQQeGM77yum"
      },
      "execution_count": null,
      "outputs": []
    }
  ]
}
