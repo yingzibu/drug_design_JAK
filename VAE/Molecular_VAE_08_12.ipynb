{
  "nbformat": 4,
  "nbformat_minor": 0,
  "metadata": {
    "colab": {
      "name": "Molecular-VAE-final",
      "provenance": [],
      "include_colab_link": true
    },
    "kernelspec": {
      "name": "python2",
      "display_name": "Python 2"
    },
    "accelerator": "GPU"
  },
  "cells": [
    {
      "cell_type": "markdown",
      "metadata": {
        "id": "view-in-github",
        "colab_type": "text"
      },
      "source": [
        "<a href=\"https://colab.research.google.com/github/yingzibu/drug_design_JAK/blob/main/VAE/Molecular_VAE_08_12.ipynb\" target=\"_parent\"><img src=\"https://colab.research.google.com/assets/colab-badge.svg\" alt=\"Open In Colab\"/></a>"
      ]
    },
    {
      "cell_type": "code",
      "source": [
        "!git clone https://github.com/aksub99/molecular-vae.git"
      ],
      "metadata": {
        "colab": {
          "base_uri": "https://localhost:8080/"
        },
        "id": "385cqdgAkOzX",
        "outputId": "e856e686-c579-4693-954e-a361e442e1e9"
      },
      "execution_count": 1,
      "outputs": [
        {
          "output_type": "stream",
          "name": "stdout",
          "text": [
            "Cloning into 'molecular-vae'...\n",
            "remote: Enumerating objects: 188, done.\u001b[K\n",
            "remote: Counting objects: 100% (3/3), done.\u001b[K\n",
            "remote: Compressing objects: 100% (3/3), done.\u001b[K\n",
            "remote: Total 188 (delta 0), reused 0 (delta 0), pack-reused 185\u001b[K\n",
            "Receiving objects: 100% (188/188), 2.99 MiB | 19.00 MiB/s, done.\n",
            "Resolving deltas: 100% (95/95), done.\n"
          ]
        }
      ]
    },
    {
      "cell_type": "code",
      "metadata": {
        "id": "oZ7Cl9tzTCl-"
      },
      "source": [
        "import torch\n",
        "import torch.nn as nn\n",
        "import torch.nn.functional as F\n",
        "import torch.utils.data\n",
        "import gzip\n",
        "import pandas\n",
        "import h5py\n",
        "import numpy as np\n",
        "from __future__ import print_function\n",
        "import argparse\n",
        "import os\n",
        "import h5py\n",
        "import torch.optim as optim\n",
        "from torch.optim.lr_scheduler import ReduceLROnPlateau\n",
        "from sklearn import model_selection"
      ],
      "execution_count": 2,
      "outputs": []
    },
    {
      "cell_type": "code",
      "metadata": {
        "id": "7aXdqRqQTLEX"
      },
      "source": [
        "def one_hot_array(i, n):\n",
        "    return map(int, [ix == i for ix in xrange(n)])\n",
        "\n",
        "def one_hot_index(vec, charset):\n",
        "    return map(charset.index, vec)\n",
        "\n",
        "def from_one_hot_array(vec):\n",
        "    oh = np.where(vec == 1)\n",
        "    if oh[0].shape == (0, ):\n",
        "        return None\n",
        "    return int(oh[0][0])\n",
        "\n",
        "def decode_smiles_from_indexes(vec, charset):\n",
        "    return \"\".join(map(lambda x: charset[x], vec)).strip()\n",
        "\n",
        "def load_dataset(filename, split = True):\n",
        "    h5f = h5py.File(filename, 'r')\n",
        "    if split:\n",
        "        data_train = h5f['data_train'][:]\n",
        "    else:\n",
        "        data_train = None\n",
        "    data_test = h5f['data_test'][:]\n",
        "    charset =  h5f['charset'][:]\n",
        "    h5f.close()\n",
        "    if split:\n",
        "        return (data_train, data_test, charset)\n",
        "    else:\n",
        "        return (data_test, charset)\n"
      ],
      "execution_count": 3,
      "outputs": []
    },
    {
      "cell_type": "code",
      "metadata": {
        "id": "HGAirp3UUDmt"
      },
      "source": [
        "class MolecularVAE(nn.Module):\n",
        "    def __init__(self):\n",
        "        super(MolecularVAE, self).__init__()\n",
        "\n",
        "        self.conv_1 = nn.Conv1d(120, 9, kernel_size=9)\n",
        "        self.conv_2 = nn.Conv1d(9, 9, kernel_size=9)\n",
        "        self.conv_3 = nn.Conv1d(9, 10, kernel_size=11)\n",
        "        self.linear_0 = nn.Linear(70, 435)\n",
        "        self.linear_1 = nn.Linear(435, 292)\n",
        "        self.linear_2 = nn.Linear(435, 292)\n",
        "\n",
        "        self.linear_3 = nn.Linear(292, 292)\n",
        "        self.gru = nn.GRU(292, 501, 3, batch_first=True)\n",
        "        self.linear_4 = nn.Linear(501, 33)\n",
        "\n",
        "        self.relu = nn.ReLU()\n",
        "        self.softmax = nn.Softmax()\n",
        "\n",
        "    def encode(self, x):\n",
        "        x = self.relu(self.conv_1(x))\n",
        "        x = self.relu(self.conv_2(x))\n",
        "        x = self.relu(self.conv_3(x))\n",
        "        x = x.view(x.size(0), -1)\n",
        "        x = F.selu(self.linear_0(x))\n",
        "        return self.linear_1(x), self.linear_2(x)\n",
        "\n",
        "    def sampling(self, z_mean, z_logvar):\n",
        "        epsilon = 1e-2 * torch.randn_like(z_logvar)\n",
        "        return torch.exp(0.5 * z_logvar) * epsilon + z_mean\n",
        "\n",
        "    def decode(self, z):\n",
        "        z = F.selu(self.linear_3(z))\n",
        "        z = z.view(z.size(0), 1, z.size(-1)).repeat(1, 120, 1)\n",
        "        output, hn = self.gru(z)\n",
        "        out_reshape = output.contiguous().view(-1, output.size(-1))\n",
        "        y0 = F.softmax(self.linear_4(out_reshape), dim=1)\n",
        "        y = y0.contiguous().view(output.size(0), -1, y0.size(-1))\n",
        "        return y\n",
        "\n",
        "    def forward(self, x):\n",
        "        z_mean, z_logvar = self.encode(x)\n",
        "        z = self.sampling(z_mean, z_logvar)\n",
        "        return self.decode(z), z_mean, z_logvar"
      ],
      "execution_count": 4,
      "outputs": []
    },
    {
      "cell_type": "code",
      "metadata": {
        "id": "psCpULS_AQMg",
        "outputId": "2d9adadc-3954-49dd-dc76-4a9dcd51a5fa",
        "colab": {
          "base_uri": "https://localhost:8080/"
        }
      },
      "source": [
        "!rm -R 'molecular-vae'\n",
        "!git clone https://github.com/aksub99/molecular-vae.git\n",
        "import zipfile\n",
        "zip_ref = zipfile.ZipFile('molecular-vae/data/processed.zip', 'r')\n",
        "zip_ref.extractall('molecular-vae/data/')\n",
        "zip_ref.close()\n"
      ],
      "execution_count": 5,
      "outputs": [
        {
          "output_type": "stream",
          "name": "stdout",
          "text": [
            "Cloning into 'molecular-vae'...\n",
            "remote: Enumerating objects: 188, done.\u001b[K\n",
            "remote: Counting objects: 100% (3/3), done.\u001b[K\n",
            "remote: Compressing objects: 100% (3/3), done.\u001b[K\n",
            "remote: Total 188 (delta 0), reused 0 (delta 0), pack-reused 185\u001b[K\n",
            "Receiving objects: 100% (188/188), 2.99 MiB | 18.42 MiB/s, done.\n",
            "Resolving deltas: 100% (95/95), done.\n"
          ]
        }
      ]
    },
    {
      "cell_type": "code",
      "metadata": {
        "id": "5r0gV2l-AtAS",
        "outputId": "d8b74484-239e-443f-fb75-e540fbb19f22",
        "colab": {
          "base_uri": "https://localhost:8080/"
        }
      },
      "source": [
        "def vae_loss(x_decoded_mean, x, z_mean, z_logvar):\n",
        "    xent_loss = F.binary_cross_entropy(x_decoded_mean, x, size_average=False)\n",
        "    kl_loss = -0.5 * torch.sum(1 + z_logvar - z_mean.pow(2) - z_logvar.exp())\n",
        "    return xent_loss + kl_loss\n",
        "\n",
        "data_train, data_test, charset = load_dataset('molecular-vae/data/processed.h5')\n",
        "data_train = torch.utils.data.TensorDataset(torch.from_numpy(data_train))\n",
        "train_loader = torch.utils.data.DataLoader(data_train, batch_size=250, shuffle=True)\n",
        "\n",
        "torch.manual_seed(42)\n",
        "\n",
        "epochs = 30\n",
        "device = 'cuda' if torch.cuda.is_available() else 'cpu'\n",
        "\n",
        "model = MolecularVAE().to(device)\n",
        "optimizer = optim.Adam(model.parameters())\n",
        "\n"
      ],
      "execution_count": 7,
      "outputs": [
        {
          "output_type": "stream",
          "name": "stderr",
          "text": [
            "/usr/local/lib/python3.10/dist-packages/torch/nn/_reduction.py:42: UserWarning: size_average and reduce args will be deprecated, please use reduction='sum' instead.\n",
            "  warnings.warn(warning.format(ret))\n"
          ]
        },
        {
          "output_type": "stream",
          "name": "stdout",
          "text": [
            "train tensor(150.5092, device='cuda:0', grad_fn=<DivBackward0>)\n",
            "train tensor(121.8401, device='cuda:0', grad_fn=<DivBackward0>)\n",
            "train tensor(119.2447, device='cuda:0', grad_fn=<DivBackward0>)\n",
            "train tensor(116.9999, device='cuda:0', grad_fn=<DivBackward0>)\n",
            "train tensor(113.8947, device='cuda:0', grad_fn=<DivBackward0>)\n",
            "train tensor(112.4204, device='cuda:0', grad_fn=<DivBackward0>)\n",
            "train tensor(108.3538, device='cuda:0', grad_fn=<DivBackward0>)\n",
            "train tensor(103.4096, device='cuda:0', grad_fn=<DivBackward0>)\n",
            "train tensor(100.6264, device='cuda:0', grad_fn=<DivBackward0>)\n",
            "train tensor(96.4871, device='cuda:0', grad_fn=<DivBackward0>)\n",
            "train tensor(92.8389, device='cuda:0', grad_fn=<DivBackward0>)\n",
            "train tensor(90.3792, device='cuda:0', grad_fn=<DivBackward0>)\n",
            "train tensor(87.2286, device='cuda:0', grad_fn=<DivBackward0>)\n",
            "train tensor(84.0872, device='cuda:0', grad_fn=<DivBackward0>)\n",
            "train tensor(82.5107, device='cuda:0', grad_fn=<DivBackward0>)\n",
            "train tensor(80.5589, device='cuda:0', grad_fn=<DivBackward0>)\n",
            "train tensor(78.5103, device='cuda:0', grad_fn=<DivBackward0>)\n",
            "train tensor(76.4546, device='cuda:0', grad_fn=<DivBackward0>)\n",
            "train tensor(75.3407, device='cuda:0', grad_fn=<DivBackward0>)\n",
            "train tensor(73.8857, device='cuda:0', grad_fn=<DivBackward0>)\n",
            "train tensor(71.8710, device='cuda:0', grad_fn=<DivBackward0>)\n",
            "train tensor(70.4723, device='cuda:0', grad_fn=<DivBackward0>)\n",
            "train tensor(68.1489, device='cuda:0', grad_fn=<DivBackward0>)\n",
            "train tensor(67.1055, device='cuda:0', grad_fn=<DivBackward0>)\n",
            "train tensor(66.7255, device='cuda:0', grad_fn=<DivBackward0>)\n",
            "train tensor(64.5506, device='cuda:0', grad_fn=<DivBackward0>)\n",
            "train tensor(63.4395, device='cuda:0', grad_fn=<DivBackward0>)\n",
            "train tensor(62.6806, device='cuda:0', grad_fn=<DivBackward0>)\n",
            "train tensor(61.6429, device='cuda:0', grad_fn=<DivBackward0>)\n",
            "train tensor(60.4569, device='cuda:0', grad_fn=<DivBackward0>)\n"
          ]
        }
      ]
    },
    {
      "cell_type": "code",
      "source": [
        "data_test = torch.utils.data.TensorDataset(torch.from_numpy(data_test))\n",
        "test_loader = torch.utils.data.DataLoader(data_test, batch_size=250, shuffle=True)\n"
      ],
      "metadata": {
        "id": "FDelpDgarh5N"
      },
      "execution_count": 11,
      "outputs": []
    },
    {
      "cell_type": "code",
      "metadata": {
        "id": "WuPZnm-aYPLu",
        "colab": {
          "base_uri": "https://localhost:8080/",
          "height": 1000
        },
        "outputId": "98a44168-056d-407e-e226-bb99b02c4675"
      },
      "source": [
        "def train(epoch):\n",
        "    model.train()\n",
        "    train_loss = 0\n",
        "    for batch_idx, data in tqdm(enumerate(train_loader),\n",
        "                                total=len(train_loader)):\n",
        "        data = data[0].to(device)\n",
        "        optimizer.zero_grad()\n",
        "        output, mean, logvar = model(data)\n",
        "\n",
        "        # if batch_idx==0:\n",
        "        #       inp = data.cpu().numpy()\n",
        "        #       outp = output.cpu().detach().numpy()\n",
        "        #       lab = data.cpu().numpy()\n",
        "            #   print(\"Input:\")\n",
        "            #   print(decode_smiles_from_indexes(map(from_one_hot_array, inp[0]), charset))\n",
        "            #   print(\"Label:\")\n",
        "            #   print(decode_smiles_from_indexes(map(from_one_hot_array, lab[0]), charset))\n",
        "            #   sampled = outp[0].reshape(1, 120, len(charset)).argmax(axis=2)[0]\n",
        "            #   print(\"Output:\")\n",
        "            #   print(decode_smiles_from_indexes(sampled, charset))\n",
        "\n",
        "        loss = vae_loss(output, data, mean, logvar)\n",
        "        loss.backward()\n",
        "        train_loss += loss\n",
        "        optimizer.step()\n",
        "#         if batch_idx % 100 == 0:\n",
        "#             print(f'{epoch} / {batch_idx}\\t{loss:.4f}')\n",
        "    train_loss_ave = (train_loss / len(train_loader.dataset)).item()\n",
        "    print(f'epoch: {epoch} \\t train: {train_loss_ave:.3f}')\n",
        "    return train_loss_ave\n",
        "\n",
        "for epoch in range(1, epochs + 1):\n",
        "    train_loss = train(epoch)\n",
        "    if epoch % 5 == 0:\n",
        "        model.eval()\n",
        "        test_loss = 0\n",
        "        for data in test_loader:\n",
        "            data = data[0].to(device)\n",
        "            output, mean, logvar = model(data)\n",
        "            loss = vae_loss(output, data, mean, logvar)\n",
        "            test_loss += loss.item()\n",
        "        test_loss_ave = test_loss/ len(test_loader.dataset)\n",
        "        print(f'---> test: {test_loss_ave:.3f}')"
      ],
      "execution_count": 12,
      "outputs": [
        {
          "output_type": "stream",
          "name": "stderr",
          "text": [
            "100%|██████████| 160/160 [00:46<00:00,  3.46it/s]\n"
          ]
        },
        {
          "output_type": "stream",
          "name": "stdout",
          "text": [
            "epoch: 1 \t train: 58.550\n"
          ]
        },
        {
          "output_type": "stream",
          "name": "stderr",
          "text": [
            "100%|██████████| 160/160 [00:48<00:00,  3.29it/s]\n"
          ]
        },
        {
          "output_type": "stream",
          "name": "stdout",
          "text": [
            "epoch: 2 \t train: 58.633\n"
          ]
        },
        {
          "output_type": "stream",
          "name": "stderr",
          "text": [
            "100%|██████████| 160/160 [00:49<00:00,  3.21it/s]\n"
          ]
        },
        {
          "output_type": "stream",
          "name": "stdout",
          "text": [
            "epoch: 3 \t train: 56.752\n"
          ]
        },
        {
          "output_type": "stream",
          "name": "stderr",
          "text": [
            "100%|██████████| 160/160 [00:51<00:00,  3.11it/s]\n"
          ]
        },
        {
          "output_type": "stream",
          "name": "stdout",
          "text": [
            "epoch: 4 \t train: 56.621\n"
          ]
        },
        {
          "output_type": "stream",
          "name": "stderr",
          "text": [
            "100%|██████████| 160/160 [00:51<00:00,  3.08it/s]\n"
          ]
        },
        {
          "output_type": "stream",
          "name": "stdout",
          "text": [
            "epoch: 5 \t train: 55.079\n",
            "epoch: 5 \t test: 57.013\n"
          ]
        },
        {
          "output_type": "stream",
          "name": "stderr",
          "text": [
            "100%|██████████| 160/160 [00:52<00:00,  3.03it/s]\n"
          ]
        },
        {
          "output_type": "stream",
          "name": "stdout",
          "text": [
            "epoch: 6 \t train: 54.707\n"
          ]
        },
        {
          "output_type": "stream",
          "name": "stderr",
          "text": [
            "100%|██████████| 160/160 [00:53<00:00,  3.00it/s]\n"
          ]
        },
        {
          "output_type": "stream",
          "name": "stdout",
          "text": [
            "epoch: 7 \t train: 54.062\n"
          ]
        },
        {
          "output_type": "stream",
          "name": "stderr",
          "text": [
            "100%|██████████| 160/160 [00:53<00:00,  3.01it/s]\n"
          ]
        },
        {
          "output_type": "stream",
          "name": "stdout",
          "text": [
            "epoch: 8 \t train: 52.772\n"
          ]
        },
        {
          "output_type": "stream",
          "name": "stderr",
          "text": [
            "100%|██████████| 160/160 [00:53<00:00,  2.99it/s]\n"
          ]
        },
        {
          "output_type": "stream",
          "name": "stdout",
          "text": [
            "epoch: 9 \t train: 52.833\n"
          ]
        },
        {
          "output_type": "stream",
          "name": "stderr",
          "text": [
            "100%|██████████| 160/160 [00:53<00:00,  2.99it/s]\n"
          ]
        },
        {
          "output_type": "stream",
          "name": "stdout",
          "text": [
            "epoch: 10 \t train: 51.365\n",
            "epoch: 10 \t test: 53.268\n"
          ]
        },
        {
          "output_type": "stream",
          "name": "stderr",
          "text": [
            "100%|██████████| 160/160 [00:53<00:00,  3.00it/s]\n"
          ]
        },
        {
          "output_type": "stream",
          "name": "stdout",
          "text": [
            "epoch: 11 \t train: 51.057\n"
          ]
        },
        {
          "output_type": "stream",
          "name": "stderr",
          "text": [
            "100%|██████████| 160/160 [00:53<00:00,  2.98it/s]\n"
          ]
        },
        {
          "output_type": "stream",
          "name": "stdout",
          "text": [
            "epoch: 12 \t train: 50.588\n"
          ]
        },
        {
          "output_type": "stream",
          "name": "stderr",
          "text": [
            "100%|██████████| 160/160 [00:53<00:00,  2.99it/s]\n"
          ]
        },
        {
          "output_type": "stream",
          "name": "stdout",
          "text": [
            "epoch: 13 \t train: 49.439\n"
          ]
        },
        {
          "output_type": "stream",
          "name": "stderr",
          "text": [
            "100%|██████████| 160/160 [00:53<00:00,  3.00it/s]\n"
          ]
        },
        {
          "output_type": "stream",
          "name": "stdout",
          "text": [
            "epoch: 14 \t train: 49.266\n"
          ]
        },
        {
          "output_type": "stream",
          "name": "stderr",
          "text": [
            "100%|██████████| 160/160 [00:53<00:00,  3.00it/s]\n"
          ]
        },
        {
          "output_type": "stream",
          "name": "stdout",
          "text": [
            "epoch: 15 \t train: 48.283\n",
            "epoch: 15 \t test: 49.809\n"
          ]
        },
        {
          "output_type": "stream",
          "name": "stderr",
          "text": [
            "100%|██████████| 160/160 [00:53<00:00,  2.99it/s]\n"
          ]
        },
        {
          "output_type": "stream",
          "name": "stdout",
          "text": [
            "epoch: 16 \t train: 47.658\n"
          ]
        },
        {
          "output_type": "stream",
          "name": "stderr",
          "text": [
            "100%|██████████| 160/160 [00:53<00:00,  2.98it/s]\n"
          ]
        },
        {
          "output_type": "stream",
          "name": "stdout",
          "text": [
            "epoch: 17 \t train: 47.545\n"
          ]
        },
        {
          "output_type": "stream",
          "name": "stderr",
          "text": [
            "100%|██████████| 160/160 [00:53<00:00,  2.98it/s]\n"
          ]
        },
        {
          "output_type": "stream",
          "name": "stdout",
          "text": [
            "epoch: 18 \t train: 46.927\n"
          ]
        },
        {
          "output_type": "stream",
          "name": "stderr",
          "text": [
            "100%|██████████| 160/160 [00:53<00:00,  2.99it/s]\n"
          ]
        },
        {
          "output_type": "stream",
          "name": "stdout",
          "text": [
            "epoch: 19 \t train: 46.180\n"
          ]
        },
        {
          "output_type": "stream",
          "name": "stderr",
          "text": [
            "100%|██████████| 160/160 [00:53<00:00,  3.00it/s]\n"
          ]
        },
        {
          "output_type": "stream",
          "name": "stdout",
          "text": [
            "epoch: 20 \t train: 45.808\n",
            "epoch: 20 \t test: 51.120\n"
          ]
        },
        {
          "output_type": "stream",
          "name": "stderr",
          "text": [
            " 29%|██▉       | 47/160 [00:15<00:38,  2.97it/s]\n"
          ]
        },
        {
          "output_type": "error",
          "ename": "KeyboardInterrupt",
          "evalue": "ignored",
          "traceback": [
            "\u001b[0;31m---------------------------------------------------------------------------\u001b[0m",
            "\u001b[0;31mKeyboardInterrupt\u001b[0m                         Traceback (most recent call last)",
            "\u001b[0;32m<ipython-input-12-01c544fa2e8e>\u001b[0m in \u001b[0;36m<cell line: 32>\u001b[0;34m()\u001b[0m\n\u001b[1;32m     31\u001b[0m \u001b[0;34m\u001b[0m\u001b[0m\n\u001b[1;32m     32\u001b[0m \u001b[0;32mfor\u001b[0m \u001b[0mepoch\u001b[0m \u001b[0;32min\u001b[0m \u001b[0mrange\u001b[0m\u001b[0;34m(\u001b[0m\u001b[0;36m1\u001b[0m\u001b[0;34m,\u001b[0m \u001b[0mepochs\u001b[0m \u001b[0;34m+\u001b[0m \u001b[0;36m1\u001b[0m\u001b[0;34m)\u001b[0m\u001b[0;34m:\u001b[0m\u001b[0;34m\u001b[0m\u001b[0;34m\u001b[0m\u001b[0m\n\u001b[0;32m---> 33\u001b[0;31m     \u001b[0mtrain_loss\u001b[0m \u001b[0;34m=\u001b[0m \u001b[0mtrain\u001b[0m\u001b[0;34m(\u001b[0m\u001b[0mepoch\u001b[0m\u001b[0;34m)\u001b[0m\u001b[0;34m\u001b[0m\u001b[0;34m\u001b[0m\u001b[0m\n\u001b[0m\u001b[1;32m     34\u001b[0m     \u001b[0;32mif\u001b[0m \u001b[0mepoch\u001b[0m \u001b[0;34m%\u001b[0m \u001b[0;36m5\u001b[0m \u001b[0;34m==\u001b[0m \u001b[0;36m0\u001b[0m\u001b[0;34m:\u001b[0m\u001b[0;34m\u001b[0m\u001b[0;34m\u001b[0m\u001b[0m\n\u001b[1;32m     35\u001b[0m         \u001b[0mmodel\u001b[0m\u001b[0;34m.\u001b[0m\u001b[0meval\u001b[0m\u001b[0;34m(\u001b[0m\u001b[0;34m)\u001b[0m\u001b[0;34m\u001b[0m\u001b[0;34m\u001b[0m\u001b[0m\n",
            "\u001b[0;32m<ipython-input-12-01c544fa2e8e>\u001b[0m in \u001b[0;36mtrain\u001b[0;34m(epoch)\u001b[0m\n\u001b[1;32m      4\u001b[0m     for batch_idx, data in tqdm(enumerate(train_loader),\n\u001b[1;32m      5\u001b[0m                                 total=len(train_loader)):\n\u001b[0;32m----> 6\u001b[0;31m         \u001b[0mdata\u001b[0m \u001b[0;34m=\u001b[0m \u001b[0mdata\u001b[0m\u001b[0;34m[\u001b[0m\u001b[0;36m0\u001b[0m\u001b[0;34m]\u001b[0m\u001b[0;34m.\u001b[0m\u001b[0mto\u001b[0m\u001b[0;34m(\u001b[0m\u001b[0mdevice\u001b[0m\u001b[0;34m)\u001b[0m\u001b[0;34m\u001b[0m\u001b[0;34m\u001b[0m\u001b[0m\n\u001b[0m\u001b[1;32m      7\u001b[0m         \u001b[0moptimizer\u001b[0m\u001b[0;34m.\u001b[0m\u001b[0mzero_grad\u001b[0m\u001b[0;34m(\u001b[0m\u001b[0;34m)\u001b[0m\u001b[0;34m\u001b[0m\u001b[0;34m\u001b[0m\u001b[0m\n\u001b[1;32m      8\u001b[0m         \u001b[0moutput\u001b[0m\u001b[0;34m,\u001b[0m \u001b[0mmean\u001b[0m\u001b[0;34m,\u001b[0m \u001b[0mlogvar\u001b[0m \u001b[0;34m=\u001b[0m \u001b[0mmodel\u001b[0m\u001b[0;34m(\u001b[0m\u001b[0mdata\u001b[0m\u001b[0;34m)\u001b[0m\u001b[0;34m\u001b[0m\u001b[0;34m\u001b[0m\u001b[0m\n",
            "\u001b[0;31mKeyboardInterrupt\u001b[0m: "
          ]
        }
      ]
    },
    {
      "cell_type": "code",
      "source": [
        "from tqdm import tqdm"
      ],
      "metadata": {
        "id": "i56PiGvhq-bS"
      },
      "execution_count": 9,
      "outputs": []
    },
    {
      "cell_type": "code",
      "source": [
        "from google.colab import drive\n",
        "drive.mount('/content/drive')"
      ],
      "metadata": {
        "id": "sGOIl-Cuwmxz",
        "outputId": "5ebddf70-7e51-493d-aa3e-c7196d2d3aed",
        "colab": {
          "base_uri": "https://localhost:8080/"
        }
      },
      "execution_count": 13,
      "outputs": [
        {
          "output_type": "stream",
          "name": "stdout",
          "text": [
            "Mounted at /content/drive\n"
          ]
        }
      ]
    },
    {
      "cell_type": "code",
      "source": [
        "model_path = '/content/drive/MyDrive/A_MODEL/'\n",
        "torch.save(model.state_dict(), model_path + 'molecular_vae.pt')"
      ],
      "metadata": {
        "id": "LTbAanmprKJp"
      },
      "execution_count": 14,
      "outputs": []
    },
    {
      "cell_type": "code",
      "source": [
        "device = 'cuda' if torch.cuda.is_available() else 'cpu'\n",
        "\n",
        "new_model = MolecularVAE().to(device)\n",
        "\n",
        "new_model.load_state_dict(\n",
        "    torch.load(model_path + 'molecular_vae.pt', map_location=device))"
      ],
      "metadata": {
        "id": "LOBNK3lww6XF",
        "outputId": "399a7ade-cf57-417a-8751-0a16a93e1637",
        "colab": {
          "base_uri": "https://localhost:8080/"
        }
      },
      "execution_count": 15,
      "outputs": [
        {
          "output_type": "execute_result",
          "data": {
            "text/plain": [
              "<All keys matched successfully>"
            ]
          },
          "metadata": {},
          "execution_count": 15
        }
      ]
    },
    {
      "cell_type": "code",
      "source": [
        "out, _, _ = new_model(data)"
      ],
      "metadata": {
        "id": "GeQlB8M6xNLe"
      },
      "execution_count": 19,
      "outputs": []
    },
    {
      "cell_type": "code",
      "source": [
        "out"
      ],
      "metadata": {
        "id": "JIhLvQlfxQYx",
        "outputId": "0c4516d2-6719-456d-b63c-194d336d637c",
        "colab": {
          "base_uri": "https://localhost:8080/"
        }
      },
      "execution_count": 20,
      "outputs": [
        {
          "output_type": "execute_result",
          "data": {
            "text/plain": [
              "tensor([[[5.4096e-07, 1.0412e-07, 5.4472e-09,  ..., 8.4929e-05,\n",
              "          6.2793e-07, 1.2037e-08],\n",
              "         [2.9618e-10, 2.0860e-09, 1.4107e-11,  ..., 1.2346e-06,\n",
              "          3.5226e-09, 8.5170e-11],\n",
              "         [7.4817e-08, 1.5796e-08, 2.3645e-08,  ..., 1.1548e-04,\n",
              "          1.3735e-06, 9.4557e-10],\n",
              "         ...,\n",
              "         [1.0000e+00, 1.3209e-11, 1.9228e-07,  ..., 2.0136e-09,\n",
              "          6.2736e-10, 2.5125e-07],\n",
              "         [1.0000e+00, 1.3220e-11, 1.9203e-07,  ..., 2.0081e-09,\n",
              "          6.2752e-10, 2.5210e-07],\n",
              "         [1.0000e+00, 1.3231e-11, 1.9179e-07,  ..., 2.0026e-09,\n",
              "          6.2769e-10, 2.5295e-07]],\n",
              "\n",
              "        [[1.4093e-07, 3.6667e-08, 4.5289e-09,  ..., 1.1878e-04,\n",
              "          1.4396e-07, 1.5581e-07],\n",
              "         [1.0326e-10, 8.3842e-10, 2.4133e-11,  ..., 1.3853e-06,\n",
              "          1.1530e-09, 9.9782e-10],\n",
              "         [1.1565e-07, 3.0004e-08, 6.4888e-07,  ..., 1.1290e-03,\n",
              "          5.1325e-06, 5.9770e-08],\n",
              "         ...,\n",
              "         [1.0000e+00, 2.6433e-11, 6.9490e-08,  ..., 3.3360e-09,\n",
              "          1.2160e-09, 1.3968e-08],\n",
              "         [1.0000e+00, 2.6458e-11, 6.9726e-08,  ..., 3.3303e-09,\n",
              "          1.2170e-09, 1.4027e-08],\n",
              "         [1.0000e+00, 2.6481e-11, 6.9958e-08,  ..., 3.3246e-09,\n",
              "          1.2178e-09, 1.4084e-08]],\n",
              "\n",
              "        [[3.6111e-06, 2.5568e-05, 1.0441e-06,  ..., 1.4138e-04,\n",
              "          7.9890e-06, 1.5271e-06],\n",
              "         [3.1585e-06, 3.4864e-05, 1.6157e-06,  ..., 1.5290e-03,\n",
              "          1.9210e-07, 4.7294e-06],\n",
              "         [6.8103e-08, 4.8118e-08, 1.5427e-08,  ..., 3.4940e-04,\n",
              "          6.2326e-07, 3.8694e-08],\n",
              "         ...,\n",
              "         [1.0000e+00, 2.2555e-11, 1.2394e-07,  ..., 1.2563e-08,\n",
              "          6.0221e-10, 4.1334e-08],\n",
              "         [1.0000e+00, 2.2550e-11, 1.2375e-07,  ..., 1.2511e-08,\n",
              "          6.0061e-10, 4.1461e-08],\n",
              "         [1.0000e+00, 2.2545e-11, 1.2357e-07,  ..., 1.2460e-08,\n",
              "          5.9905e-10, 4.1585e-08]],\n",
              "\n",
              "        ...,\n",
              "\n",
              "        [[1.9040e-06, 1.4064e-05, 2.7850e-07,  ..., 7.4290e-05,\n",
              "          5.5506e-07, 3.4080e-08],\n",
              "         [5.6299e-07, 1.0659e-05, 2.2797e-07,  ..., 2.0675e-04,\n",
              "          1.7439e-08, 7.6055e-08],\n",
              "         [1.3172e-07, 1.0249e-07, 3.3330e-08,  ..., 3.1526e-04,\n",
              "          2.6328e-07, 3.4603e-09],\n",
              "         ...,\n",
              "         [9.9999e-01, 4.5944e-13, 8.0648e-08,  ..., 1.5890e-06,\n",
              "          2.4489e-09, 5.4904e-09],\n",
              "         [9.9999e-01, 4.5852e-13, 8.0579e-08,  ..., 1.5848e-06,\n",
              "          2.4544e-09, 5.5044e-09],\n",
              "         [9.9999e-01, 4.5761e-13, 8.0511e-08,  ..., 1.5807e-06,\n",
              "          2.4601e-09, 5.5183e-09]],\n",
              "\n",
              "        [[3.6385e-07, 4.6130e-07, 6.0515e-09,  ..., 3.6761e-05,\n",
              "          6.3080e-07, 1.0700e-07],\n",
              "         [2.5896e-10, 3.5699e-09, 1.6053e-11,  ..., 3.7588e-07,\n",
              "          2.5155e-09, 8.6412e-10],\n",
              "         [2.8391e-08, 5.4860e-09, 2.7617e-08,  ..., 2.2667e-05,\n",
              "          2.1630e-07, 5.2536e-09],\n",
              "         ...,\n",
              "         [1.0000e+00, 3.6700e-12, 5.6934e-08,  ..., 6.2671e-09,\n",
              "          3.6819e-09, 2.4705e-09],\n",
              "         [1.0000e+00, 3.6620e-12, 5.6857e-08,  ..., 6.2639e-09,\n",
              "          3.6871e-09, 2.4861e-09],\n",
              "         [1.0000e+00, 3.6543e-12, 5.6781e-08,  ..., 6.2606e-09,\n",
              "          3.6923e-09, 2.5016e-09]],\n",
              "\n",
              "        [[4.1450e-07, 1.7055e-07, 5.6805e-08,  ..., 6.0745e-06,\n",
              "          7.3818e-08, 3.0498e-07],\n",
              "         [1.9790e-07, 1.3735e-07, 1.8992e-09,  ..., 2.6288e-04,\n",
              "          1.2618e-07, 8.6439e-07],\n",
              "         [1.8038e-10, 5.5931e-11, 6.6043e-11,  ..., 8.2851e-07,\n",
              "          6.7136e-09, 1.1070e-09],\n",
              "         ...,\n",
              "         [1.0000e+00, 2.3875e-11, 1.8656e-07,  ..., 1.7154e-09,\n",
              "          3.6171e-10, 1.3635e-08],\n",
              "         [1.0000e+00, 2.3935e-11, 1.8668e-07,  ..., 1.7142e-09,\n",
              "          3.6109e-10, 1.3684e-08],\n",
              "         [1.0000e+00, 2.3994e-11, 1.8681e-07,  ..., 1.7130e-09,\n",
              "          3.6047e-10, 1.3732e-08]]], device='cuda:0', grad_fn=<ViewBackward0>)"
            ]
          },
          "metadata": {},
          "execution_count": 20
        }
      ]
    },
    {
      "cell_type": "code",
      "source": [],
      "metadata": {
        "id": "ZH76EGoMxVKQ"
      },
      "execution_count": null,
      "outputs": []
    }
  ]
}