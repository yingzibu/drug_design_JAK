{
  "nbformat": 4,
  "nbformat_minor": 0,
  "metadata": {
    "colab": {
      "provenance": [],
      "authorship_tag": "ABX9TyOa/dkHBSJ6BE4YMAm0fuJ5",
      "include_colab_link": true
    },
    "kernelspec": {
      "name": "python3",
      "display_name": "Python 3"
    },
    "language_info": {
      "name": "python"
    }
  },
  "cells": [
    {
      "cell_type": "markdown",
      "metadata": {
        "id": "view-in-github",
        "colab_type": "text"
      },
      "source": [
        "<a href=\"https://colab.research.google.com/github/yingzibu/drug_design_JAK/blob/main/VAE/vae_exploration_.ipynb\" target=\"_parent\"><img src=\"https://colab.research.google.com/assets/colab-badge.svg\" alt=\"Open In Colab\"/></a>"
      ]
    },
    {
      "cell_type": "code",
      "execution_count": null,
      "metadata": {
        "id": "9VkoObOyjd6I"
      },
      "outputs": [],
      "source": [
        "!pip install selfies"
      ]
    },
    {
      "cell_type": "markdown",
      "source": [
        "https://github.com/aspuru-guzik-group/selfies\n",
        "\n",
        "https://colab.research.google.com/github/mert-kurttutan/torchview/blob/main/docs/docs/tutorial/notebook/example_introduction.ipynb\n",
        "\n",
        "https://appsilon.com/visualize-pytorch-neural-networks/\n",
        "\n",
        "https://github.com/Ishan-Kumar2/Molecular_VAE_Pytorch\n",
        "\n"
      ],
      "metadata": {
        "id": "XSBWD0esjgZS"
      }
    },
    {
      "cell_type": "code",
      "source": [
        "import selfies as sf\n",
        "dataset = [\"[C][O][C]\", \"[F][C][F]\", \"[O][=O]\", \"[C][C][O][C][C]\"]\n",
        "alphabet = sf.get_alphabet_from_selfies(dataset)\n",
        "alphabet.add(\"[nop]\")  # [nop] is a special padding symbol\n",
        "alphabet = list(sorted(alphabet))  # ['[=O]', '[C]', '[F]', '[O]', '[nop]']\n",
        "\n",
        "pad_to_len = max(sf.len_selfies(s) for s in dataset)  # 5\n",
        "print('max len of drug in dataset: ', pad_to_len)\n",
        "symbol_to_idx = {s: i for i, s in enumerate(alphabet)}\n",
        "\n",
        "dimethyl_ether = dataset[0]  # [C][O][C]\n",
        "\n",
        "label, one_hot = sf.selfies_to_encoding(\n",
        "   selfies=dimethyl_ether,\n",
        "   vocab_stoi=symbol_to_idx,\n",
        "   pad_to_len=pad_to_len,\n",
        "   enc_type=\"both\"\n",
        ")"
      ],
      "metadata": {
        "colab": {
          "base_uri": "https://localhost:8080/"
        },
        "id": "ahbql_A9kRU4",
        "outputId": "8c682f6e-1f10-4c39-d2f8-c3260f5850e1"
      },
      "execution_count": 3,
      "outputs": [
        {
          "output_type": "stream",
          "name": "stdout",
          "text": [
            "max len of drug in dataset:  5\n"
          ]
        }
      ]
    },
    {
      "cell_type": "code",
      "source": [
        "! pip install -q torchview --quiet\n",
        "! pip install -q -U graphviz --quiet"
      ],
      "metadata": {
        "id": "LbF_EaqskVQe"
      },
      "execution_count": 4,
      "outputs": []
    },
    {
      "cell_type": "code",
      "source": [
        "from torchview import draw_graph\n",
        "from torch import nn\n",
        "import torch\n",
        "import graphviz\n",
        "\n",
        "# when running on VSCode run the below command\n",
        "# svg format on vscode does not give desired result\n",
        "graphviz.set_jupyter_format('png')"
      ],
      "metadata": {
        "colab": {
          "base_uri": "https://localhost:8080/",
          "height": 35
        },
        "id": "NphH9-TbkfcE",
        "outputId": "8e46ce70-51e3-4433-cd5c-500fc69ac0d2"
      },
      "execution_count": 5,
      "outputs": [
        {
          "output_type": "execute_result",
          "data": {
            "text/plain": [
              "'svg'"
            ],
            "application/vnd.google.colaboratory.intrinsic+json": {
              "type": "string"
            }
          },
          "metadata": {},
          "execution_count": 5
        }
      ]
    },
    {
      "cell_type": "code",
      "source": [
        "class MLP(nn.Module):\n",
        "    \"\"\"Multi Layer Perceptron with inplace option.\n",
        "    Make sure inplace=true and false has the same visual graph\"\"\"\n",
        "    def __init__(self, in_dim, out_dim, inplace: bool = True) -> None:\n",
        "        super().__init__()\n",
        "        self.layers = nn.Sequential(\n",
        "            nn.Linear(in_dim, 128),\n",
        "            nn.ReLU(inplace),\n",
        "            nn.Linear(128, out_dim),\n",
        "        )\n",
        "\n",
        "    def forward(self, x: torch.Tensor) -> torch.Tensor:\n",
        "        x = self.layers(x)\n",
        "        return x\n",
        "\n",
        "model_graph_1 = draw_graph(\n",
        "    MLP(pad_to_len, pad_to_len, True), input_size=(pad_to_len, ),\n",
        "    graph_name='MLP',\n",
        "    hide_inner_tensors=False,\n",
        "    hide_module_functions=False,\n",
        ")\n",
        "model_graph_1.visual_graph"
      ],
      "metadata": {
        "colab": {
          "base_uri": "https://localhost:8080/",
          "height": 654
        },
        "id": "bI1_F0WQkpkg",
        "outputId": "9353f83a-d92b-4ed9-8776-0969a5a101eb"
      },
      "execution_count": 12,
      "outputs": [
        {
          "output_type": "execute_result",
          "data": {
            "image/png": "[encoded data removed]",
            "text/plain": [
              "<graphviz.graphs.Digraph at 0x7b9b68823370>"
            ]
          },
          "metadata": {},
          "execution_count": 12
        }
      ]
    },
    {
      "cell_type": "code",
      "source": [],
      "metadata": {
        "id": "RiGahaktkxBC"
      },
      "execution_count": null,
      "outputs": []
    }
  ]
}