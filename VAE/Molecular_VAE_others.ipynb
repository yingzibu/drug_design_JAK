{
  "nbformat": 4,
  "nbformat_minor": 0,
  "metadata": {
    "colab": {
      "name": "Molecular-VAE-final",
      "provenance": [],
      "include_colab_link": true
    },
    "kernelspec": {
      "name": "python2",
      "display_name": "Python 2"
    },
    "accelerator": "GPU"
  },
  "cells": [
    {
      "cell_type": "markdown",
      "metadata": {
        "id": "view-in-github",
        "colab_type": "text"
      },
      "source": [
        "<a href=\"https://colab.research.google.com/github/yingzibu/drug_design_JAK/blob/main/VAE/Molecular_VAE_others.ipynb\" target=\"_parent\"><img src=\"https://colab.research.google.com/assets/colab-badge.svg\" alt=\"Open In Colab\"/></a>"
      ]
    },
    {
      "cell_type": "code",
      "source": [
        "!git clone https://github.com/aksub99/molecular-vae.git"
      ],
      "metadata": {
        "id": "385cqdgAkOzX",
        "outputId": "e856e686-c579-4693-954e-a361e442e1e9",
        "colab": {
          "base_uri": "https://localhost:8080/"
        }
      },
      "execution_count": 1,
      "outputs": [
        {
          "output_type": "stream",
          "name": "stdout",
          "text": [
            "Cloning into 'molecular-vae'...\n",
            "remote: Enumerating objects: 188, done.\u001b[K\n",
            "remote: Counting objects: 100% (3/3), done.\u001b[K\n",
            "remote: Compressing objects: 100% (3/3), done.\u001b[K\n",
            "remote: Total 188 (delta 0), reused 0 (delta 0), pack-reused 185\u001b[K\n",
            "Receiving objects: 100% (188/188), 2.99 MiB | 19.00 MiB/s, done.\n",
            "Resolving deltas: 100% (95/95), done.\n"
          ]
        }
      ]
    },
    {
      "cell_type": "code",
      "metadata": {
        "id": "oZ7Cl9tzTCl-"
      },
      "source": [
        "import torch\n",
        "import torch.nn as nn\n",
        "import torch.nn.functional as F\n",
        "import torch.utils.data\n",
        "import gzip\n",
        "import pandas\n",
        "import h5py\n",
        "import numpy as np\n",
        "from __future__ import print_function\n",
        "import argparse\n",
        "import os\n",
        "import h5py\n",
        "import torch.optim as optim\n",
        "from torch.optim.lr_scheduler import ReduceLROnPlateau\n",
        "from sklearn import model_selection"
      ],
      "execution_count": 2,
      "outputs": []
    },
    {
      "cell_type": "code",
      "metadata": {
        "id": "7aXdqRqQTLEX"
      },
      "source": [
        "def one_hot_array(i, n):\n",
        "    return map(int, [ix == i for ix in xrange(n)])\n",
        "\n",
        "def one_hot_index(vec, charset):\n",
        "    return map(charset.index, vec)\n",
        "\n",
        "def from_one_hot_array(vec):\n",
        "    oh = np.where(vec == 1)\n",
        "    if oh[0].shape == (0, ):\n",
        "        return None\n",
        "    return int(oh[0][0])\n",
        "\n",
        "def decode_smiles_from_indexes(vec, charset):\n",
        "    return \"\".join(map(lambda x: charset[x], vec)).strip()\n",
        "\n",
        "def load_dataset(filename, split = True):\n",
        "    h5f = h5py.File(filename, 'r')\n",
        "    if split:\n",
        "        data_train = h5f['data_train'][:]\n",
        "    else:\n",
        "        data_train = None\n",
        "    data_test = h5f['data_test'][:]\n",
        "    charset =  h5f['charset'][:]\n",
        "    h5f.close()\n",
        "    if split:\n",
        "        return (data_train, data_test, charset)\n",
        "    else:\n",
        "        return (data_test, charset)\n"
      ],
      "execution_count": 3,
      "outputs": []
    },
    {
      "cell_type": "code",
      "metadata": {
        "id": "HGAirp3UUDmt"
      },
      "source": [
        "class MolecularVAE(nn.Module):\n",
        "    def __init__(self):\n",
        "        super(MolecularVAE, self).__init__()\n",
        "\n",
        "        self.conv_1 = nn.Conv1d(120, 9, kernel_size=9)\n",
        "        self.conv_2 = nn.Conv1d(9, 9, kernel_size=9)\n",
        "        self.conv_3 = nn.Conv1d(9, 10, kernel_size=11)\n",
        "        self.linear_0 = nn.Linear(70, 435)\n",
        "        self.linear_1 = nn.Linear(435, 292)\n",
        "        self.linear_2 = nn.Linear(435, 292)\n",
        "\n",
        "        self.linear_3 = nn.Linear(292, 292)\n",
        "        self.gru = nn.GRU(292, 501, 3, batch_first=True)\n",
        "        self.linear_4 = nn.Linear(501, 33)\n",
        "\n",
        "        self.relu = nn.ReLU()\n",
        "        self.softmax = nn.Softmax()\n",
        "\n",
        "    def encode(self, x):\n",
        "        x = self.relu(self.conv_1(x))\n",
        "        x = self.relu(self.conv_2(x))\n",
        "        x = self.relu(self.conv_3(x))\n",
        "        x = x.view(x.size(0), -1)\n",
        "        x = F.selu(self.linear_0(x))\n",
        "        return self.linear_1(x), self.linear_2(x)\n",
        "\n",
        "    def sampling(self, z_mean, z_logvar):\n",
        "        epsilon = 1e-2 * torch.randn_like(z_logvar)\n",
        "        return torch.exp(0.5 * z_logvar) * epsilon + z_mean\n",
        "\n",
        "    def decode(self, z):\n",
        "        z = F.selu(self.linear_3(z))\n",
        "        z = z.view(z.size(0), 1, z.size(-1)).repeat(1, 120, 1)\n",
        "        output, hn = self.gru(z)\n",
        "        out_reshape = output.contiguous().view(-1, output.size(-1))\n",
        "        y0 = F.softmax(self.linear_4(out_reshape), dim=1)\n",
        "        y = y0.contiguous().view(output.size(0), -1, y0.size(-1))\n",
        "        return y\n",
        "\n",
        "    def forward(self, x):\n",
        "        z_mean, z_logvar = self.encode(x)\n",
        "        z = self.sampling(z_mean, z_logvar)\n",
        "        return self.decode(z), z_mean, z_logvar"
      ],
      "execution_count": 4,
      "outputs": []
    },
    {
      "cell_type": "code",
      "metadata": {
        "id": "psCpULS_AQMg",
        "outputId": "2d9adadc-3954-49dd-dc76-4a9dcd51a5fa",
        "colab": {
          "base_uri": "https://localhost:8080/"
        }
      },
      "source": [
        "!rm -R 'molecular-vae'\n",
        "!git clone https://github.com/aksub99/molecular-vae.git\n",
        "import zipfile\n",
        "zip_ref = zipfile.ZipFile('molecular-vae/data/processed.zip', 'r')\n",
        "zip_ref.extractall('molecular-vae/data/')\n",
        "zip_ref.close()\n"
      ],
      "execution_count": 5,
      "outputs": [
        {
          "output_type": "stream",
          "name": "stdout",
          "text": [
            "Cloning into 'molecular-vae'...\n",
            "remote: Enumerating objects: 188, done.\u001b[K\n",
            "remote: Counting objects: 100% (3/3), done.\u001b[K\n",
            "remote: Compressing objects: 100% (3/3), done.\u001b[K\n",
            "remote: Total 188 (delta 0), reused 0 (delta 0), pack-reused 185\u001b[K\n",
            "Receiving objects: 100% (188/188), 2.99 MiB | 18.42 MiB/s, done.\n",
            "Resolving deltas: 100% (95/95), done.\n"
          ]
        }
      ]
    },
    {
      "cell_type": "code",
      "metadata": {
        "id": "5r0gV2l-AtAS",
        "outputId": "d8b74484-239e-443f-fb75-e540fbb19f22",
        "colab": {
          "base_uri": "https://localhost:8080/"
        }
      },
      "source": [
        "def vae_loss(x_decoded_mean, x, z_mean, z_logvar):\n",
        "    xent_loss = F.binary_cross_entropy(x_decoded_mean, x, size_average=False)\n",
        "    kl_loss = -0.5 * torch.sum(1 + z_logvar - z_mean.pow(2) - z_logvar.exp())\n",
        "    return xent_loss + kl_loss\n",
        "\n",
        "data_train, data_test, charset = load_dataset('molecular-vae/data/processed.h5')\n",
        "data_train = torch.utils.data.TensorDataset(torch.from_numpy(data_train))\n",
        "train_loader = torch.utils.data.DataLoader(data_train, batch_size=250, shuffle=True)\n",
        "\n",
        "torch.manual_seed(42)\n",
        "\n",
        "epochs = 30\n",
        "device = 'cuda' if torch.cuda.is_available() else 'cpu'\n",
        "\n",
        "model = MolecularVAE().to(device)\n",
        "optimizer = optim.Adam(model.parameters())\n",
        "\n"
      ],
      "execution_count": 7,
      "outputs": [
        {
          "output_type": "stream",
          "name": "stderr",
          "text": [
            "/usr/local/lib/python3.10/dist-packages/torch/nn/_reduction.py:42: UserWarning: size_average and reduce args will be deprecated, please use reduction='sum' instead.\n",
            "  warnings.warn(warning.format(ret))\n"
          ]
        },
        {
          "output_type": "stream",
          "name": "stdout",
          "text": [
            "train tensor(150.5092, device='cuda:0', grad_fn=<DivBackward0>)\n",
            "train tensor(121.8401, device='cuda:0', grad_fn=<DivBackward0>)\n",
            "train tensor(119.2447, device='cuda:0', grad_fn=<DivBackward0>)\n",
            "train tensor(116.9999, device='cuda:0', grad_fn=<DivBackward0>)\n",
            "train tensor(113.8947, device='cuda:0', grad_fn=<DivBackward0>)\n",
            "train tensor(112.4204, device='cuda:0', grad_fn=<DivBackward0>)\n",
            "train tensor(108.3538, device='cuda:0', grad_fn=<DivBackward0>)\n",
            "train tensor(103.4096, device='cuda:0', grad_fn=<DivBackward0>)\n",
            "train tensor(100.6264, device='cuda:0', grad_fn=<DivBackward0>)\n",
            "train tensor(96.4871, device='cuda:0', grad_fn=<DivBackward0>)\n",
            "train tensor(92.8389, device='cuda:0', grad_fn=<DivBackward0>)\n",
            "train tensor(90.3792, device='cuda:0', grad_fn=<DivBackward0>)\n",
            "train tensor(87.2286, device='cuda:0', grad_fn=<DivBackward0>)\n",
            "train tensor(84.0872, device='cuda:0', grad_fn=<DivBackward0>)\n",
            "train tensor(82.5107, device='cuda:0', grad_fn=<DivBackward0>)\n",
            "train tensor(80.5589, device='cuda:0', grad_fn=<DivBackward0>)\n",
            "train tensor(78.5103, device='cuda:0', grad_fn=<DivBackward0>)\n",
            "train tensor(76.4546, device='cuda:0', grad_fn=<DivBackward0>)\n",
            "train tensor(75.3407, device='cuda:0', grad_fn=<DivBackward0>)\n",
            "train tensor(73.8857, device='cuda:0', grad_fn=<DivBackward0>)\n",
            "train tensor(71.8710, device='cuda:0', grad_fn=<DivBackward0>)\n",
            "train tensor(70.4723, device='cuda:0', grad_fn=<DivBackward0>)\n",
            "train tensor(68.1489, device='cuda:0', grad_fn=<DivBackward0>)\n",
            "train tensor(67.1055, device='cuda:0', grad_fn=<DivBackward0>)\n",
            "train tensor(66.7255, device='cuda:0', grad_fn=<DivBackward0>)\n",
            "train tensor(64.5506, device='cuda:0', grad_fn=<DivBackward0>)\n",
            "train tensor(63.4395, device='cuda:0', grad_fn=<DivBackward0>)\n",
            "train tensor(62.6806, device='cuda:0', grad_fn=<DivBackward0>)\n",
            "train tensor(61.6429, device='cuda:0', grad_fn=<DivBackward0>)\n",
            "train tensor(60.4569, device='cuda:0', grad_fn=<DivBackward0>)\n"
          ]
        }
      ]
    },
    {
      "cell_type": "code",
      "source": [
        "data_test = torch.utils.data.TensorDataset(torch.from_numpy(data_test))\n",
        "test_loader = torch.utils.data.DataLoader(data_test, batch_size=250, shuffle=True)\n"
      ],
      "metadata": {
        "id": "FDelpDgarh5N"
      },
      "execution_count": 11,
      "outputs": []
    },
    {
      "cell_type": "code",
      "metadata": {
        "id": "WuPZnm-aYPLu",
        "colab": {
          "base_uri": "https://localhost:8080/"
        },
        "outputId": "98a44168-056d-407e-e226-bb99b02c4675"
      },
      "source": [
        "def train(epoch):\n",
        "    model.train()\n",
        "    train_loss = 0\n",
        "    for batch_idx, data in tqdm(enumerate(train_loader),\n",
        "                                total=len(train_loader)):\n",
        "        data = data[0].to(device)\n",
        "        optimizer.zero_grad()\n",
        "        output, mean, logvar = model(data)\n",
        "\n",
        "        # if batch_idx==0:\n",
        "        #       inp = data.cpu().numpy()\n",
        "        #       outp = output.cpu().detach().numpy()\n",
        "        #       lab = data.cpu().numpy()\n",
        "            #   print(\"Input:\")\n",
        "            #   print(decode_smiles_from_indexes(map(from_one_hot_array, inp[0]), charset))\n",
        "            #   print(\"Label:\")\n",
        "            #   print(decode_smiles_from_indexes(map(from_one_hot_array, lab[0]), charset))\n",
        "            #   sampled = outp[0].reshape(1, 120, len(charset)).argmax(axis=2)[0]\n",
        "            #   print(\"Output:\")\n",
        "            #   print(decode_smiles_from_indexes(sampled, charset))\n",
        "\n",
        "        loss = vae_loss(output, data, mean, logvar)\n",
        "        loss.backward()\n",
        "        train_loss += loss\n",
        "        optimizer.step()\n",
        "#         if batch_idx % 100 == 0:\n",
        "#             print(f'{epoch} / {batch_idx}\\t{loss:.4f}')\n",
        "    train_loss_ave = (train_loss / len(train_loader.dataset)).item()\n",
        "    print(f'epoch: {epoch} \\t train: {train_loss_ave:.3f}')\n",
        "    return train_loss_ave\n",
        "\n",
        "for epoch in range(1, epochs + 1):\n",
        "    train_loss = train(epoch)\n",
        "    if epoch % 5 == 0:\n",
        "        model.eval()\n",
        "        test_loss = 0\n",
        "        for data in test_loader:\n",
        "            data = data[0].to(device)\n",
        "            output, mean, logvar = model(data)\n",
        "            loss = vae_loss(output, data, mean, logvar)\n",
        "            test_loss += loss.item()\n",
        "        test_loss_ave = test_loss/ len(test_loader.dataset)\n",
        "        print(f'---> test: {test_loss_ave:.3f}')"
      ],
      "execution_count": null,
      "outputs": [
        {
          "output_type": "stream",
          "name": "stderr",
          "text": [
            "100%|██████████| 160/160 [00:46<00:00,  3.46it/s]\n"
          ]
        },
        {
          "output_type": "stream",
          "name": "stdout",
          "text": [
            "epoch: 1 \t train: 58.550\n"
          ]
        },
        {
          "output_type": "stream",
          "name": "stderr",
          "text": [
            "100%|██████████| 160/160 [00:48<00:00,  3.29it/s]\n"
          ]
        },
        {
          "output_type": "stream",
          "name": "stdout",
          "text": [
            "epoch: 2 \t train: 58.633\n"
          ]
        },
        {
          "output_type": "stream",
          "name": "stderr",
          "text": [
            "100%|██████████| 160/160 [00:49<00:00,  3.21it/s]\n"
          ]
        },
        {
          "output_type": "stream",
          "name": "stdout",
          "text": [
            "epoch: 3 \t train: 56.752\n"
          ]
        },
        {
          "output_type": "stream",
          "name": "stderr",
          "text": [
            "100%|██████████| 160/160 [00:51<00:00,  3.11it/s]\n"
          ]
        },
        {
          "output_type": "stream",
          "name": "stdout",
          "text": [
            "epoch: 4 \t train: 56.621\n"
          ]
        },
        {
          "output_type": "stream",
          "name": "stderr",
          "text": [
            "100%|██████████| 160/160 [00:51<00:00,  3.08it/s]\n"
          ]
        },
        {
          "output_type": "stream",
          "name": "stdout",
          "text": [
            "epoch: 5 \t train: 55.079\n",
            "epoch: 5 \t test: 57.013\n"
          ]
        },
        {
          "output_type": "stream",
          "name": "stderr",
          "text": [
            "100%|██████████| 160/160 [00:52<00:00,  3.03it/s]\n"
          ]
        },
        {
          "output_type": "stream",
          "name": "stdout",
          "text": [
            "epoch: 6 \t train: 54.707\n"
          ]
        },
        {
          "output_type": "stream",
          "name": "stderr",
          "text": [
            "100%|██████████| 160/160 [00:53<00:00,  3.00it/s]\n"
          ]
        },
        {
          "output_type": "stream",
          "name": "stdout",
          "text": [
            "epoch: 7 \t train: 54.062\n"
          ]
        },
        {
          "output_type": "stream",
          "name": "stderr",
          "text": [
            "100%|██████████| 160/160 [00:53<00:00,  3.01it/s]\n"
          ]
        },
        {
          "output_type": "stream",
          "name": "stdout",
          "text": [
            "epoch: 8 \t train: 52.772\n"
          ]
        },
        {
          "output_type": "stream",
          "name": "stderr",
          "text": [
            "100%|██████████| 160/160 [00:53<00:00,  2.99it/s]\n"
          ]
        },
        {
          "output_type": "stream",
          "name": "stdout",
          "text": [
            "epoch: 9 \t train: 52.833\n"
          ]
        },
        {
          "output_type": "stream",
          "name": "stderr",
          "text": [
            "100%|██████████| 160/160 [00:53<00:00,  2.99it/s]\n"
          ]
        },
        {
          "output_type": "stream",
          "name": "stdout",
          "text": [
            "epoch: 10 \t train: 51.365\n",
            "epoch: 10 \t test: 53.268\n"
          ]
        }
      ]
    },
    {
      "cell_type": "code",
      "source": [
        "from tqdm import tqdm"
      ],
      "metadata": {
        "id": "i56PiGvhq-bS"
      },
      "execution_count": 9,
      "outputs": []
    },
    {
      "cell_type": "code",
      "source": [],
      "metadata": {
        "id": "LTbAanmprKJp"
      },
      "execution_count": null,
      "outputs": []
    }
  ]
}