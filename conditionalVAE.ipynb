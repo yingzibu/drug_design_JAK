{
  "nbformat": 4,
  "nbformat_minor": 0,
  "metadata": {
    "colab": {
      "provenance": [],
      "machine_shape": "hm",
      "gpuType": "A100",
      "mount_file_id": "1CK4aM1fkfKabK5faKUavAJ7jBWPvE_R9",
      "authorship_tag": "ABX9TyP5wPldARfksjgLqAwP8k+3",
      "include_colab_link": true
    },
    "kernelspec": {
      "name": "python3",
      "display_name": "Python 3"
    },
    "language_info": {
      "name": "python"
    },
    "accelerator": "GPU"
  },
  "cells": [
    {
      "cell_type": "markdown",
      "metadata": {
        "id": "view-in-github",
        "colab_type": "text"
      },
      "source": [
        "<a href=\"https://colab.research.google.com/github/yingzibu/drug_design_JAK/blob/main/conditionalVAE.ipynb\" target=\"_parent\"><img src=\"https://colab.research.google.com/assets/colab-badge.svg\" alt=\"Open In Colab\"/></a>"
      ]
    },
    {
      "cell_type": "markdown",
      "source": [
        "# Conditional VAE\n",
        "\n",
        "https://github.com/unnir/cVAE/blob/master/cvae.py\n",
        "\n",
        "\n",
        "https://github.com/chendaichao/VAE-pytorch"
      ],
      "metadata": {
        "id": "4DN-VwqSgPYH"
      }
    },
    {
      "cell_type": "code",
      "source": [
        "from google.colab import drive\n",
        "drive.mount('/content/drive')"
      ],
      "metadata": {
        "colab": {
          "base_uri": "https://localhost:8080/"
        },
        "id": "1oyCbHO0di0y",
        "outputId": "cdb6c36a-0240-4fbf-9b2c-2dd57dc311f4"
      },
      "execution_count": 1,
      "outputs": [
        {
          "output_type": "stream",
          "name": "stdout",
          "text": [
            "Drive already mounted at /content/drive; to attempt to forcibly remount, call drive.mount(\"/content/drive\", force_remount=True).\n"
          ]
        }
      ]
    },
    {
      "cell_type": "code",
      "source": [
        "cd /content/drive/MyDrive/A_JAK_design"
      ],
      "metadata": {
        "colab": {
          "base_uri": "https://localhost:8080/"
        },
        "id": "LTmJIyafdxHP",
        "outputId": "6267b4ef-9d89-4cae-eb63-f0f8ea388173"
      },
      "execution_count": 4,
      "outputs": [
        {
          "output_type": "stream",
          "name": "stdout",
          "text": [
            "/content/drive/MyDrive/A_JAK_design\n"
          ]
        }
      ]
    },
    {
      "cell_type": "code",
      "source": [
        "import torch\n",
        "from torch import nn, optim\n",
        "from torch.nn import functional as F\n",
        "from torchvision import datasets, transforms\n",
        "from torchvision.utils import save_image\n",
        "\n",
        "if torch.cuda.is_available():\n",
        "    print('use GPU')\n",
        "    device = 'cuda'\n",
        "else:\n",
        "    print('use CPU')\n",
        "    device = 'cpu'\n",
        "def warn(*args, **kwargs):\n",
        "    pass\n",
        "import warnings\n",
        "warnings.warn = warn\n",
        "\n",
        "# from help_function.jak_dataset import *\n",
        "# from help_function.function import *\n",
        "import os\n",
        "def create_path(path):\n",
        "    # Check whether the specified path exists or not\n",
        "    isExist = os.path.exists(path)\n",
        "    #printing if the path exists or not\n",
        "    print(path, ' folder is in directory: ', isExist)\n",
        "    if not isExist:\n",
        "    # Create a new directory because it does not exist\n",
        "        os.makedirs(path)\n",
        "        print(path, \" is created!\")\n",
        "\n",
        "create_path('../Data')\n",
        "create_path('../Data/Figures')\n"
      ],
      "metadata": {
        "colab": {
          "base_uri": "https://localhost:8080/"
        },
        "id": "IEhPzHLYd0m2",
        "outputId": "e660a6a7-9b35-4176-e98a-27fbd6c685a6"
      },
      "execution_count": 10,
      "outputs": [
        {
          "output_type": "stream",
          "name": "stdout",
          "text": [
            "use GPU\n",
            "../Data  folder is in directory:  True\n",
            "../Data/Figures  folder is in directory:  False\n",
            "../Data/Figures  is created!\n"
          ]
        }
      ]
    },
    {
      "cell_type": "code",
      "source": [
        "def one_hot(labels, class_size):\n",
        "    targets = torch.zeros(labels.size(0), class_size)\n",
        "    for i, label in enumerate(labels):\n",
        "        targets[i, label] = 1\n",
        "    return targets.to(device)\n",
        "\n",
        "class CVAE(nn.Module):\n",
        "    def __init__(self, feature_size, latent_size, class_size):\n",
        "        super(CVAE, self).__init__()\n",
        "        self.feature_size = feature_size\n",
        "        self.latent_size = latent_size\n",
        "        self.class_size = class_size\n",
        "\n",
        "        # encode\n",
        "        self.fc1 = nn.Linear(feature_size + class_size, 400)\n",
        "        self.fc21 = nn.Linear(400, latent_size)\n",
        "        self.fc22 = nn.Linear(400, latent_size)\n",
        "\n",
        "        # decode\n",
        "        self.fc3 = nn.Linear(latent_size + class_size, 400)\n",
        "        self.fc4 = nn.Linear(400, feature_size)\n",
        "\n",
        "        self.elu = nn.ELU()\n",
        "        self.sigmoid = nn.Sigmoid()\n",
        "    def encode(self, x, c): # Q(z|x, c)\n",
        "        # bs: batch_size\n",
        "        # x:  (bs, feature_size)\n",
        "        # c:  (bs, class_size)\n",
        "\n",
        "        # print('x shape: ', x.shape)\n",
        "        # x shape:  torch.Size([64, 784])\n",
        "\n",
        "        inputs = torch.cat([x, c], 1)\n",
        "        # (bs, feature_size + class_size)， （64， 784 + 10）\n",
        "\n",
        "        # print('inputs shape: ', inputs.shape)\n",
        "        # inputs shape:  torch.Size([64, 794])\n",
        "\n",
        "        h1 = self.elu(self.fc1(inputs))\n",
        "        z_mu = self.fc21(h1)\n",
        "        z_var = self.fc22(h1)\n",
        "        return z_mu, z_var\n",
        "\n",
        "    def reparameterize(self, mu, logvar):\n",
        "        std = torch.exp(0.5*logvar)\n",
        "        eps = torch.randn_like(std)\n",
        "        return mu + eps * std\n",
        "\n",
        "    def decode(self, z, c): # P(x|z, c)\n",
        "        # z: (bs, latent_size)\n",
        "        # c: (bs, class_size)\n",
        "        inputs = torch.cat([z, c], 1) # (bs, latent_size + class_size)\n",
        "        h3 = self.elu(self.fc3(inputs))\n",
        "        h4 = self.sigmoid(self.fc4(h3))\n",
        "        return h4\n",
        "\n",
        "    def forward(self, x, c):\n",
        "\n",
        "        # print('before view x shape: ', x.shape)\n",
        "        # before view x shape:  torch.Size([64, 1, 28, 28])\n",
        "\n",
        "        mu, logvar = self.encode(x.view(-1, 28*28), c)\n",
        "        z = self.reparameterize(mu, logvar)\n",
        "        recon_x = self.decode(z, c)\n",
        "        return recon_x, mu, logvar\n",
        "\n",
        "# Reconstruction + KL divergence losses summed over all elements and batch\n",
        "def loss_function(recon_x, x, mu, logvar):\n",
        "    BCE = F.binary_cross_entropy(recon_x, x.view(-1, 28*28), reduction='sum')\n",
        "    KLD = -0.5 * torch.sum(1 + logvar - mu.pow(2) - logvar.exp())\n",
        "    return BCE + KLD"
      ],
      "metadata": {
        "id": "cUCqsBLMgeke"
      },
      "execution_count": 11,
      "outputs": []
    },
    {
      "cell_type": "code",
      "source": [
        "def train(epoch):\n",
        "    model.train()\n",
        "    train_loss = 0\n",
        "    for idx, (data, label) in enumerate(train_loader):\n",
        "        data, label = data.to(device), label.to(device)\n",
        "        label = one_hot(label, 10)\n",
        "\n",
        "        # print('After one hot: ', label.shape) #   torch.Size([64, 10]\n",
        "\n",
        "        recon_batch, mu, logvar = model(data, label)\n",
        "        optimizer.zero_grad()\n",
        "        loss = loss_function(recon_batch, data, mu, logvar)\n",
        "        loss.backward()\n",
        "        train_loss += loss.detach().cpu().numpy()\n",
        "        optimizer.step()\n",
        "\n",
        "        if idx % 200 == 0:\n",
        "            print('Train Epoch: {} [{}/{} ({:.0f}%)]\\tLoss: {:.6f}'.format(\n",
        "                epoch, idx * len(data), len(train_loader.dataset),\n",
        "                100. * idx / len(train_loader), loss.item() / len(data)))\n",
        "\n",
        "    print('====> Epoch: {} Average loss: {:.4f}'.format(\n",
        "          epoch, train_loss / len(train_loader.dataset)))\n",
        "\n",
        "def test(epoch):\n",
        "    model.eval()\n",
        "    test_loss = 0\n",
        "    with torch.no_grad():\n",
        "        for i, (data, labels) in enumerate(test_loader):\n",
        "            data, labels = data.to(device), labels.to(device)\n",
        "            labels = one_hot(labels, 10)\n",
        "            recon_batch, mu, logvar = model(data, labels)\n",
        "            test_loss += loss_function(\n",
        "                recon_batch, data, mu, logvar).detach().cpu().numpy()\n",
        "            if i == 0:\n",
        "                n = min(data.size(0), 5)\n",
        "                comparison = torch.cat([data[:n],\n",
        "                                      recon_batch.view(-1, 1, 28, 28)[:n]])\n",
        "                save_image(comparison.cpu(),\n",
        "                         'reconstruction_' + str(epoch) + '.png', nrow=n)\n",
        "\n",
        "    test_loss /= len(test_loader.dataset)\n",
        "    print('====> Test set loss: {:.4f}'.format(test_loss))\n",
        "\n"
      ],
      "metadata": {
        "id": "sgzbjGWYgf9V"
      },
      "execution_count": 12,
      "outputs": []
    },
    {
      "cell_type": "code",
      "source": [
        "kwargs = {'num_workers':1, 'pin_memory': True}\n",
        "batch_size = 64\n",
        "latent_size = 20\n",
        "epochs = 10\n",
        "train_loader = torch.utils.data.DataLoader(\n",
        "    datasets.MNIST('../Data', train=True, download=True,\n",
        "                        transform=transforms.ToTensor()),\n",
        "        batch_size = batch_size, shuffle=True, **kwargs)\n",
        "test_loader = torch.utils.data.DataLoader(\n",
        "    datasets.MNIST('../Data', train=False, download=True,\n",
        "                        transform=transforms.ToTensor()),\n",
        "        batch_size = batch_size, shuffle=True, **kwargs)\n",
        "\n",
        "# feature_size = 28 * 28, a small figure\n",
        "# class_size = 10, digits 1-10\n",
        "model = CVAE(28*28, latent_size, 10).to(device)\n",
        "optimizer = optim.Adam(model.parameters(), lr=1e-3)\n",
        "\n",
        "for epoch in range(1, epochs + 1):\n",
        "        train(epoch)\n",
        "        test(epoch)\n",
        "        with torch.no_grad():\n",
        "            c = torch.eye(10, 10).cuda()\n",
        "            sample = torch.randn(10, 20).to(device)\n",
        "            sample = model.decode(sample, c).cpu()\n",
        "            save_image(sample.view(10, 1, 28, 28),\n",
        "                       'sample_' + str(epoch) + '.png')"
      ],
      "metadata": {
        "colab": {
          "base_uri": "https://localhost:8080/"
        },
        "id": "0jKnPaMtgi4t",
        "outputId": "9b9ee3db-2290-4bd4-9280-c2412d780153"
      },
      "execution_count": 14,
      "outputs": [
        {
          "output_type": "stream",
          "name": "stdout",
          "text": [
            "Train Epoch: 1 [0/60000 (0%)]\tLoss: 549.735229\n",
            "Train Epoch: 1 [12800/60000 (21%)]\tLoss: 154.628662\n",
            "Train Epoch: 1 [25600/60000 (43%)]\tLoss: 130.576065\n",
            "Train Epoch: 1 [38400/60000 (64%)]\tLoss: 127.276138\n",
            "Train Epoch: 1 [51200/60000 (85%)]\tLoss: 120.162170\n",
            "====> Epoch: 1 Average loss: 143.2693\n",
            "====> Test set loss: 120.1011\n",
            "Train Epoch: 2 [0/60000 (0%)]\tLoss: 123.070877\n",
            "Train Epoch: 2 [12800/60000 (21%)]\tLoss: 113.243027\n",
            "Train Epoch: 2 [25600/60000 (43%)]\tLoss: 117.670616\n",
            "Train Epoch: 2 [38400/60000 (64%)]\tLoss: 111.392296\n",
            "Train Epoch: 2 [51200/60000 (85%)]\tLoss: 110.332146\n",
            "====> Epoch: 2 Average loss: 116.9275\n",
            "====> Test set loss: 112.6314\n",
            "Train Epoch: 3 [0/60000 (0%)]\tLoss: 110.844727\n",
            "Train Epoch: 3 [12800/60000 (21%)]\tLoss: 113.306793\n",
            "Train Epoch: 3 [25600/60000 (43%)]\tLoss: 113.758835\n",
            "Train Epoch: 3 [38400/60000 (64%)]\tLoss: 109.275528\n",
            "Train Epoch: 3 [51200/60000 (85%)]\tLoss: 108.308365\n",
            "====> Epoch: 3 Average loss: 111.6837\n",
            "====> Test set loss: 108.9167\n",
            "Train Epoch: 4 [0/60000 (0%)]\tLoss: 112.709618\n",
            "Train Epoch: 4 [12800/60000 (21%)]\tLoss: 111.820335\n",
            "Train Epoch: 4 [25600/60000 (43%)]\tLoss: 105.747444\n",
            "Train Epoch: 4 [38400/60000 (64%)]\tLoss: 109.955040\n",
            "Train Epoch: 4 [51200/60000 (85%)]\tLoss: 106.598404\n",
            "====> Epoch: 4 Average loss: 108.5511\n",
            "====> Test set loss: 106.3975\n",
            "Train Epoch: 5 [0/60000 (0%)]\tLoss: 103.278481\n",
            "Train Epoch: 5 [12800/60000 (21%)]\tLoss: 103.704353\n",
            "Train Epoch: 5 [25600/60000 (43%)]\tLoss: 102.601883\n",
            "Train Epoch: 5 [38400/60000 (64%)]\tLoss: 106.345459\n",
            "Train Epoch: 5 [51200/60000 (85%)]\tLoss: 106.523743\n",
            "====> Epoch: 5 Average loss: 106.5775\n",
            "====> Test set loss: 105.1081\n",
            "Train Epoch: 6 [0/60000 (0%)]\tLoss: 101.333321\n",
            "Train Epoch: 6 [12800/60000 (21%)]\tLoss: 106.470444\n",
            "Train Epoch: 6 [25600/60000 (43%)]\tLoss: 110.596710\n",
            "Train Epoch: 6 [38400/60000 (64%)]\tLoss: 107.490662\n",
            "Train Epoch: 6 [51200/60000 (85%)]\tLoss: 104.546600\n",
            "====> Epoch: 6 Average loss: 105.2299\n",
            "====> Test set loss: 104.0493\n",
            "Train Epoch: 7 [0/60000 (0%)]\tLoss: 108.683411\n",
            "Train Epoch: 7 [12800/60000 (21%)]\tLoss: 104.604416\n",
            "Train Epoch: 7 [25600/60000 (43%)]\tLoss: 102.631241\n",
            "Train Epoch: 7 [38400/60000 (64%)]\tLoss: 102.726852\n",
            "Train Epoch: 7 [51200/60000 (85%)]\tLoss: 103.482529\n",
            "====> Epoch: 7 Average loss: 104.2675\n",
            "====> Test set loss: 103.3581\n",
            "Train Epoch: 8 [0/60000 (0%)]\tLoss: 101.893204\n",
            "Train Epoch: 8 [12800/60000 (21%)]\tLoss: 106.029327\n",
            "Train Epoch: 8 [25600/60000 (43%)]\tLoss: 101.999771\n",
            "Train Epoch: 8 [38400/60000 (64%)]\tLoss: 105.294922\n",
            "Train Epoch: 8 [51200/60000 (85%)]\tLoss: 94.800278\n",
            "====> Epoch: 8 Average loss: 103.5014\n",
            "====> Test set loss: 102.7383\n",
            "Train Epoch: 9 [0/60000 (0%)]\tLoss: 100.169441\n",
            "Train Epoch: 9 [12800/60000 (21%)]\tLoss: 106.230148\n",
            "Train Epoch: 9 [25600/60000 (43%)]\tLoss: 100.331329\n",
            "Train Epoch: 9 [38400/60000 (64%)]\tLoss: 103.474037\n",
            "Train Epoch: 9 [51200/60000 (85%)]\tLoss: 103.125221\n",
            "====> Epoch: 9 Average loss: 102.9101\n",
            "====> Test set loss: 102.1490\n",
            "Train Epoch: 10 [0/60000 (0%)]\tLoss: 99.452530\n",
            "Train Epoch: 10 [12800/60000 (21%)]\tLoss: 101.735771\n",
            "Train Epoch: 10 [25600/60000 (43%)]\tLoss: 103.743263\n",
            "Train Epoch: 10 [38400/60000 (64%)]\tLoss: 102.157829\n",
            "Train Epoch: 10 [51200/60000 (85%)]\tLoss: 105.086563\n",
            "====> Epoch: 10 Average loss: 102.4457\n",
            "====> Test set loss: 101.6548\n"
          ]
        }
      ]
    },
    {
      "cell_type": "code",
      "execution_count": 3,
      "metadata": {
        "id": "m2N4AHQRddfY"
      },
      "outputs": [],
      "source": [
        "# !pip install pubchempy --quiet\n",
        "# !pip install transformers --quiet\n",
        "# !pip install cairosvg --quiet\n",
        "# !pip install varname --quiet\n",
        "# !pip install Cython --quiet\n",
        "# !pip install rdkit --quiet\n",
        "# # !pip install molsets --quiet\n",
        "# !pip install pathlib --quiet\n",
        "# !pip install xgboost==1.6.1 --quiet\n",
        "# !pip install dgllife --quiet\n",
        "# !pip install molvs --quiet\n",
        "\n",
        "# # !pip install dgl==1.1 --quiet # cpu version, usable for calculation\n",
        "\n",
        "# !pip uninstall dgl -y # dgl cuda version for training using gpu\n",
        "# !pip install  dgl -f https://data.dgl.ai/wheels/cu118/repo.html --quiet\n",
        "# !pip install  dglgo -f https://data.dgl.ai/wheels-test/repo.html --quiet\n",
        "\n",
        "# !python --version\n",
        "# import torch\n",
        "# print('torch version: ', torch.__version__)\n",
        "# print('cuda available: ', torch.cuda.is_available())\n",
        "# import dgl\n",
        "# print('dgl version: ', dgl.__version__)\n",
        "# import dgllife\n",
        "# print('dgllife version: ', dgllife.__version__)\n",
        "# import rdkit\n",
        "# print('rdkit version: ', rdkit.__version__)\n",
        "# import molvs\n",
        "# print('molvs version: ', molvs.__version__)\n",
        "# import matplotlib\n",
        "# print('matplotlib version: ', matplotlib.__version__)"
      ]
    },
    {
      "cell_type": "code",
      "source": [
        "# import pandas as pd\n",
        "# import numpy as np\n",
        "# import matplotlib.pyplot as plt\n",
        "# import torch\n",
        "# import torch.utils.data\n",
        "# from torch.utils.data import DataLoader\n",
        "# from dgllife.model import model_zoo\n",
        "# from dgllife.utils import smiles_to_bigraph\n",
        "# from dgllife.utils import AttentiveFPAtomFeaturizer\n",
        "# from dgllife.utils import AttentiveFPBondFeaturizer\n",
        "# from dgllife.data import MoleculeCSVDataset\n",
        "# import dgl\n",
        "# import matplotlib\n",
        "# import matplotlib.cm as cm\n",
        "# from IPython.display import SVG, display\n",
        "# from rdkit import Chem\n",
        "# from rdkit.Chem import rdDepictor\n",
        "# from rdkit.Chem.Draw import rdMolDraw2D"
      ],
      "metadata": {
        "id": "ahlB0SebdyTH"
      },
      "execution_count": 15,
      "outputs": []
    }
  ]
}