{
  "nbformat": 4,
  "nbformat_minor": 0,
  "metadata": {
    "accelerator": "GPU",
    "colab": {
      "provenance": [],
      "include_colab_link": true
    },
    "kernelspec": {
      "display_name": "Python 3",
      "name": "python3"
    },
    "language_info": {
      "name": "python"
    }
  },
  "cells": [
    {
      "cell_type": "markdown",
      "metadata": {
        "id": "view-in-github",
        "colab_type": "text"
      },
      "source": [
        "<a href=\"https://colab.research.google.com/github/yingzibu/drug_design_JAK/blob/main/TorchDrug_Molecule_Generation.ipynb\" target=\"_parent\"><img src=\"https://colab.research.google.com/assets/colab-badge.svg\" alt=\"Open In Colab\"/></a>"
      ]
    },
    {
      "cell_type": "markdown",
      "metadata": {
        "id": "GQPnwWiVdZ1p"
      },
      "source": [
        "\n",
        "## Manual Steps\n",
        "\n",
        "1.   Get your own copy of this file via \"File > Save a copy in Drive...\",\n",
        "2.   Set the runtime to **GPU** via \"Runtime > Change runtime type...\"\n",
        "\n",
        "### Colab Tutorials\n",
        "\n",
        "#### Quick Start\n",
        "1. [Basic Usage and Pipeline](https://colab.research.google.com/drive/1Tbnr1Fog_YjkqU1MOhcVLuxqZ4DC-c8-#forceEdit=true&sandboxMode=true)\n",
        "\n",
        "#### Drug Discovery Tasks\n",
        "1. [Property Prediction](https://colab.research.google.com/drive/1sb2w3evdEWm-GYo28RksvzJ74p63xHMn?usp=sharing#forceEdit=true&sandboxMode=true)\n",
        "2. [Pretrained Molecular Representations](https://colab.research.google.com/drive/10faCIVIfln20f2h1oQk2UrXiAMqZKLoW?usp=sharing#forceEdit=true&sandboxMode=true)\n",
        "3. [De Novo Molecule Design](https://colab.research.google.com/drive/1JEMiMvSBuqCuzzREYpviNZZRVOYsgivA?usp=sharing#forceEdit=true&sandboxMode=true)\n",
        "4. [Retrosynthesis](https://colab.research.google.com/drive/1IH1hk7K3MaxAEe5m6CFY7Eyej3RuiEL1?usp=sharing#forceEdit=true&sandboxMode=true)\n",
        "5. [Knowledge Graph Reasoning](https://colab.research.google.com/drive/1-sjqQZhYrGM0HiMuaqXOiqhDNlJi7g_I?usp=sharing#forceEdit=true&sandboxMode=true)"
      ]
    },
    {
      "cell_type": "code",
      "metadata": {
        "id": "il_TTwzkTsIs",
        "outputId": "c03d3148-ab0e-4b70-a61b-6aca550f049b",
        "colab": {
          "base_uri": "https://localhost:8080/"
        }
      },
      "source": [
        "import os\n",
        "import torch\n",
        "os.environ[\"TORCH_VERSION\"] = torch.__version__\n",
        "\n",
        "!pip install torch-scatter torch-cluster -f https://pytorch-geometric.com/whl/torch-$TORCH_VERSION.html\n",
        "!pip install torchdrug"
      ],
      "execution_count": null,
      "outputs": [
        {
          "output_type": "stream",
          "name": "stdout",
          "text": [
            "Looking in links: https://pytorch-geometric.com/whl/torch-1.10.0+cu111.html\n",
            "Collecting torch-scatter\n",
            "  Downloading https://data.pyg.org/whl/torch-1.10.0%2Bcu113/torch_scatter-2.0.9-cp37-cp37m-linux_x86_64.whl (7.9 MB)\n",
            "\u001b[K     |████████████████████████████████| 7.9 MB 4.5 MB/s \n",
            "\u001b[?25hInstalling collected packages: torch-scatter\n",
            "Successfully installed torch-scatter-2.0.9\n",
            "Collecting torchdrug\n",
            "  Downloading torchdrug-0.1.2.post1-py3-none-any.whl (191 kB)\n",
            "\u001b[K     |████████████████████████████████| 191 kB 4.3 MB/s \n",
            "\u001b[?25hRequirement already satisfied: jinja2 in /usr/local/lib/python3.7/dist-packages (from torchdrug) (2.11.3)\n",
            "Requirement already satisfied: torch>=1.4.0 in /usr/local/lib/python3.7/dist-packages (from torchdrug) (1.10.0+cu111)\n",
            "Collecting ninja\n",
            "  Downloading ninja-1.10.2.3-py2.py3-none-manylinux_2_5_x86_64.manylinux1_x86_64.whl (108 kB)\n",
            "\u001b[K     |████████████████████████████████| 108 kB 32.6 MB/s \n",
            "\u001b[?25hRequirement already satisfied: decorator in /usr/local/lib/python3.7/dist-packages (from torchdrug) (4.4.2)\n",
            "Requirement already satisfied: numpy>=1.11 in /usr/local/lib/python3.7/dist-packages (from torchdrug) (1.21.5)\n",
            "Requirement already satisfied: torch-scatter>=1.4.0 in /usr/local/lib/python3.7/dist-packages (from torchdrug) (2.0.9)\n",
            "Collecting rdkit-pypi\n",
            "  Downloading rdkit_pypi-2021.9.5.1-cp37-cp37m-manylinux_2_17_x86_64.manylinux2014_x86_64.whl (22.3 MB)\n",
            "\u001b[K     |████████████████████████████████| 22.3 MB 1.7 MB/s \n",
            "\u001b[?25hRequirement already satisfied: networkx in /usr/local/lib/python3.7/dist-packages (from torchdrug) (2.6.3)\n",
            "Requirement already satisfied: matplotlib in /usr/local/lib/python3.7/dist-packages (from torchdrug) (3.2.2)\n",
            "Requirement already satisfied: tqdm in /usr/local/lib/python3.7/dist-packages (from torchdrug) (4.63.0)\n",
            "Requirement already satisfied: typing-extensions in /usr/local/lib/python3.7/dist-packages (from torch>=1.4.0->torchdrug) (3.10.0.2)\n",
            "Requirement already satisfied: MarkupSafe>=0.23 in /usr/local/lib/python3.7/dist-packages (from jinja2->torchdrug) (2.0.1)\n",
            "Requirement already satisfied: kiwisolver>=1.0.1 in /usr/local/lib/python3.7/dist-packages (from matplotlib->torchdrug) (1.3.2)\n",
            "Requirement already satisfied: python-dateutil>=2.1 in /usr/local/lib/python3.7/dist-packages (from matplotlib->torchdrug) (2.8.2)\n",
            "Requirement already satisfied: cycler>=0.10 in /usr/local/lib/python3.7/dist-packages (from matplotlib->torchdrug) (0.11.0)\n",
            "Requirement already satisfied: pyparsing!=2.0.4,!=2.1.2,!=2.1.6,>=2.0.1 in /usr/local/lib/python3.7/dist-packages (from matplotlib->torchdrug) (3.0.7)\n",
            "Requirement already satisfied: six>=1.5 in /usr/local/lib/python3.7/dist-packages (from python-dateutil>=2.1->matplotlib->torchdrug) (1.15.0)\n",
            "Requirement already satisfied: Pillow in /usr/local/lib/python3.7/dist-packages (from rdkit-pypi->torchdrug) (7.1.2)\n",
            "Installing collected packages: rdkit-pypi, ninja, torchdrug\n",
            "Successfully installed ninja-1.10.2.3 rdkit-pypi-2021.9.5.1 torchdrug-0.1.2.post1\n"
          ]
        }
      ]
    },
    {
      "cell_type": "markdown",
      "metadata": {
        "id": "BFmpTG8ccZQJ"
      },
      "source": [
        "# Molecule Generation\n",
        "Molecular graph generation is a fundamental problem for drug discovery and has been attracting growing attention. The problem is challenging since it requires not only generating chemically valid molecular structures but also optimizing their chemical properties in the meantime.\n",
        "\n",
        "In this tutorial, we will implement two graph generative models **GCPN** and **GraphAF**. We first pretrain both models on ZINC250k dataset. Starting from the pretrained checkpoint, we finetune both models with reinforcement learning to optimize two properties (i.e., QED and penalized logP score) of generated molecules.\n",
        "\n",
        "[**Additional reading:** a list of papers related to molecule generation](https://lists.papersapp.com/D0ZUnFtekf_9)"
      ]
    },
    {
      "cell_type": "markdown",
      "metadata": {
        "id": "nKJnP-96CVQv"
      },
      "source": [
        "## Prepare the dataset (~8 min)\n",
        "The `torchdrug.datasets` contains a lot of common machine-learning ready datasets for various drug discovery tasks. It will automatically download the dataset to the specified directory and process it.\n",
        "\n",
        "We use ZINC250k for this tutorial, and the dataset contains 250,000 drug-like molecules with a maximum atom number of 38. It has 9 atom types and 3 edge types.\n",
        "\n",
        "For illustration purpose, we can also inherit the ZINC250k and use a small portion of the data (e.g. ZINC10k)."
      ]
    },
    {
      "cell_type": "code",
      "metadata": {
        "id": "hK21V7GKU47i",
        "outputId": "b9453c0f-4bfd-4520-9de6-0917f7788e27",
        "colab": {
          "base_uri": "https://localhost:8080/"
        }
      },
      "source": [
        "import torch\n",
        "from torchdrug import datasets, core, models, tasks, utils\n",
        "from torch import optim\n",
        "\n",
        "# The following functions takes 8 mins\n",
        "dataset = datasets.ZINC250k(\"~/molecule-datasets/\", kekulize=True,\n",
        "                            node_feature=\"symbol\")"
      ],
      "execution_count": null,
      "outputs": [
        {
          "output_type": "stream",
          "name": "stdout",
          "text": [
            "16:11:55   Downloading https://raw.githubusercontent.com/aspuru-guzik-group/chemical_vae/master/models/zinc_properties/250k_rndm_zinc_drugs_clean_3.csv to /root/molecule-datasets/250k_rndm_zinc_drugs_clean_3.csv\n"
          ]
        },
        {
          "output_type": "stream",
          "name": "stderr",
          "text": [
            "Loading /root/molecule-datasets/250k_rndm_zinc_drugs_clean_3.csv:  35%|███▌      | 175050/498911 [00:04<00:10, 29846.41it/s]"
          ]
        }
      ]
    },
    {
      "cell_type": "markdown",
      "metadata": {
        "id": "aLvezjdtgJ1v"
      },
      "source": [
        "## [GCPN](https://arxiv.org/abs/1806.02473)\n",
        "Graph Convolutional Policy Network (GCPN) is a general graph convolutional network based model for goal-directed molecule generation through reinforcement learning. The [official code](https://github.com/bowenliu16/rl_graph_generation) of the model has more than one thousand lines.\n",
        "Here, we will show how to construct the GCPN model, pretrain and finetune it in a few lines."
      ]
    },
    {
      "cell_type": "markdown",
      "metadata": {
        "id": "hbM9z1KRgJ1w"
      },
      "source": [
        "### Construct the GCPN model (~30s)\n",
        "The model consists of two parts, a graph representation model and a graph generative module.\n",
        "\n",
        "(1) We define a Relational Graph Convolutional Networks (RGCN) as our representation model.\n",
        "\n",
        "$\\mathbf{x}^{\\prime}_i = \\mathbf{\\theta}_{\\textrm{root}} \\cdot \\mathbf{x}_i + \\sum_{r \\in \\mathcal{R}} \\sum_{j \\in \\mathcal{N}_r(i)} \\frac{1}{|\\mathcal{N}_r(i)|} \\mathbf{\\theta}_r \\cdot \\mathbf{x}_j$, where $\\mathcal{R}$ denotes the set of relations, i.e. edge types\n",
        "\n",
        "(2) We use the module GCPNGeneration as the training task for GCPN."
      ]
    },
    {
      "cell_type": "code",
      "metadata": {
        "id": "EmsF7E1BgJ1w"
      },
      "source": [
        "dataset.transform = None\n",
        "# (1)\n",
        "model = models.RGCN(input_dim=dataset.node_feature_dim,\n",
        "                    num_relation=dataset.num_bond_type,\n",
        "                    hidden_dims=[256, 256, 256, 256], batch_norm=False)\n",
        "# (2)\n",
        "task = tasks.GCPNGeneration(model, dataset.atom_types, max_edge_unroll=12,\n",
        "                            max_node=38, criterion=\"nll\")"
      ],
      "execution_count": null,
      "outputs": []
    },
    {
      "cell_type": "markdown",
      "metadata": {
        "id": "Jh7S-aX_gJ1w"
      },
      "source": [
        "### Training (~ 10 min / epoch on Colab)\n",
        "Now we can train our model. We setup an optimizer for our model, and put everything together into an Engine instance. Here we only train the model for 1 epoch, and then save the pretrained model into a directory.\n",
        "\n",
        "Like other deep learning libraries, these codes are always reusable, and you can focus on developing interesting models.\n"
      ]
    },
    {
      "cell_type": "code",
      "metadata": {
        "id": "o1LaHntdgJ1w"
      },
      "source": [
        "optimizer = optim.Adam(task.parameters(), lr = 1e-3)\n",
        "solver = core.Engine(task, dataset, None, None, optimizer,\n",
        "                     gpus=(0,), batch_size=128, log_interval=10)\n",
        "solver.train(num_epoch=1)\n",
        "solver.save(\"gcpn_zinc250k_1epoch.pkl\")"
      ],
      "execution_count": null,
      "outputs": []
    },
    {
      "cell_type": "markdown",
      "metadata": {
        "id": "FjtqqgnPgJ1w"
      },
      "source": [
        "### Download the pretrained checkpoint and load the checkpoint.\n",
        "We provide a pretrained model (5 epoch on ZINC250k) in a [google drive folder](https://drive.google.com/file/d/11iHZGSXY0Bw7K5DHlG06kwF2GDT-8-iq/view?usp=sharing). We can easily get the checkpoint via `gdown` command given the `file_id`. We then load the parameters from the checkpoint in one line."
      ]
    },
    {
      "cell_type": "code",
      "metadata": {
        "id": "HlKRiww6gJ1w"
      },
      "source": [
        "!gdown --id 11iHZGSXY0Bw7K5DHlG06kwF2GDT-8-iq\n",
        "solver.load('gcpn_zinc250k_5epoch.pkl')"
      ],
      "execution_count": null,
      "outputs": []
    },
    {
      "cell_type": "markdown",
      "metadata": {
        "id": "mch0GwBugJ1w"
      },
      "source": [
        "Let’s generate some small molecules from the pretrained GCPN model."
      ]
    },
    {
      "cell_type": "code",
      "metadata": {
        "id": "IwKE1P8sgJ1w"
      },
      "source": [
        "%matplotlib inline\n",
        "results = task.generate(num_sample=32, max_resample=5)\n",
        "results.visualize(num_row=4, num_col=None, save_file=None, titles=None)"
      ],
      "execution_count": null,
      "outputs": []
    },
    {
      "cell_type": "markdown",
      "metadata": {
        "id": "BjhkuHcmgJ1x"
      },
      "source": [
        "### Finetuning\n",
        "Now we introduce how to fine-tune the graph generative model with reinforcement learning to optimize the properties of generated molecules. We implemented the Proximal Policy Optimization (PPO) algorithm for the GCPN model.\n",
        "\n",
        "Lets first re-construct the GCPN model and load the pretrained model. Note that we reset the `task` and the `criterion` for the gcpn model"
      ]
    },
    {
      "cell_type": "code",
      "metadata": {
        "id": "Tzscry6qgJ1x"
      },
      "source": [
        "# define the task and load the pretrained model\n",
        "dataset.transform = None\n",
        "model = models.RGCN(input_dim=dataset.node_feature_dim,\n",
        "                    num_relation=dataset.num_bond_type,\n",
        "                    hidden_dims=[256, 256, 256, 256], batch_norm=False)\n",
        "task = tasks.GCPNGeneration(model, dataset.atom_types, max_edge_unroll=12,\n",
        "                            max_node=38, task=\"plogp\", criterion=\"ppo\",\n",
        "                            reward_temperature=1,\n",
        "                            agent_update_interval=3, gamma=0.9)\n",
        "optimizer = optim.Adam(task.parameters(), lr = 1e-5)\n",
        "solver = core.Engine(task, dataset, None, None, optimizer,\n",
        "                     gpus=(0,), batch_size=16, log_interval=10)\n",
        "solver.load('gcpn_zinc250k_5epoch.pkl', load_optimizer=False)"
      ],
      "execution_count": null,
      "outputs": []
    },
    {
      "cell_type": "markdown",
      "metadata": {
        "id": "WirwIPgXgJ1x"
      },
      "source": [
        "Now lets finetune the model. The model will generated molecules with desired property during the finetuning."
      ]
    },
    {
      "cell_type": "code",
      "metadata": {
        "id": "7qXtZY9MgJ1x"
      },
      "source": [
        "# RL finetuning\n",
        "solver.train(num_epoch=1)"
      ],
      "execution_count": null,
      "outputs": []
    },
    {
      "cell_type": "markdown",
      "metadata": {
        "id": "rtWQkwiq9sJs"
      },
      "source": [
        "## [GraphAF](https://arxiv.org/abs/2001.09382)\n",
        "\n",
        "GraphAF is a flow-based autoregressive model for graph generation. Nodes and edges are added to the existing graphs autoregressively.\n",
        "\n",
        "![graphaf.png](https://raw.githubusercontent.com/DeepGraphLearning/torchdrug/master/asset/model/graphaf.png)\n"
      ]
    },
    {
      "cell_type": "markdown",
      "metadata": {
        "id": "PTcMYZUqMn6s"
      },
      "source": [
        "### Construct GraphAF model (~30s)\n",
        "The model consists of two parts, a graph representation model and a graph generative module. We define a Relational Graph Convolutional Networks (RGCN) as our representation model. We use the module AutoregressiveGeneration as the training task for GraphAF. The task consists of a node flow model and an edge flow model, which define invertible mapping between node / edge types and noise distributions."
      ]
    },
    {
      "cell_type": "code",
      "metadata": {
        "id": "Qspy5BPzMi8-"
      },
      "source": [
        "from torchdrug.layers import distribution\n",
        "dataset.transform = None\n",
        "model = models.RGCN(input_dim=dataset.num_atom_type,\n",
        "                    num_relation=dataset.num_bond_type,\n",
        "                    hidden_dims=[256, 256, 256], batch_norm=True)\n",
        "\n",
        "num_atom_type = dataset.num_atom_type\n",
        "# add one class for non-edge\n",
        "num_bond_type = dataset.num_bond_type + 1\n",
        "\n",
        "node_prior = distribution.IndependentGaussian(torch.zeros(num_atom_type),\n",
        "                                              torch.ones(num_atom_type))\n",
        "edge_prior = distribution.IndependentGaussian(torch.zeros(num_bond_type),\n",
        "                                              torch.ones(num_bond_type))\n",
        "node_flow = models.GraphAF(model, node_prior, num_layer=12)\n",
        "edge_flow = models.GraphAF(model, edge_prior, use_edge=True, num_layer=12)\n",
        "\n",
        "task = tasks.AutoregressiveGeneration(node_flow, edge_flow,\n",
        "                                      max_node=38, max_edge_unroll=12,\n",
        "                                      criterion=\"nll\")"
      ],
      "execution_count": null,
      "outputs": []
    },
    {
      "cell_type": "markdown",
      "metadata": {
        "id": "M0cZu2fyMy6q"
      },
      "source": [
        "### Pre-Training (10-20 mins / epoch on Colab)\n",
        "Now we can train our model. We setup an optimizer for our model, and put everything together into an Engine instance. Here we only train the model for 1 epoch, and then save the pretrained model into a directory."
      ]
    },
    {
      "cell_type": "code",
      "metadata": {
        "id": "k9A8_9ZLMyP0"
      },
      "source": [
        "optimizer = optim.Adam(task.parameters(), lr = 1e-3)\n",
        "solver = core.Engine(task, dataset, None, None, optimizer,\n",
        "                     gpus=(0,), batch_size=128, log_interval=10)\n",
        "\n",
        "solver.train(num_epoch=1)\n",
        "solver.save(\"graphaf_zinc250k_1epoch.pkl\")"
      ],
      "execution_count": null,
      "outputs": []
    },
    {
      "cell_type": "markdown",
      "metadata": {
        "id": "W3QwYNGSbnz1"
      },
      "source": [
        "### Download the pretrained checkpoint and load the checkpoint. (~30s)\n",
        "We provide a pretrained model (5 epoch on ZINC250k) in a [google drive folder](https://drive.google.com/file/d/1iIlzFGrhUrB2yt7ettOkcHcmKPevT1_Y/view?usp=sharing). We can easily get the checkpoint via `gdown` command given the `file_id`. We then load the parameters from the checkpoint."
      ]
    },
    {
      "cell_type": "code",
      "metadata": {
        "id": "H2UrqsYAULZv"
      },
      "source": [
        "!gdown --id 1iIlzFGrhUrB2yt7ettOkcHcmKPevT1_Y\n",
        "solver.load('graphaf_zinc250k_5epoch.pkl')"
      ],
      "execution_count": null,
      "outputs": []
    },
    {
      "cell_type": "markdown",
      "metadata": {
        "id": "iKmqjWJsb6vW"
      },
      "source": [
        "### Generation\n",
        "Let’s generate some small molecules using the pretrained GraphAF model."
      ]
    },
    {
      "cell_type": "code",
      "metadata": {
        "id": "-NtejnopULcV"
      },
      "source": [
        "%matplotlib inline\n",
        "results = task.generate(num_sample=16, max_resample=10)\n",
        "results.visualize(num_row=4, num_col=None, save_file=None, titles=None)"
      ],
      "execution_count": null,
      "outputs": []
    },
    {
      "cell_type": "markdown",
      "metadata": {
        "id": "Yhkvu3orcdz5"
      },
      "source": [
        "### Fine-Tuning\n",
        "Now we introduce how to fine-tune the graph generative model with reinforcement learning to optimize the properties of generated molecules. We implemented the Proximal Policy Optimization (PPO) algorithm for the GraphAF model.\n",
        "\n",
        "Lets first re-construct the GraphAF model and load the pretrained model. Note that we reset the `task` and the `criterion` for the model."
      ]
    },
    {
      "cell_type": "code",
      "metadata": {
        "id": "hfdECUngcsoI"
      },
      "source": [
        "dataset.transform = None\n",
        "model = models.RGCN(input_dim=dataset.num_atom_type,\n",
        "                    num_relation=dataset.num_bond_type,\n",
        "                    hidden_dims=[256, 256, 256], batch_norm=True)\n",
        "node_prior = distribution.IndependentGaussian(torch.zeros(num_atom_type),\n",
        "                                              torch.ones(num_atom_type))\n",
        "edge_prior = distribution.IndependentGaussian(torch.zeros(num_bond_type),\n",
        "                                              torch.ones(num_bond_type))\n",
        "node_flow = models.GraphAF(model, node_prior, num_layer=12)\n",
        "edge_flow = models.GraphAF(model, edge_prior, use_edge=True, num_layer=12)\n",
        "\n",
        "task = tasks.AutoregressiveGeneration(node_flow, edge_flow,\n",
        "                                      max_node=38, max_edge_unroll=12,\n",
        "                                      task=\"plogp\", criterion=\"ppo\",\n",
        "                                      reward_temperature=20, baseline_momentum=0.9,\n",
        "                                      agent_update_interval=5, gamma=0.9)\n",
        "optimizer = optim.Adam(task.parameters(), lr=1e-5)\n",
        "solver = core.Engine(task, dataset, None, None, optimizer,\n",
        "                     gpus=(0,), batch_size=64, log_interval=10)\n",
        "solver.load('graphaf_zinc250k_5epoch.pkl', load_optimizer=False)\n"
      ],
      "execution_count": null,
      "outputs": []
    },
    {
      "cell_type": "markdown",
      "metadata": {
        "id": "5qeneitodeWX"
      },
      "source": [
        "Now lets finetune the model. The model will generated molecules with desired property during the finetuning."
      ]
    },
    {
      "cell_type": "code",
      "metadata": {
        "id": "dYPzCZ7Zda0h"
      },
      "source": [
        "# RL finetuning\n",
        "solver.train(num_epoch=10)"
      ],
      "execution_count": null,
      "outputs": []
    }
  ]
}