{
  "nbformat": 4,
  "nbformat_minor": 0,
  "metadata": {
    "colab": {
      "provenance": [],
      "machine_shape": "hm",
      "gpuType": "T4",
      "mount_file_id": "1Ngz0CjscqviQY1iXZcl-nKrVSfunHS8u",
      "authorship_tag": "ABX9TyPT1yTNuSlqcVqsxe3vA+wM",
      "include_colab_link": true
    },
    "kernelspec": {
      "name": "python3",
      "display_name": "Python 3"
    },
    "language_info": {
      "name": "python"
    },
    "accelerator": "GPU"
  },
  "cells": [
    {
      "cell_type": "markdown",
      "metadata": {
        "id": "view-in-github",
        "colab_type": "text"
      },
      "source": [
        "<a href=\"https://colab.research.google.com/github/yingzibu/drug_design_JAK/blob/main/drugVAE/chemVAE%2BKL_annealing.ipynb\" target=\"_parent\"><img src=\"https://colab.research.google.com/assets/colab-badge.svg\" alt=\"Open In Colab\"/></a>"
      ]
    },
    {
      "cell_type": "code",
      "execution_count": 2,
      "metadata": {
        "colab": {
          "base_uri": "https://localhost:8080/"
        },
        "id": "jnwvC_QiWk-k",
        "outputId": "90b2a563-d98f-4a65-f112-1125a8feafe0"
      },
      "outputs": [
        {
          "output_type": "stream",
          "name": "stdout",
          "text": [
            "rm: cannot remove 'molecular-vae': No such file or directory\n",
            "Cloning into 'molecular-vae'...\n",
            "remote: Enumerating objects: 188, done.\u001b[K\n",
            "remote: Counting objects: 100% (3/3), done.\u001b[K\n",
            "remote: Compressing objects: 100% (3/3), done.\u001b[K\n",
            "remote: Total 188 (delta 0), reused 0 (delta 0), pack-reused 185\u001b[K\n",
            "Receiving objects: 100% (188/188), 2.99 MiB | 28.32 MiB/s, done.\n",
            "Resolving deltas: 100% (95/95), done.\n"
          ]
        }
      ],
      "source": [
        "!rm -R 'molecular-vae'\n",
        "!git clone https://github.com/aksub99/molecular-vae.git\n",
        "import zipfile\n",
        "zip_ref = zipfile.ZipFile('molecular-vae/data/processed.zip', 'r')\n",
        "zip_ref.extractall('molecular-vae/data/')\n",
        "zip_ref.close()"
      ]
    },
    {
      "cell_type": "code",
      "source": [
        "import torch\n",
        "import torch.nn as nn\n",
        "import torch.nn.functional as F\n",
        "import torch.utils.data\n",
        "import gzip\n",
        "import pandas\n",
        "import h5py\n",
        "import numpy as np\n",
        "from __future__ import print_function\n",
        "import argparse\n",
        "import os\n",
        "import h5py\n",
        "import torch.optim as optim\n",
        "from torch.optim.lr_scheduler import ReduceLROnPlateau\n",
        "from sklearn import model_selection\n",
        "from tqdm import tqdm"
      ],
      "metadata": {
        "id": "j4V3iA_YWp9q"
      },
      "execution_count": 1,
      "outputs": []
    },
    {
      "cell_type": "code",
      "source": [
        "h5f = h5py.File('/content/molecular-vae/data/processed.h5', 'r')\n",
        "data = h5f['data_test'][:] # (10000, 120, 33)"
      ],
      "metadata": {
        "id": "SOS7WcRxW5W_"
      },
      "execution_count": 3,
      "outputs": []
    },
    {
      "cell_type": "code",
      "source": [
        "charset = h5f['charset'][:]\n",
        "charset"
      ],
      "metadata": {
        "colab": {
          "base_uri": "https://localhost:8080/"
        },
        "id": "l-Xq-soZXDHt",
        "outputId": "3a1594a7-5a83-4a34-f3e2-a9f6043f98db"
      },
      "execution_count": 4,
      "outputs": [
        {
          "output_type": "execute_result",
          "data": {
            "text/plain": [
              "array([b' ', b'#', b')', b'(', b'+', b'-', b'/', b'1', b'3', b'2', b'5',\n",
              "       b'4', b'7', b'6', b'=', b'@', b'C', b'B', b'F', b'I', b'H', b'O',\n",
              "       b'N', b'S', b'[', b']', b'\\\\', b'c', b'l', b'o', b'n', b's', b'r'],\n",
              "      dtype='|S1')"
            ]
          },
          "metadata": {},
          "execution_count": 4
        }
      ]
    },
    {
      "cell_type": "code",
      "source": [
        "def load_dataset(filename, split = True):\n",
        "    h5f = h5py.File(filename, 'r')\n",
        "    if split:\n",
        "        data_train = h5f['data_train'][:]\n",
        "    else:\n",
        "        data_train = None\n",
        "    data_test = h5f['data_test'][:]\n",
        "    charset =  h5f['charset'][:]\n",
        "    h5f.close()\n",
        "    if split:\n",
        "        return (data_train, data_test, charset)\n",
        "    else:\n",
        "        return (data_test, charset)"
      ],
      "metadata": {
        "id": "7YqVSfMRXKDj"
      },
      "execution_count": 5,
      "outputs": []
    },
    {
      "cell_type": "code",
      "source": [
        "from torch.autograd import Variable\n",
        "max_len = 120 # max_len of molecule\n",
        "alphabet_len = len(charset)\n",
        "\n",
        "class MolecularVAE(nn.Module):\n",
        "    def __init__(self, in_dim=[250, max_len, alphabet_len], z_dim=292):\n",
        "        \"\"\"\n",
        "        param: in_dim = [batch_size, max_len, len(alphabet)]\n",
        "        param: z_dim: z dimension\n",
        "        \"\"\"\n",
        "\n",
        "        super(MolecularVAE, self).__init__()\n",
        "\n",
        "        (_, max_len, alphabet_len) = in_dim\n",
        "        self.max_len = max_len\n",
        "        self.alphabet_len = alphabet_len\n",
        "        self.kld = 0\n",
        "\n",
        "        self.conv_1 = nn.Conv1d(max_len, 9, kernel_size = 9) #[bs, 9, 25]\n",
        "        self.conv_2 = nn.Conv1d(9, 9, kernel_size=9) # [bs, 9, 17]\n",
        "        self.conv_3 = nn.Conv1d(9, 10, kernel_size=11) # [bs, 10, 7]\n",
        "        self.linear_0 = nn.Linear(70, 435)\n",
        "        self.mu = nn.Linear(435, z_dim)\n",
        "        self.logvar = nn.Linear(435, z_dim)\n",
        "\n",
        "        self.linear_3 = nn.Linear(z_dim, z_dim)\n",
        "        self.gru = nn.GRU(z_dim, 501, 3, batch_first=True)\n",
        "        self.linear_4 = nn.Linear(501, alphabet_len)\n",
        "\n",
        "        self.relu = nn.ReLU()\n",
        "        self.softmax = nn.Softmax()\n",
        "\n",
        "\n",
        "    def encode(self, x):\n",
        "\n",
        "        x = self.relu(self.conv_1(x))\n",
        "        x = self.relu(self.conv_2(x))\n",
        "        x = self.relu(self.conv_3(x))\n",
        "        x = x.view(x.size(0), -1) # (batch_size, size(-2) * size(-1))\n",
        "        # print('after view', x.shape)\n",
        "        x = F.selu(self.linear_0(x))\n",
        "\n",
        "        mu = self.mu(x)\n",
        "        logvar = F.softplus(self.logvar(x))\n",
        "        return mu, logvar\n",
        "\n",
        "    def reparametrize(self, mu, logvar):\n",
        "        epsilon = Variable(torch.rand(mu.size()), requires_grad=False)\n",
        "        if mu.is_cuda: epsilon = epsilon.cuda()\n",
        "        std = logvar.mul(0.5).exp_()\n",
        "        z = mu.addcmul(std, epsilon)\n",
        "        return z\n",
        "\n",
        "    def decode(self, z):\n",
        "        z = F.selu(self.linear_3(z))\n",
        "        z = z.view(z.size(0), 1, z.size(-1)).repeat(1, self.max_len, 1)\n",
        "        output, hn = self.gru(z)\n",
        "        out_reshape = output.contiguous().view(-1, output.size(-1))\n",
        "        y0 = F.softmax(self.linear_4(out_reshape), dim=1)\n",
        "        y = y0.contiguous().view(output.size(0), -1, y0.size(-1))\n",
        "        return y\n",
        "\n",
        "    def update_kld(self, mu, logvar):\n",
        "        self.kld = -0.5 * torch.sum(1 + logvar - mu.pow(2) - logvar.exp())\n",
        "\n",
        "    def get_kld(self):\n",
        "        return self.kld\n",
        "\n",
        "    def forward(self, x):\n",
        "        mu, logvar = self.encode(x)\n",
        "        self.update_kld(mu, logvar)\n",
        "        z = self.reparametrize(mu, logvar)\n",
        "        return self.decode(z)\n",
        "\n",
        "# from torchsummary import summary\n",
        "\n",
        "# summary(MolecularVAE(), (250,120, 33))\n",
        "MolecularVAE()"
      ],
      "metadata": {
        "colab": {
          "base_uri": "https://localhost:8080/"
        },
        "id": "Xs6o5qjOXQuK",
        "outputId": "b07932bb-e89f-4741-ad2c-497e29b25cf2"
      },
      "execution_count": 7,
      "outputs": [
        {
          "output_type": "execute_result",
          "data": {
            "text/plain": [
              "MolecularVAE(\n",
              "  (conv_1): Conv1d(120, 9, kernel_size=(9,), stride=(1,))\n",
              "  (conv_2): Conv1d(9, 9, kernel_size=(9,), stride=(1,))\n",
              "  (conv_3): Conv1d(9, 10, kernel_size=(11,), stride=(1,))\n",
              "  (linear_0): Linear(in_features=70, out_features=435, bias=True)\n",
              "  (mu): Linear(in_features=435, out_features=292, bias=True)\n",
              "  (logvar): Linear(in_features=435, out_features=292, bias=True)\n",
              "  (linear_3): Linear(in_features=292, out_features=292, bias=True)\n",
              "  (gru): GRU(292, 501, num_layers=3, batch_first=True)\n",
              "  (linear_4): Linear(in_features=501, out_features=33, bias=True)\n",
              "  (relu): ReLU()\n",
              "  (softmax): Softmax(dim=None)\n",
              ")"
            ]
          },
          "metadata": {},
          "execution_count": 7
        }
      ]
    },
    {
      "cell_type": "code",
      "source": [
        "# n = nn.Conv1d(max_len, 9, kernel_size = 9)\n",
        "# a = torch.randn(250, max_len, alphabet_len)\n",
        "# out = n(a)\n",
        "# print(out.size())\n",
        "# n1 = nn.Conv1d(9, 9, kernel_size=9)\n",
        "# out = n1(out)\n",
        "# print(out.size())\n",
        "# n2 = nn.Conv1d(9, 10, kernel_size=11)\n",
        "# out = n2(out)\n",
        "# print(out.size())\n",
        "import numpy as np\n",
        "import math\n",
        "import matplotlib.pyplot as plt\n",
        "import os\n",
        "def frange_cycle_linear(start, stop, n_epoch, n_cycle=4, ratio=0.5):\n",
        "    L = np.ones(n_epoch)\n",
        "    period = n_epoch/n_cycle\n",
        "    step = (stop-start)/(period*ratio) # linear schedule\n",
        "\n",
        "    for c in range(n_cycle):\n",
        "\n",
        "        v , i = start , 0\n",
        "        while v <= stop and (int(i+c*period) < n_epoch):\n",
        "            L[int(i+c*period)] = v\n",
        "            v += step\n",
        "            i += 1\n",
        "    return L\n",
        ""
      ],
      "metadata": {
        "id": "kK_GixNRf7nM"
      },
      "execution_count": 8,
      "outputs": []
    },
    {
      "cell_type": "code",
      "source": [
        "data_train, data_test, charset = load_dataset('molecular-vae/data/processed.h5')\n",
        "data_train = torch.utils.data.TensorDataset(torch.from_numpy(data_train))\n",
        "train_loader = torch.utils.data.DataLoader(data_train, batch_size=250, shuffle=True)\n",
        "\n",
        "torch.manual_seed(42)\n",
        "data_test = torch.utils.data.TensorDataset(torch.from_numpy(data_test))\n",
        "test_loader = torch.utils.data.DataLoader(data_test, batch_size=250, shuffle=True)\n",
        "\n",
        "\n",
        "cuda = torch.cuda.is_available()\n",
        "\n",
        "device = 'cuda' if cuda else 'cpu'\n",
        "\n"
      ],
      "metadata": {
        "id": "LLvy1cuPeteR"
      },
      "execution_count": 9,
      "outputs": []
    },
    {
      "cell_type": "code",
      "source": [
        "batch_size = 250\n",
        "epochs= 1000\n",
        "n_epoch = int(len(train_loader)*epochs)\n",
        "\n",
        "beta_np_cyc = frange_cycle_linear(0.0, 1.0, n_epoch, 4)\n",
        "\n",
        "fig=plt.figure(figsize=(8,4.0))\n",
        "stride = max(int(n_epoch / epochs), 1)\n",
        "\n",
        "plt.plot(range(n_epoch), beta_np_cyc, '-',\n",
        "         label='Cyclical', marker= 's', color='k',\n",
        "         markevery=stride,lw=2,  mec='k', mew=1 , markersize=10)"
      ],
      "metadata": {
        "colab": {
          "base_uri": "https://localhost:8080/",
          "height": 385
        },
        "id": "Xn4o3PCG7eRT",
        "outputId": "c88c5566-7c6f-40f5-ccd7-bc82059acfb2"
      },
      "execution_count": 35,
      "outputs": [
        {
          "output_type": "execute_result",
          "data": {
            "text/plain": [
              "[<matplotlib.lines.Line2D at 0x79ad7ccad570>]"
            ]
          },
          "metadata": {},
          "execution_count": 35
        },
        {
          "output_type": "display_data",
          "data": {
            "text/plain": [
              "<Figure size 800x400 with 1 Axes>"
            ],
            "image/png": "[encoded data removed]"
          },
          "metadata": {}
        }
      ]
    },
    {
      "cell_type": "code",
      "source": [
        "len(train_loader), len(train_loader.dataset)"
      ],
      "metadata": {
        "colab": {
          "base_uri": "https://localhost:8080/"
        },
        "id": "aAZVIW8f7oMZ",
        "outputId": "1e15033d-8dc8-4208-ae65-4a04672f39fc"
      },
      "execution_count": 21,
      "outputs": [
        {
          "output_type": "execute_result",
          "data": {
            "text/plain": [
              "(160, 40000)"
            ]
          },
          "metadata": {},
          "execution_count": 21
        }
      ]
    },
    {
      "cell_type": "code",
      "source": [
        "model = MolecularVAE().to(device)\n",
        "optimizer = optim.Adam(model.parameters(), lr=1e-3, betas=(0.9, 0.999))\n",
        "\n",
        "def train(epoch, beta_kl=beta_np_cyc):\n",
        "    model.train()\n",
        "    train_loss = 0\n",
        "    for i, data in tqdm(enumerate(train_loader), total=len(train_loader),\n",
        "                        desc=f'epoch {epoch}'):\n",
        "        data = data[0].to(device)\n",
        "        optimizer.zero_grad()\n",
        "        output = model(data)\n",
        "\n",
        "        BCE = F.binary_cross_entropy(output, data, reduction='sum')\n",
        "        KLD = model.get_kld()\n",
        "        beta = beta_kl[i*epoch]\n",
        "        loss = BCE + beta * KLD\n",
        "        loss.backward()\n",
        "        train_loss += loss.data.item()\n",
        "        optimizer.step()\n",
        "\n",
        "\n",
        "    train_loss = train_loss/len(train_loader.dataset)\n",
        "    print(f'train \\t loss: {train_loss:.3f}  KLD beta: {beta:.3f}')\n",
        "    return train_loss\n",
        "\n",
        "def test(epoch):\n",
        "    model.eval()\n",
        "    test_loss = 0\n",
        "    for data in test_loader:\n",
        "        data = data[0].to(device)\n",
        "        output = model(data)\n",
        "        loss = F.binary_cross_entropy(output, data,\n",
        "                                      reduction='sum') + model.get_kld()\n",
        "        test_loss += loss.data.item()\n",
        "\n",
        "    test_loss /= len(test_loader.dataset)\n",
        "    print(f'test \\t loss: {test_loss:.3f}')\n",
        "    return test_loss\n",
        "\n",
        ""
      ],
      "metadata": {
        "id": "z99-n6qPZKgR"
      },
      "execution_count": 42,
      "outputs": []
    },
    {
      "cell_type": "code",
      "source": [
        "# len(test_loader.dataset)"
      ],
      "metadata": {
        "colab": {
          "base_uri": "https://localhost:8080/"
        },
        "id": "Y655Mauw5gx7",
        "outputId": "2904cff6-d061-4e7a-da89-c9cd8d65749e"
      },
      "execution_count": 14,
      "outputs": [
        {
          "output_type": "execute_result",
          "data": {
            "text/plain": [
              "10000"
            ]
          },
          "metadata": {},
          "execution_count": 14
        }
      ]
    },
    {
      "cell_type": "code",
      "source": [
        "# loss_dict = {}\n",
        "# loss_dict[1] = [12, 2]\n",
        "# loss_dict[2] = [3, 1]\n",
        "\n",
        "# fig = plt.figure()\n",
        "# train_losses = np.array(list(loss_dict.values()))[:, 0]\n",
        "# test_losses = np.array(list(loss_dict.values()))[:, 1]\n",
        "# plt.plot(list(loss_dict.keys()), train_losses, label='train')\n",
        "# plt.plot(list(loss_dict.keys()), test_losses , label='test')\n",
        "# plt.xlabel('epoch')\n",
        "# plt.ylabel('loss')\n",
        "# plt.title('loss during training')\n",
        "# plt.legend()\n",
        "# plt.show()\n",
        "\n",
        "def get_min(d:dict):\n",
        "\n",
        "    min_key = next(iter(d))\n",
        "\n",
        "    # Iterate over the keys in the dictionary\n",
        "    for key in d:\n",
        "        # If the value of the current key is greater than the value of max_key, update max_key\n",
        "        if d[key] < d[min_key]:\n",
        "            min_key = key\n",
        "    return min_key, d[min_key]\n",
        "\n",
        "def plot_loss(train_dict, test_dict):\n",
        "    fig = plt.figure()\n",
        "    plt.plot(list(train_dict.keys()), list(train_dict.values()), label='train')\n",
        "    plt.plot(list(test_dict.keys()), list(test_dict.values()), label='test')\n",
        "    plt.xlabel('epoch')\n",
        "    plt.ylabel('loss')\n",
        "    plt.title('loss during training')\n",
        "    plt.legend()\n",
        "    plt.show()\n",
        "\n",
        "filepath = '/content/drive/MyDrive/A_MODEL/chemVAE/'\n",
        "\n",
        "def save_pkl(a:dict, filename=filepath+'filename.pickle'):\n",
        "    import pickle\n",
        "    with open(filename, 'wb') as handle:\n",
        "        pickle.dump(a, handle, protocol=pickle.HIGHEST_PROTOCOL)\n",
        "\n",
        "    # with open('filename.pickle', 'rb') as handle:\n",
        "    #     b = pickle.load(handle)\n",
        "\n",
        "    # print(a == b)"
      ],
      "metadata": {
        "id": "G8wR6yFN2O6Y"
      },
      "execution_count": 43,
      "outputs": []
    },
    {
      "cell_type": "code",
      "source": [
        "train_dict, test_dict = {}, {}\n",
        "model_path = '/content/drive/MyDrive/A_MODEL/chemVAE/'\n",
        "for epoch in range(epochs):\n",
        "    train_dict[epoch] = train(epoch)\n",
        "    if epoch % 1 == 0:\n",
        "        test_dict[epoch] = test(epoch)\n",
        "        if epoch != 0:\n",
        "            plot_loss(train_dict, test_dict)\n",
        "            argmin_epoch, min_loss = get_min(test_dict)\n",
        "            save_pkl(train_dict, filename=model_path+'train_loss.pickle')\n",
        "            save_pkl(test_dict, filename=model_path+'test_loss.pickle')\n",
        "\n",
        "            if test_dict[epoch] <= min_loss and epoch > 10:\n",
        "                torch.save(model.state_dict(),\n",
        "                           model_path+f'ckpt_{str(epoch)}.pt')\n",
        "                print('model save at: ',  model_path+f'ckpt_{str(epoch)}.pt')\n",
        "            else:\n",
        "                if epoch - argmin_epoch > 10:\n",
        "                    print('early stop, loss no decrease')\n",
        "                    break\n",
        "                if test_dict[epoch] / min_loss > 1.3:\n",
        "                    print(f'early stop, loss increase')\n",
        "                    break\n"
      ],
      "metadata": {
        "colab": {
          "base_uri": "https://localhost:8080/",
          "height": 1000
        },
        "id": "pCbqsxK_X0rW",
        "outputId": "2c74474c-5f16-4cbe-cf27-c3644c6c0bf3"
      },
      "execution_count": null,
      "outputs": [
        {
          "output_type": "stream",
          "name": "stderr",
          "text": [
            "epoch 0: 100%|██████████| 160/160 [00:45<00:00,  3.55it/s]\n"
          ]
        },
        {
          "output_type": "stream",
          "name": "stdout",
          "text": [
            "train \t loss: 142.096  KLD beta: 0.000\n",
            "test \t loss: 342.075\n"
          ]
        },
        {
          "output_type": "stream",
          "name": "stderr",
          "text": [
            "epoch 1: 100%|██████████| 160/160 [00:47<00:00,  3.37it/s]\n"
          ]
        },
        {
          "output_type": "stream",
          "name": "stdout",
          "text": [
            "train \t loss: 120.804  KLD beta: 0.008\n",
            "test \t loss: 199.726\n"
          ]
        },
        {
          "output_type": "display_data",
          "data": {
            "text/plain": [
              "<Figure size 640x480 with 1 Axes>"
            ],
            "image/png": "[encoded data removed]"
          },
          "metadata": {}
        },
        {
          "output_type": "stream",
          "name": "stderr",
          "text": [
            "epoch 2: 100%|██████████| 160/160 [00:50<00:00,  3.16it/s]\n"
          ]
        },
        {
          "output_type": "stream",
          "name": "stdout",
          "text": [
            "train \t loss: 116.219  KLD beta: 0.016\n",
            "test \t loss: 161.984\n"
          ]
        },
        {
          "output_type": "display_data",
          "data": {
            "text/plain": [
              "<Figure size 640x480 with 1 Axes>"
            ],
            "image/png": "[encoded data removed]"
          },
          "metadata": {}
        },
        {
          "output_type": "stream",
          "name": "stderr",
          "text": [
            "epoch 3:  36%|███▋      | 58/160 [00:17<00:31,  3.22it/s]"
          ]
        }
      ]
    },
    {
      "cell_type": "code",
      "source": [
        "1 <= 2"
      ],
      "metadata": {
        "colab": {
          "base_uri": "https://localhost:8080/"
        },
        "id": "EFisIdn5DVin",
        "outputId": "eb543bbb-d204-4cf8-efef-2cfe56c9b3e9"
      },
      "execution_count": 40,
      "outputs": [
        {
          "output_type": "execute_result",
          "data": {
            "text/plain": [
              "True"
            ]
          },
          "metadata": {},
          "execution_count": 40
        }
      ]
    },
    {
      "cell_type": "code",
      "source": [
        "test_losses = list(test_dict.values())\n",
        "test_epoches = list(test_dic)"
      ],
      "metadata": {
        "colab": {
          "base_uri": "https://localhost:8080/"
        },
        "id": "n0E37kObZmmw",
        "outputId": "dfe002ee-9947-49ab-b7f8-f71857ccd062"
      },
      "execution_count": 27,
      "outputs": [
        {
          "output_type": "execute_result",
          "data": {
            "text/plain": [
              "dict_values([226.543886328125, 118.57206484375, 112.3496333984375, 109.2369900390625, 106.9527314453125])"
            ]
          },
          "metadata": {},
          "execution_count": 27
        }
      ]
    },
    {
      "cell_type": "code",
      "source": [
        "import copy\n",
        "d = copy.deepcopy(test_dict)\n",
        "\n",
        "\n",
        "\n",
        "get_min(d)"
      ],
      "metadata": {
        "colab": {
          "base_uri": "https://localhost:8080/"
        },
        "id": "fXAAuHr1fX8v",
        "outputId": "d28a2f36-81b3-41c9-982b-141462d32c61"
      },
      "execution_count": 29,
      "outputs": [
        {
          "output_type": "execute_result",
          "data": {
            "text/plain": [
              "(12, 106.9527314453125)"
            ]
          },
          "metadata": {},
          "execution_count": 29
        }
      ]
    },
    {
      "cell_type": "code",
      "source": [],
      "metadata": {
        "id": "nkBxIq6UX1i2"
      },
      "execution_count": null,
      "outputs": []
    },
    {
      "cell_type": "code",
      "source": [
        "data"
      ],
      "metadata": {
        "colab": {
          "base_uri": "https://localhost:8080/"
        },
        "id": "eygd_CW1ZrCz",
        "outputId": "cab28b4e-0eb8-4730-afa6-21ddb15dbfc7"
      },
      "execution_count": 23,
      "outputs": [
        {
          "output_type": "execute_result",
          "data": {
            "text/plain": [
              "[tensor([[[0., 0., 0.,  ..., 0., 0., 0.],\n",
              "          [0., 0., 0.,  ..., 0., 0., 0.],\n",
              "          [0., 0., 0.,  ..., 0., 0., 0.],\n",
              "          ...,\n",
              "          [1., 0., 0.,  ..., 0., 0., 0.],\n",
              "          [1., 0., 0.,  ..., 0., 0., 0.],\n",
              "          [1., 0., 0.,  ..., 0., 0., 0.]],\n",
              " \n",
              "         [[0., 0., 0.,  ..., 0., 0., 0.],\n",
              "          [0., 0., 0.,  ..., 0., 0., 0.],\n",
              "          [0., 0., 0.,  ..., 0., 0., 0.],\n",
              "          ...,\n",
              "          [1., 0., 0.,  ..., 0., 0., 0.],\n",
              "          [1., 0., 0.,  ..., 0., 0., 0.],\n",
              "          [1., 0., 0.,  ..., 0., 0., 0.]],\n",
              " \n",
              "         [[0., 0., 0.,  ..., 0., 0., 0.],\n",
              "          [0., 0., 0.,  ..., 0., 0., 0.],\n",
              "          [0., 0., 0.,  ..., 0., 0., 0.],\n",
              "          ...,\n",
              "          [1., 0., 0.,  ..., 0., 0., 0.],\n",
              "          [1., 0., 0.,  ..., 0., 0., 0.],\n",
              "          [1., 0., 0.,  ..., 0., 0., 0.]],\n",
              " \n",
              "         ...,\n",
              " \n",
              "         [[0., 0., 0.,  ..., 0., 0., 0.],\n",
              "          [0., 0., 0.,  ..., 0., 0., 0.],\n",
              "          [0., 0., 0.,  ..., 0., 0., 0.],\n",
              "          ...,\n",
              "          [1., 0., 0.,  ..., 0., 0., 0.],\n",
              "          [1., 0., 0.,  ..., 0., 0., 0.],\n",
              "          [1., 0., 0.,  ..., 0., 0., 0.]],\n",
              " \n",
              "         [[0., 0., 0.,  ..., 0., 0., 0.],\n",
              "          [0., 0., 0.,  ..., 0., 0., 0.],\n",
              "          [0., 0., 0.,  ..., 0., 0., 0.],\n",
              "          ...,\n",
              "          [1., 0., 0.,  ..., 0., 0., 0.],\n",
              "          [1., 0., 0.,  ..., 0., 0., 0.],\n",
              "          [1., 0., 0.,  ..., 0., 0., 0.]],\n",
              " \n",
              "         [[0., 0., 0.,  ..., 0., 0., 0.],\n",
              "          [0., 0., 0.,  ..., 0., 0., 0.],\n",
              "          [0., 0., 0.,  ..., 0., 0., 0.],\n",
              "          ...,\n",
              "          [1., 0., 0.,  ..., 0., 0., 0.],\n",
              "          [1., 0., 0.,  ..., 0., 0., 0.],\n",
              "          [1., 0., 0.,  ..., 0., 0., 0.]]])]"
            ]
          },
          "metadata": {},
          "execution_count": 23
        }
      ]
    },
    {
      "cell_type": "code",
      "source": [
        "data[0].shape"
      ],
      "metadata": {
        "colab": {
          "base_uri": "https://localhost:8080/"
        },
        "id": "iHQpRRopYWdn",
        "outputId": "964aae0e-9b73-463e-a144-1f991e2584d4"
      },
      "execution_count": 25,
      "outputs": [
        {
          "output_type": "execute_result",
          "data": {
            "text/plain": [
              "torch.Size([250, 120, 33])"
            ]
          },
          "metadata": {},
          "execution_count": 25
        }
      ]
    },
    {
      "cell_type": "code",
      "source": [
        "a=data[0].view(data[0].size(0), -1)"
      ],
      "metadata": {
        "id": "iAsF-4k2ZsuQ"
      },
      "execution_count": 29,
      "outputs": []
    },
    {
      "cell_type": "code",
      "source": [
        "a.size(0)"
      ],
      "metadata": {
        "colab": {
          "base_uri": "https://localhost:8080/"
        },
        "id": "36AMbPbtaavM",
        "outputId": "debbcd84-2a08-49cf-f82f-3f166fc28e44"
      },
      "execution_count": 32,
      "outputs": [
        {
          "output_type": "execute_result",
          "data": {
            "text/plain": [
              "250"
            ]
          },
          "metadata": {},
          "execution_count": 32
        }
      ]
    },
    {
      "cell_type": "code",
      "source": [
        "new_a = a.view(a.size(0), 1, a.size(-1)).repeat(1, 120, 1)"
      ],
      "metadata": {
        "id": "7ZR82Pr1b3X0"
      },
      "execution_count": 35,
      "outputs": []
    },
    {
      "cell_type": "code",
      "source": [
        "new_a.shape"
      ],
      "metadata": {
        "colab": {
          "base_uri": "https://localhost:8080/"
        },
        "id": "W_35fr80b83b",
        "outputId": "92f91461-e072-409c-9bc4-6e0f7e51d0e0"
      },
      "execution_count": 37,
      "outputs": [
        {
          "output_type": "execute_result",
          "data": {
            "text/plain": [
              "torch.Size([250, 120, 3960])"
            ]
          },
          "metadata": {},
          "execution_count": 37
        }
      ]
    },
    {
      "cell_type": "code",
      "source": [],
      "metadata": {
        "id": "4QNihSKRcCNR"
      },
      "execution_count": null,
      "outputs": []
    }
  ]
}