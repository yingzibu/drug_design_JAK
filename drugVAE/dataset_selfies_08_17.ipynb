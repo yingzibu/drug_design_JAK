{
  "nbformat": 4,
  "nbformat_minor": 0,
  "metadata": {
    "colab": {
      "provenance": [],
      "gpuType": "T4",
      "mount_file_id": "1cywQF41snIhwRbdLFX87PiYx72dbaKik",
      "authorship_tag": "ABX9TyNnBSqQQ1hNmXUlABARoU5M",
      "include_colab_link": true
    },
    "kernelspec": {
      "name": "python3",
      "display_name": "Python 3"
    },
    "language_info": {
      "name": "python"
    },
    "accelerator": "GPU"
  },
  "cells": [
    {
      "cell_type": "markdown",
      "metadata": {
        "id": "view-in-github",
        "colab_type": "text"
      },
      "source": [
        "<a href=\"https://colab.research.google.com/github/yingzibu/drug_design_JAK/blob/main/drugVAE/dataset_selfies_08_17.ipynb\" target=\"_parent\"><img src=\"https://colab.research.google.com/assets/colab-badge.svg\" alt=\"Open In Colab\"/></a>"
      ]
    },
    {
      "cell_type": "markdown",
      "source": [
        "Dataset conversion (SELFIES)"
      ],
      "metadata": {
        "id": "biE94NGVjDqF"
      }
    },
    {
      "cell_type": "code",
      "source": [
        "cd /content"
      ],
      "metadata": {
        "colab": {
          "base_uri": "https://localhost:8080/"
        },
        "id": "JGB1jM36hNsD",
        "outputId": "bda89374-1dcf-4a15-bf86-6c0c516796a8"
      },
      "execution_count": null,
      "outputs": [
        {
          "output_type": "stream",
          "name": "stdout",
          "text": [
            "/content\n"
          ]
        }
      ]
    },
    {
      "cell_type": "code",
      "execution_count": null,
      "metadata": {
        "colab": {
          "base_uri": "https://localhost:8080/"
        },
        "id": "QTZI0pAYfhI_",
        "outputId": "c1adb7fc-4d65-4281-fefd-cfe5e4923938"
      },
      "outputs": [
        {
          "output_type": "stream",
          "name": "stdout",
          "text": [
            "rm: cannot remove 'a_inhibitor_design': No such file or directory\n",
            "Cloning into 'a_inhibitor_design'...\n",
            "remote: Enumerating objects: 115, done.\u001b[K\n",
            "remote: Counting objects: 100% (115/115), done.\u001b[K\n",
            "remote: Compressing objects: 100% (108/108), done.\u001b[K\n",
            "remote: Total 115 (delta 32), reused 0 (delta 0), pack-reused 0\u001b[K\n",
            "Receiving objects: 100% (115/115), 218.25 KiB | 2.27 MiB/s, done.\n",
            "Resolving deltas: 100% (32/32), done.\n"
          ]
        }
      ],
      "source": [
        "!rm -R 'a_inhibitor_design'\n",
        "! git clone https://github.com/yingzibu/a_inhibitor_design.git"
      ]
    },
    {
      "cell_type": "code",
      "source": [
        "cd a_inhibitor_design"
      ],
      "metadata": {
        "colab": {
          "base_uri": "https://localhost:8080/"
        },
        "id": "fuTAdY4dfsyd",
        "outputId": "e8232dc8-8822-4782-acec-00b847e03ca3"
      },
      "execution_count": null,
      "outputs": [
        {
          "output_type": "stream",
          "name": "stdout",
          "text": [
            "/content/a_inhibitor_design\n"
          ]
        }
      ]
    },
    {
      "cell_type": "code",
      "source": [
        "! pip install selfies --quiet"
      ],
      "metadata": {
        "id": "ovG8qjXbgEXh"
      },
      "execution_count": null,
      "outputs": []
    },
    {
      "cell_type": "code",
      "source": [
        "from data.tokenizer_selfies import SmilesToSelfies\n",
        "import pandas as pd\n",
        "\n",
        "data = pd.read_csv('/content/a_inhibitor_design/data/jak_smiles.csv')\n",
        "print(data.head())\n",
        "\n",
        "# Converting smiles to selfies\n",
        "selfies_df = SmilesToSelfies(data.Smiles)\n",
        "print(selfies_df.head())\n",
        "print(selfies_df.shape)\n"
      ],
      "metadata": {
        "colab": {
          "base_uri": "https://localhost:8080/"
        },
        "id": "IReaBL16ftH-",
        "outputId": "b8591899-9180-4b46-bf89-ada9aff50dfc"
      },
      "execution_count": null,
      "outputs": [
        {
          "output_type": "stream",
          "name": "stdout",
          "text": [
            "                                              Smiles\n",
            "0  [2H]C([2H])([2H])N=C(O)c1cnc(N=C(O)C2CC2)cc1Nc...\n",
            "1  [2H]C([2H])([2H])NC(=O)c1cnc(NC(=O)C2CC2)cc1Nc...\n",
            "2  [2H]C([2H])([2H])NC(=O)c1n[nH]c(=NC(=O)C2CC2)c...\n",
            "3  [2H]C([2H])([2H])NC(=O)c1n[nH]c(=Nc2ccc(F)cn2)...\n",
            "4  [2H]C([2H])([2H])NC(=O)c1nnc(NC(=O)C2CC2)cc1Nc...\n"
          ]
        },
        {
          "output_type": "stream",
          "name": "stderr",
          "text": [
            "100%|██████████| 25739/25739 [00:46<00:00, 554.88it/s]\n"
          ]
        },
        {
          "output_type": "execute_result",
          "data": {
            "text/plain": [
              "(                                             Selfies\n",
              " 0  [2H][C][Branch1][C][2H][Branch1][C][2H][N][=C]...\n",
              " 1  [2H][C][Branch1][C][2H][Branch1][C][2H][N][C][...\n",
              " 2  [2H][C][Branch1][C][2H][Branch1][C][2H][N][C][...\n",
              " 3  [2H][C][Branch1][C][2H][Branch1][C][2H][N][C][...\n",
              " 4  [2H][C][Branch1][C][2H][Branch1][C][2H][N][C][...,\n",
              " (25739, 1))"
            ]
          },
          "metadata": {},
          "execution_count": 4
        }
      ]
    },
    {
      "cell_type": "code",
      "source": [
        "from data.tokenizer_selfies import SelfiesToDataset\n",
        "\n",
        "MAX_LEN = 120\n",
        "print('define the max len of dataset')\n",
        "dict_ = SelfiesToDataset(selfies_df, max_len=120, savename='test.pt')"
      ],
      "metadata": {
        "colab": {
          "base_uri": "https://localhost:8080/"
        },
        "id": "W455ZmZZfwuT",
        "outputId": "f31e8f5e-c09f-417d-84cf-3eb9680196bf"
      },
      "execution_count": null,
      "outputs": [
        {
          "output_type": "stream",
          "name": "stdout",
          "text": [
            "len alphabet:  59\n",
            "max len in dataset: 109\n"
          ]
        },
        {
          "output_type": "stream",
          "name": "stderr",
          "text": [
            "100%|██████████| 25739/25739 [00:13<00:00, 1894.29it/s]\n"
          ]
        },
        {
          "output_type": "stream",
          "name": "stdout",
          "text": [
            "dataset saved at: test.pt\n"
          ]
        }
      ]
    },
    {
      "cell_type": "code",
      "source": [
        "dict_.keys()"
      ],
      "metadata": {
        "colab": {
          "base_uri": "https://localhost:8080/"
        },
        "id": "YN2UmG-2iMMp",
        "outputId": "6fe4f93d-be36-4610-a328-209e0ae238ab"
      },
      "execution_count": null,
      "outputs": [
        {
          "output_type": "execute_result",
          "data": {
            "text/plain": [
              "dict_keys(['labels', 'one_hots', 'alphabet'])"
            ]
          },
          "metadata": {},
          "execution_count": 6
        }
      ]
    },
    {
      "cell_type": "code",
      "source": [
        "print('onehot vector shape [len_drug, max_len]: ', dict_['labels'].shape)\n",
        "print('onehot matrix shape [len_drug, max_len, len_alphabet]: ',\n",
        "      dict_['one_hots'].shape)\n",
        "print('selfies alphabet len: ', len(dict_['alphabet']))"
      ],
      "metadata": {
        "colab": {
          "base_uri": "https://localhost:8080/"
        },
        "id": "kBg65UDmiNtQ",
        "outputId": "26bd78ba-0c8a-44ca-901c-3e1beef3515d"
      },
      "execution_count": null,
      "outputs": [
        {
          "output_type": "stream",
          "name": "stdout",
          "text": [
            "onehot vector shape [len_drug, max_len]:  torch.Size([25739, 120])\n",
            "onehot matrix shape [len_drug, max_len, len_alphabet]:  torch.Size([25739, 120, 59])\n",
            "selfies alphabet len:  59\n"
          ]
        }
      ]
    },
    {
      "cell_type": "code",
      "source": [],
      "metadata": {
        "id": "6l4oCbBKlGEX"
      },
      "execution_count": null,
      "outputs": []
    },
    {
      "cell_type": "code",
      "source": [],
      "metadata": {
        "id": "MOY44_M9lG1G"
      },
      "execution_count": null,
      "outputs": []
    },
    {
      "cell_type": "code",
      "source": [],
      "metadata": {
        "id": "DdOG5J63lG3t"
      },
      "execution_count": null,
      "outputs": []
    },
    {
      "cell_type": "code",
      "source": [
        "import torch\n",
        "import torch.nn as nn\n",
        "import torch.nn.functional as F\n",
        "from torch.nn import init"
      ],
      "metadata": {
        "id": "A8Ej02F_lG6U"
      },
      "execution_count": null,
      "outputs": []
    },
    {
      "cell_type": "code",
      "source": [
        "class Classifier_binary(nn.Module):\n",
        "    \"\"\"\n",
        "    simple classifier, for prediction using latent space z\n",
        "    https://dejanbatanjac.github.io/2019/07/04/softmax-vs-sigmoid.html\n",
        "    \"\"\"\n",
        "    def __init__(self, dims, tasktype, multitask):\n",
        "        \"\"\"\n",
        "        takes latent z as input, compute labels\n",
        "        :param dims: [in_dim, h_dims, out_dim]\n",
        "            in_dim: the same as latent z dim\n",
        "            h_dims: hidden dims, a list of int\n",
        "            out_dim: the same as task label\n",
        "        :param tasktype:\n",
        "            'R': regression task, need MSELoss\n",
        "            'C': classification task, BCELoss sum\n",
        "        :param multitask:\n",
        "            True:\n",
        "            doing multitask the same time,\n",
        "            e.g. predicting 4 JAK simutaneously\n",
        "            label could be\n",
        "            [1, 1, 0, 1]:  jak1, 2, tyk2 inhibitor\n",
        "            need sigmoid output instead of softmax\n",
        "\n",
        "            False: doing single task\n",
        "                if regression: nn.Linear\n",
        "                if classification:\n",
        "                    softmax for label > 2\n",
        "                    sigmoid for binary\n",
        "        \"\"\"\n",
        "        super(Classifier_binary, self).__init__()\n",
        "        [in_dim, h_dims, out_dim] = dims\n",
        "        assert out_dim == 1\n",
        "        neurons = [in_dim, *h_dims]\n",
        "        linear_layers = [nn.Linear(\n",
        "            neurons[i-1], neurons[i]) for i in range(1, len(neurons))]\n",
        "\n",
        "        self.hidden = nn.ModuleList(linear_layers)\n",
        "        self.final = nn.Linear(h_dims[-1], out_dim)\n",
        "\n",
        "        # self.multitask = multitask\n",
        "        # self.tasktype = tasktype\n",
        "\n",
        "        # if self.tasktype == 'R': print('desired loss function: MSELoss')\n",
        "        # if self.tasktype == 'C': print('desired loss funciton: BCELoss')\n",
        "\n",
        "\n",
        "\n",
        "    def forward(self, x):\n",
        "        for layer in self.hidden:\n",
        "            x = F.relu(layer(x))\n",
        "            # print(x.shape) [batch_size, h_dim[-1]]\n",
        "        x = self.final(x)\n",
        "        x = torch.sigmoid(x)\n",
        "        return x\n",
        "\n",
        "        # if self.tasktype == 'R': return x # need MSELoss\n",
        "\n",
        "        # if self.tasktype == 'C': # need BCELoss\n",
        "\n",
        "        #         # task such as identifying JAK inhibitors\n",
        "        #         # labels are not onehot but could be\n",
        "        #         # [1, 1, 1, 0]: JAK1, 2, 3 inhibitor\n",
        "        #     if self.multitask: return F.sigmoid(x)\n",
        "\n",
        "        #     # onehot label\n",
        "\n",
        "        #     else: return F.softmax(x, dim=-1)\n"
      ],
      "metadata": {
        "id": "zFsBPaYElWPb"
      },
      "execution_count": null,
      "outputs": []
    },
    {
      "cell_type": "code",
      "source": [],
      "metadata": {
        "id": "5Z2HI7jx7Vij"
      },
      "execution_count": null,
      "outputs": []
    },
    {
      "cell_type": "code",
      "source": [
        "aad = torch.tensor([0.6, 0.3]).cuda()\n",
        "\n",
        "\n",
        "loss_function(aad, aad)"
      ],
      "metadata": {
        "colab": {
          "base_uri": "https://localhost:8080/"
        },
        "id": "T4-g5IL-w8Wz",
        "outputId": "2e001437-b4f6-4854-91ff-c5a6b49a0f18"
      },
      "execution_count": null,
      "outputs": [
        {
          "output_type": "execute_result",
          "data": {
            "text/plain": [
              "tensor(0.5889, device='cuda:0')"
            ]
          },
          "metadata": {},
          "execution_count": 289
        }
      ]
    },
    {
      "cell_type": "code",
      "source": [
        "!rm -R 'JAK_ML'\n",
        "! git clone https://github.com/yingzibu/JAK_ML.git"
      ],
      "metadata": {
        "colab": {
          "base_uri": "https://localhost:8080/"
        },
        "id": "eH1SlEGmw_JC",
        "outputId": "92e507a8-876b-42e8-e87d-b06ecd3cd1e1"
      },
      "execution_count": null,
      "outputs": [
        {
          "output_type": "stream",
          "name": "stdout",
          "text": [
            "rm: cannot remove 'JAK_ML': No such file or directory\n",
            "Cloning into 'JAK_ML'...\n",
            "remote: Enumerating objects: 299, done.\u001b[K\n",
            "remote: Counting objects: 100% (168/168), done.\u001b[K\n",
            "remote: Compressing objects: 100% (113/113), done.\u001b[K\n",
            "remote: Total 299 (delta 83), reused 105 (delta 54), pack-reused 131\u001b[K\n",
            "Receiving objects: 100% (299/299), 8.39 MiB | 17.26 MiB/s, done.\n",
            "Resolving deltas: 100% (143/143), done.\n"
          ]
        }
      ]
    },
    {
      "cell_type": "code",
      "source": [
        "model.loss_function(aad, aad)"
      ],
      "metadata": {
        "colab": {
          "base_uri": "https://localhost:8080/"
        },
        "id": "xFwpRy9KNZnY",
        "outputId": "67f77b3c-cfc5-407a-dcd7-0f74871c38cf"
      },
      "execution_count": null,
      "outputs": [
        {
          "output_type": "execute_result",
          "data": {
            "text/plain": [
              "tensor(0.4799, device='cuda:0')"
            ]
          },
          "metadata": {},
          "execution_count": 266
        }
      ]
    },
    {
      "cell_type": "code",
      "source": [
        "import pandas as pd\n",
        "data = pd.read_csv('new_data/JAK1_final.csv')\n",
        "data.head()"
      ],
      "metadata": {
        "colab": {
          "base_uri": "https://localhost:8080/",
          "height": 397
        },
        "id": "Dq701a_0xPKn",
        "outputId": "8695c192-9e77-4655-fd6d-5a2126ffaf45"
      },
      "execution_count": null,
      "outputs": [
        {
          "output_type": "execute_result",
          "data": {
            "text/plain": [
              "   Unnamed: 0                                             Smiles  Activity\n",
              "0           0  COCCOC1CCCN(S(=O)(=O)C[C@H]2CC[C@H](N(C)c3ncnc...         1\n",
              "1           1  CC(C)COC1CCCN(S(=O)(=O)C[C@H]2CC[C@H](N(C)c3nc...         1\n",
              "2           2  C[C@H]1CN(S(=O)(=O)C[C@H]2CC[C@H](N(C)c3ncnc4[...         1\n",
              "3           3  C[C@@H]1C[C@@H](CS(=O)(=O)N2CC[C@H](CO)C2)CC[C...         1\n",
              "4           4  CN(c1ncnc2[nH]ccc12)[C@H]1CC[C@H](CS(=O)(=O)N2...         1"
            ],
            "text/html": [
              "\n",
              "  <div id=\"df-75f3ae29-27c8-4fd6-befc-6a3341dcad6f\" class=\"colab-df-container\">\n",
              "    <div>\n",
              "<style scoped>\n",
              "    .dataframe tbody tr th:only-of-type {\n",
              "        vertical-align: middle;\n",
              "    }\n",
              "\n",
              "    .dataframe tbody tr th {\n",
              "        vertical-align: top;\n",
              "    }\n",
              "\n",
              "    .dataframe thead th {\n",
              "        text-align: right;\n",
              "    }\n",
              "</style>\n",
              "<table border=\"1\" class=\"dataframe\">\n",
              "  <thead>\n",
              "    <tr style=\"text-align: right;\">\n",
              "      <th></th>\n",
              "      <th>Unnamed: 0</th>\n",
              "      <th>Smiles</th>\n",
              "      <th>Activity</th>\n",
              "    </tr>\n",
              "  </thead>\n",
              "  <tbody>\n",
              "    <tr>\n",
              "      <th>0</th>\n",
              "      <td>0</td>\n",
              "      <td>COCCOC1CCCN(S(=O)(=O)C[C@H]2CC[C@H](N(C)c3ncnc...</td>\n",
              "      <td>1</td>\n",
              "    </tr>\n",
              "    <tr>\n",
              "      <th>1</th>\n",
              "      <td>1</td>\n",
              "      <td>CC(C)COC1CCCN(S(=O)(=O)C[C@H]2CC[C@H](N(C)c3nc...</td>\n",
              "      <td>1</td>\n",
              "    </tr>\n",
              "    <tr>\n",
              "      <th>2</th>\n",
              "      <td>2</td>\n",
              "      <td>C[C@H]1CN(S(=O)(=O)C[C@H]2CC[C@H](N(C)c3ncnc4[...</td>\n",
              "      <td>1</td>\n",
              "    </tr>\n",
              "    <tr>\n",
              "      <th>3</th>\n",
              "      <td>3</td>\n",
              "      <td>C[C@@H]1C[C@@H](CS(=O)(=O)N2CC[C@H](CO)C2)CC[C...</td>\n",
              "      <td>1</td>\n",
              "    </tr>\n",
              "    <tr>\n",
              "      <th>4</th>\n",
              "      <td>4</td>\n",
              "      <td>CN(c1ncnc2[nH]ccc12)[C@H]1CC[C@H](CS(=O)(=O)N2...</td>\n",
              "      <td>1</td>\n",
              "    </tr>\n",
              "  </tbody>\n",
              "</table>\n",
              "</div>\n",
              "    <div class=\"colab-df-buttons\">\n",
              "\n",
              "  <div class=\"colab-df-container\">\n",
              "    <button class=\"colab-df-convert\" onclick=\"convertToInteractive('df-75f3ae29-27c8-4fd6-befc-6a3341dcad6f')\"\n",
              "            title=\"Convert this dataframe to an interactive table.\"\n",
              "            style=\"display:none;\">\n",
              "\n",
              "  <svg xmlns=\"http://www.w3.org/2000/svg\" height=\"24px\" viewBox=\"0 -960 960 960\">\n",
              "    <path d=\"M120-120v-720h720v720H120Zm60-500h600v-160H180v160Zm220 220h160v-160H400v160Zm0 220h160v-160H400v160ZM180-400h160v-160H180v160Zm440 0h160v-160H620v160ZM180-180h160v-160H180v160Zm440 0h160v-160H620v160Z\"/>\n",
              "  </svg>\n",
              "    </button>\n",
              "\n",
              "  <style>\n",
              "    .colab-df-container {\n",
              "      display:flex;\n",
              "      gap: 12px;\n",
              "    }\n",
              "\n",
              "    .colab-df-convert {\n",
              "      background-color: #E8F0FE;\n",
              "      border: none;\n",
              "      border-radius: 50%;\n",
              "      cursor: pointer;\n",
              "      display: none;\n",
              "      fill: #1967D2;\n",
              "      height: 32px;\n",
              "      padding: 0 0 0 0;\n",
              "      width: 32px;\n",
              "    }\n",
              "\n",
              "    .colab-df-convert:hover {\n",
              "      background-color: #E2EBFA;\n",
              "      box-shadow: 0px 1px 2px rgba(60, 64, 67, 0.3), 0px 1px 3px 1px rgba(60, 64, 67, 0.15);\n",
              "      fill: #174EA6;\n",
              "    }\n",
              "\n",
              "    .colab-df-buttons div {\n",
              "      margin-bottom: 4px;\n",
              "    }\n",
              "\n",
              "    [theme=dark] .colab-df-convert {\n",
              "      background-color: #3B4455;\n",
              "      fill: #D2E3FC;\n",
              "    }\n",
              "\n",
              "    [theme=dark] .colab-df-convert:hover {\n",
              "      background-color: #434B5C;\n",
              "      box-shadow: 0px 1px 3px 1px rgba(0, 0, 0, 0.15);\n",
              "      filter: drop-shadow(0px 1px 2px rgba(0, 0, 0, 0.3));\n",
              "      fill: #FFFFFF;\n",
              "    }\n",
              "  </style>\n",
              "\n",
              "    <script>\n",
              "      const buttonEl =\n",
              "        document.querySelector('#df-75f3ae29-27c8-4fd6-befc-6a3341dcad6f button.colab-df-convert');\n",
              "      buttonEl.style.display =\n",
              "        google.colab.kernel.accessAllowed ? 'block' : 'none';\n",
              "\n",
              "      async function convertToInteractive(key) {\n",
              "        const element = document.querySelector('#df-75f3ae29-27c8-4fd6-befc-6a3341dcad6f');\n",
              "        const dataTable =\n",
              "          await google.colab.kernel.invokeFunction('convertToInteractive',\n",
              "                                                    [key], {});\n",
              "        if (!dataTable) return;\n",
              "\n",
              "        const docLinkHtml = 'Like what you see? Visit the ' +\n",
              "          '<a target=\"_blank\" href=https://colab.research.google.com/notebooks/data_table.ipynb>data table notebook</a>'\n",
              "          + ' to learn more about interactive tables.';\n",
              "        element.innerHTML = '';\n",
              "        dataTable['output_type'] = 'display_data';\n",
              "        await google.colab.output.renderOutput(dataTable, element);\n",
              "        const docLink = document.createElement('div');\n",
              "        docLink.innerHTML = docLinkHtml;\n",
              "        element.appendChild(docLink);\n",
              "      }\n",
              "    </script>\n",
              "  </div>\n",
              "\n",
              "\n",
              "<div id=\"df-bebcc56d-f729-407a-96b0-51562fd271cf\">\n",
              "  <button class=\"colab-df-quickchart\" onclick=\"quickchart('df-bebcc56d-f729-407a-96b0-51562fd271cf')\"\n",
              "            title=\"Suggest charts.\"\n",
              "            style=\"display:none;\">\n",
              "\n",
              "<svg xmlns=\"http://www.w3.org/2000/svg\" height=\"24px\"viewBox=\"0 0 24 24\"\n",
              "     width=\"24px\">\n",
              "    <g>\n",
              "        <path d=\"M19 3H5c-1.1 0-2 .9-2 2v14c0 1.1.9 2 2 2h14c1.1 0 2-.9 2-2V5c0-1.1-.9-2-2-2zM9 17H7v-7h2v7zm4 0h-2V7h2v10zm4 0h-2v-4h2v4z\"/>\n",
              "    </g>\n",
              "</svg>\n",
              "  </button>\n",
              "\n",
              "<style>\n",
              "  .colab-df-quickchart {\n",
              "    background-color: #E8F0FE;\n",
              "    border: none;\n",
              "    border-radius: 50%;\n",
              "    cursor: pointer;\n",
              "    display: none;\n",
              "    fill: #1967D2;\n",
              "    height: 32px;\n",
              "    padding: 0 0 0 0;\n",
              "    width: 32px;\n",
              "  }\n",
              "\n",
              "  .colab-df-quickchart:hover {\n",
              "    background-color: #E2EBFA;\n",
              "    box-shadow: 0px 1px 2px rgba(60, 64, 67, 0.3), 0px 1px 3px 1px rgba(60, 64, 67, 0.15);\n",
              "    fill: #174EA6;\n",
              "  }\n",
              "\n",
              "  [theme=dark] .colab-df-quickchart {\n",
              "    background-color: #3B4455;\n",
              "    fill: #D2E3FC;\n",
              "  }\n",
              "\n",
              "  [theme=dark] .colab-df-quickchart:hover {\n",
              "    background-color: #434B5C;\n",
              "    box-shadow: 0px 1px 3px 1px rgba(0, 0, 0, 0.15);\n",
              "    filter: drop-shadow(0px 1px 2px rgba(0, 0, 0, 0.3));\n",
              "    fill: #FFFFFF;\n",
              "  }\n",
              "</style>\n",
              "\n",
              "  <script>\n",
              "    async function quickchart(key) {\n",
              "      const charts = await google.colab.kernel.invokeFunction(\n",
              "          'suggestCharts', [key], {});\n",
              "    }\n",
              "    (() => {\n",
              "      let quickchartButtonEl =\n",
              "        document.querySelector('#df-bebcc56d-f729-407a-96b0-51562fd271cf button');\n",
              "      quickchartButtonEl.style.display =\n",
              "        google.colab.kernel.accessAllowed ? 'block' : 'none';\n",
              "    })();\n",
              "  </script>\n",
              "</div>\n",
              "    </div>\n",
              "  </div>\n"
            ]
          },
          "metadata": {},
          "execution_count": 50
        }
      ]
    },
    {
      "cell_type": "code",
      "source": [
        "cd JAK_ML/new_data"
      ],
      "metadata": {
        "colab": {
          "base_uri": "https://localhost:8080/"
        },
        "id": "90qf2Ot7xGXZ",
        "outputId": "20c13745-1518-4dd3-954d-8b3b1f9d29ea"
      },
      "execution_count": null,
      "outputs": [
        {
          "output_type": "stream",
          "name": "stdout",
          "text": [
            "/content/JAK_ML/new_data\n"
          ]
        }
      ]
    },
    {
      "cell_type": "code",
      "source": [
        "from ML_code.function import *\n",
        "# from function import *"
      ],
      "metadata": {
        "id": "XMHBrsjsxq_d"
      },
      "execution_count": null,
      "outputs": []
    },
    {
      "cell_type": "code",
      "source": [
        "MACCS_list = smile_list_to_MACCS(data['Smiles'].tolist())\n",
        "header = ['bit' + str(i) for i in range(167)]\n",
        "df = pd.DataFrame(MACCS_list, columns = header)\n",
        "df['Activity'] = data['Activity']"
      ],
      "metadata": {
        "id": "No7sd78ux0_X"
      },
      "execution_count": null,
      "outputs": []
    },
    {
      "cell_type": "code",
      "source": [
        "df"
      ],
      "metadata": {
        "colab": {
          "base_uri": "https://localhost:8080/",
          "height": 444
        },
        "id": "ilUsjy-KygSV",
        "outputId": "797a50b5-c184-4759-d529-346f332dfa17"
      },
      "execution_count": null,
      "outputs": [
        {
          "output_type": "execute_result",
          "data": {
            "text/plain": [
              "     bit0 bit1 bit2 bit3 bit4 bit5 bit6 bit7 bit8 bit9  ... bit158 bit159  \\\n",
              "0       0    0    0    0    0    0    0    0    0    0  ...      1      1   \n",
              "1       0    0    0    0    0    0    0    0    0    0  ...      1      1   \n",
              "2       0    0    0    0    0    0    0    0    0    0  ...      1      1   \n",
              "3       0    0    0    0    0    0    0    0    0    0  ...      1      1   \n",
              "4       0    0    0    0    0    0    0    0    0    0  ...      1      1   \n",
              "...   ...  ...  ...  ...  ...  ...  ...  ...  ...  ...  ...    ...    ...   \n",
              "7368    0    0    0    0    0    0    0    0    0    0  ...      1      1   \n",
              "7369    0    0    0    0    0    0    0    0    0    0  ...      1      1   \n",
              "7370    0    0    0    0    0    0    0    0    0    0  ...      1      1   \n",
              "7371    0    0    0    0    0    0    0    0    0    0  ...      1      1   \n",
              "7372    0    0    0    0    0    0    0    0    0    0  ...      1      1   \n",
              "\n",
              "     bit160 bit161 bit162 bit163 bit164 bit165 bit166 Activity  \n",
              "0         1      1      1      1      1      1      0        1  \n",
              "1         1      1      1      1      1      1      0        1  \n",
              "2         1      1      1      1      1      1      0        1  \n",
              "3         1      1      1      1      1      1      0        1  \n",
              "4         1      1      1      1      1      1      0        1  \n",
              "...     ...    ...    ...    ...    ...    ...    ...      ...  \n",
              "7368      1      1      1      1      1      1      0        0  \n",
              "7369      1      1      1      1      1      1      0        0  \n",
              "7370      1      1      1      1      1      1      0        0  \n",
              "7371      1      1      1      1      1      1      0        0  \n",
              "7372      1      1      1      1      1      1      0        0  \n",
              "\n",
              "[7373 rows x 168 columns]"
            ],
            "text/html": [
              "\n",
              "  <div id=\"df-f8ffc9b5-bf04-4663-87f0-dfda56ca3f76\" class=\"colab-df-container\">\n",
              "    <div>\n",
              "<style scoped>\n",
              "    .dataframe tbody tr th:only-of-type {\n",
              "        vertical-align: middle;\n",
              "    }\n",
              "\n",
              "    .dataframe tbody tr th {\n",
              "        vertical-align: top;\n",
              "    }\n",
              "\n",
              "    .dataframe thead th {\n",
              "        text-align: right;\n",
              "    }\n",
              "</style>\n",
              "<table border=\"1\" class=\"dataframe\">\n",
              "  <thead>\n",
              "    <tr style=\"text-align: right;\">\n",
              "      <th></th>\n",
              "      <th>bit0</th>\n",
              "      <th>bit1</th>\n",
              "      <th>bit2</th>\n",
              "      <th>bit3</th>\n",
              "      <th>bit4</th>\n",
              "      <th>bit5</th>\n",
              "      <th>bit6</th>\n",
              "      <th>bit7</th>\n",
              "      <th>bit8</th>\n",
              "      <th>bit9</th>\n",
              "      <th>...</th>\n",
              "      <th>bit158</th>\n",
              "      <th>bit159</th>\n",
              "      <th>bit160</th>\n",
              "      <th>bit161</th>\n",
              "      <th>bit162</th>\n",
              "      <th>bit163</th>\n",
              "      <th>bit164</th>\n",
              "      <th>bit165</th>\n",
              "      <th>bit166</th>\n",
              "      <th>Activity</th>\n",
              "    </tr>\n",
              "  </thead>\n",
              "  <tbody>\n",
              "    <tr>\n",
              "      <th>0</th>\n",
              "      <td>0</td>\n",
              "      <td>0</td>\n",
              "      <td>0</td>\n",
              "      <td>0</td>\n",
              "      <td>0</td>\n",
              "      <td>0</td>\n",
              "      <td>0</td>\n",
              "      <td>0</td>\n",
              "      <td>0</td>\n",
              "      <td>0</td>\n",
              "      <td>...</td>\n",
              "      <td>1</td>\n",
              "      <td>1</td>\n",
              "      <td>1</td>\n",
              "      <td>1</td>\n",
              "      <td>1</td>\n",
              "      <td>1</td>\n",
              "      <td>1</td>\n",
              "      <td>1</td>\n",
              "      <td>0</td>\n",
              "      <td>1</td>\n",
              "    </tr>\n",
              "    <tr>\n",
              "      <th>1</th>\n",
              "      <td>0</td>\n",
              "      <td>0</td>\n",
              "      <td>0</td>\n",
              "      <td>0</td>\n",
              "      <td>0</td>\n",
              "      <td>0</td>\n",
              "      <td>0</td>\n",
              "      <td>0</td>\n",
              "      <td>0</td>\n",
              "      <td>0</td>\n",
              "      <td>...</td>\n",
              "      <td>1</td>\n",
              "      <td>1</td>\n",
              "      <td>1</td>\n",
              "      <td>1</td>\n",
              "      <td>1</td>\n",
              "      <td>1</td>\n",
              "      <td>1</td>\n",
              "      <td>1</td>\n",
              "      <td>0</td>\n",
              "      <td>1</td>\n",
              "    </tr>\n",
              "    <tr>\n",
              "      <th>2</th>\n",
              "      <td>0</td>\n",
              "      <td>0</td>\n",
              "      <td>0</td>\n",
              "      <td>0</td>\n",
              "      <td>0</td>\n",
              "      <td>0</td>\n",
              "      <td>0</td>\n",
              "      <td>0</td>\n",
              "      <td>0</td>\n",
              "      <td>0</td>\n",
              "      <td>...</td>\n",
              "      <td>1</td>\n",
              "      <td>1</td>\n",
              "      <td>1</td>\n",
              "      <td>1</td>\n",
              "      <td>1</td>\n",
              "      <td>1</td>\n",
              "      <td>1</td>\n",
              "      <td>1</td>\n",
              "      <td>0</td>\n",
              "      <td>1</td>\n",
              "    </tr>\n",
              "    <tr>\n",
              "      <th>3</th>\n",
              "      <td>0</td>\n",
              "      <td>0</td>\n",
              "      <td>0</td>\n",
              "      <td>0</td>\n",
              "      <td>0</td>\n",
              "      <td>0</td>\n",
              "      <td>0</td>\n",
              "      <td>0</td>\n",
              "      <td>0</td>\n",
              "      <td>0</td>\n",
              "      <td>...</td>\n",
              "      <td>1</td>\n",
              "      <td>1</td>\n",
              "      <td>1</td>\n",
              "      <td>1</td>\n",
              "      <td>1</td>\n",
              "      <td>1</td>\n",
              "      <td>1</td>\n",
              "      <td>1</td>\n",
              "      <td>0</td>\n",
              "      <td>1</td>\n",
              "    </tr>\n",
              "    <tr>\n",
              "      <th>4</th>\n",
              "      <td>0</td>\n",
              "      <td>0</td>\n",
              "      <td>0</td>\n",
              "      <td>0</td>\n",
              "      <td>0</td>\n",
              "      <td>0</td>\n",
              "      <td>0</td>\n",
              "      <td>0</td>\n",
              "      <td>0</td>\n",
              "      <td>0</td>\n",
              "      <td>...</td>\n",
              "      <td>1</td>\n",
              "      <td>1</td>\n",
              "      <td>1</td>\n",
              "      <td>1</td>\n",
              "      <td>1</td>\n",
              "      <td>1</td>\n",
              "      <td>1</td>\n",
              "      <td>1</td>\n",
              "      <td>0</td>\n",
              "      <td>1</td>\n",
              "    </tr>\n",
              "    <tr>\n",
              "      <th>...</th>\n",
              "      <td>...</td>\n",
              "      <td>...</td>\n",
              "      <td>...</td>\n",
              "      <td>...</td>\n",
              "      <td>...</td>\n",
              "      <td>...</td>\n",
              "      <td>...</td>\n",
              "      <td>...</td>\n",
              "      <td>...</td>\n",
              "      <td>...</td>\n",
              "      <td>...</td>\n",
              "      <td>...</td>\n",
              "      <td>...</td>\n",
              "      <td>...</td>\n",
              "      <td>...</td>\n",
              "      <td>...</td>\n",
              "      <td>...</td>\n",
              "      <td>...</td>\n",
              "      <td>...</td>\n",
              "      <td>...</td>\n",
              "      <td>...</td>\n",
              "    </tr>\n",
              "    <tr>\n",
              "      <th>7368</th>\n",
              "      <td>0</td>\n",
              "      <td>0</td>\n",
              "      <td>0</td>\n",
              "      <td>0</td>\n",
              "      <td>0</td>\n",
              "      <td>0</td>\n",
              "      <td>0</td>\n",
              "      <td>0</td>\n",
              "      <td>0</td>\n",
              "      <td>0</td>\n",
              "      <td>...</td>\n",
              "      <td>1</td>\n",
              "      <td>1</td>\n",
              "      <td>1</td>\n",
              "      <td>1</td>\n",
              "      <td>1</td>\n",
              "      <td>1</td>\n",
              "      <td>1</td>\n",
              "      <td>1</td>\n",
              "      <td>0</td>\n",
              "      <td>0</td>\n",
              "    </tr>\n",
              "    <tr>\n",
              "      <th>7369</th>\n",
              "      <td>0</td>\n",
              "      <td>0</td>\n",
              "      <td>0</td>\n",
              "      <td>0</td>\n",
              "      <td>0</td>\n",
              "      <td>0</td>\n",
              "      <td>0</td>\n",
              "      <td>0</td>\n",
              "      <td>0</td>\n",
              "      <td>0</td>\n",
              "      <td>...</td>\n",
              "      <td>1</td>\n",
              "      <td>1</td>\n",
              "      <td>1</td>\n",
              "      <td>1</td>\n",
              "      <td>1</td>\n",
              "      <td>1</td>\n",
              "      <td>1</td>\n",
              "      <td>1</td>\n",
              "      <td>0</td>\n",
              "      <td>0</td>\n",
              "    </tr>\n",
              "    <tr>\n",
              "      <th>7370</th>\n",
              "      <td>0</td>\n",
              "      <td>0</td>\n",
              "      <td>0</td>\n",
              "      <td>0</td>\n",
              "      <td>0</td>\n",
              "      <td>0</td>\n",
              "      <td>0</td>\n",
              "      <td>0</td>\n",
              "      <td>0</td>\n",
              "      <td>0</td>\n",
              "      <td>...</td>\n",
              "      <td>1</td>\n",
              "      <td>1</td>\n",
              "      <td>1</td>\n",
              "      <td>1</td>\n",
              "      <td>1</td>\n",
              "      <td>1</td>\n",
              "      <td>1</td>\n",
              "      <td>1</td>\n",
              "      <td>0</td>\n",
              "      <td>0</td>\n",
              "    </tr>\n",
              "    <tr>\n",
              "      <th>7371</th>\n",
              "      <td>0</td>\n",
              "      <td>0</td>\n",
              "      <td>0</td>\n",
              "      <td>0</td>\n",
              "      <td>0</td>\n",
              "      <td>0</td>\n",
              "      <td>0</td>\n",
              "      <td>0</td>\n",
              "      <td>0</td>\n",
              "      <td>0</td>\n",
              "      <td>...</td>\n",
              "      <td>1</td>\n",
              "      <td>1</td>\n",
              "      <td>1</td>\n",
              "      <td>1</td>\n",
              "      <td>1</td>\n",
              "      <td>1</td>\n",
              "      <td>1</td>\n",
              "      <td>1</td>\n",
              "      <td>0</td>\n",
              "      <td>0</td>\n",
              "    </tr>\n",
              "    <tr>\n",
              "      <th>7372</th>\n",
              "      <td>0</td>\n",
              "      <td>0</td>\n",
              "      <td>0</td>\n",
              "      <td>0</td>\n",
              "      <td>0</td>\n",
              "      <td>0</td>\n",
              "      <td>0</td>\n",
              "      <td>0</td>\n",
              "      <td>0</td>\n",
              "      <td>0</td>\n",
              "      <td>...</td>\n",
              "      <td>1</td>\n",
              "      <td>1</td>\n",
              "      <td>1</td>\n",
              "      <td>1</td>\n",
              "      <td>1</td>\n",
              "      <td>1</td>\n",
              "      <td>1</td>\n",
              "      <td>1</td>\n",
              "      <td>0</td>\n",
              "      <td>0</td>\n",
              "    </tr>\n",
              "  </tbody>\n",
              "</table>\n",
              "<p>7373 rows × 168 columns</p>\n",
              "</div>\n",
              "    <div class=\"colab-df-buttons\">\n",
              "\n",
              "  <div class=\"colab-df-container\">\n",
              "    <button class=\"colab-df-convert\" onclick=\"convertToInteractive('df-f8ffc9b5-bf04-4663-87f0-dfda56ca3f76')\"\n",
              "            title=\"Convert this dataframe to an interactive table.\"\n",
              "            style=\"display:none;\">\n",
              "\n",
              "  <svg xmlns=\"http://www.w3.org/2000/svg\" height=\"24px\" viewBox=\"0 -960 960 960\">\n",
              "    <path d=\"M120-120v-720h720v720H120Zm60-500h600v-160H180v160Zm220 220h160v-160H400v160Zm0 220h160v-160H400v160ZM180-400h160v-160H180v160Zm440 0h160v-160H620v160ZM180-180h160v-160H180v160Zm440 0h160v-160H620v160Z\"/>\n",
              "  </svg>\n",
              "    </button>\n",
              "\n",
              "  <style>\n",
              "    .colab-df-container {\n",
              "      display:flex;\n",
              "      gap: 12px;\n",
              "    }\n",
              "\n",
              "    .colab-df-convert {\n",
              "      background-color: #E8F0FE;\n",
              "      border: none;\n",
              "      border-radius: 50%;\n",
              "      cursor: pointer;\n",
              "      display: none;\n",
              "      fill: #1967D2;\n",
              "      height: 32px;\n",
              "      padding: 0 0 0 0;\n",
              "      width: 32px;\n",
              "    }\n",
              "\n",
              "    .colab-df-convert:hover {\n",
              "      background-color: #E2EBFA;\n",
              "      box-shadow: 0px 1px 2px rgba(60, 64, 67, 0.3), 0px 1px 3px 1px rgba(60, 64, 67, 0.15);\n",
              "      fill: #174EA6;\n",
              "    }\n",
              "\n",
              "    .colab-df-buttons div {\n",
              "      margin-bottom: 4px;\n",
              "    }\n",
              "\n",
              "    [theme=dark] .colab-df-convert {\n",
              "      background-color: #3B4455;\n",
              "      fill: #D2E3FC;\n",
              "    }\n",
              "\n",
              "    [theme=dark] .colab-df-convert:hover {\n",
              "      background-color: #434B5C;\n",
              "      box-shadow: 0px 1px 3px 1px rgba(0, 0, 0, 0.15);\n",
              "      filter: drop-shadow(0px 1px 2px rgba(0, 0, 0, 0.3));\n",
              "      fill: #FFFFFF;\n",
              "    }\n",
              "  </style>\n",
              "\n",
              "    <script>\n",
              "      const buttonEl =\n",
              "        document.querySelector('#df-f8ffc9b5-bf04-4663-87f0-dfda56ca3f76 button.colab-df-convert');\n",
              "      buttonEl.style.display =\n",
              "        google.colab.kernel.accessAllowed ? 'block' : 'none';\n",
              "\n",
              "      async function convertToInteractive(key) {\n",
              "        const element = document.querySelector('#df-f8ffc9b5-bf04-4663-87f0-dfda56ca3f76');\n",
              "        const dataTable =\n",
              "          await google.colab.kernel.invokeFunction('convertToInteractive',\n",
              "                                                    [key], {});\n",
              "        if (!dataTable) return;\n",
              "\n",
              "        const docLinkHtml = 'Like what you see? Visit the ' +\n",
              "          '<a target=\"_blank\" href=https://colab.research.google.com/notebooks/data_table.ipynb>data table notebook</a>'\n",
              "          + ' to learn more about interactive tables.';\n",
              "        element.innerHTML = '';\n",
              "        dataTable['output_type'] = 'display_data';\n",
              "        await google.colab.output.renderOutput(dataTable, element);\n",
              "        const docLink = document.createElement('div');\n",
              "        docLink.innerHTML = docLinkHtml;\n",
              "        element.appendChild(docLink);\n",
              "      }\n",
              "    </script>\n",
              "  </div>\n",
              "\n",
              "\n",
              "<div id=\"df-943419e2-14a1-4ba2-98c0-0370311d3e48\">\n",
              "  <button class=\"colab-df-quickchart\" onclick=\"quickchart('df-943419e2-14a1-4ba2-98c0-0370311d3e48')\"\n",
              "            title=\"Suggest charts.\"\n",
              "            style=\"display:none;\">\n",
              "\n",
              "<svg xmlns=\"http://www.w3.org/2000/svg\" height=\"24px\"viewBox=\"0 0 24 24\"\n",
              "     width=\"24px\">\n",
              "    <g>\n",
              "        <path d=\"M19 3H5c-1.1 0-2 .9-2 2v14c0 1.1.9 2 2 2h14c1.1 0 2-.9 2-2V5c0-1.1-.9-2-2-2zM9 17H7v-7h2v7zm4 0h-2V7h2v10zm4 0h-2v-4h2v4z\"/>\n",
              "    </g>\n",
              "</svg>\n",
              "  </button>\n",
              "\n",
              "<style>\n",
              "  .colab-df-quickchart {\n",
              "    background-color: #E8F0FE;\n",
              "    border: none;\n",
              "    border-radius: 50%;\n",
              "    cursor: pointer;\n",
              "    display: none;\n",
              "    fill: #1967D2;\n",
              "    height: 32px;\n",
              "    padding: 0 0 0 0;\n",
              "    width: 32px;\n",
              "  }\n",
              "\n",
              "  .colab-df-quickchart:hover {\n",
              "    background-color: #E2EBFA;\n",
              "    box-shadow: 0px 1px 2px rgba(60, 64, 67, 0.3), 0px 1px 3px 1px rgba(60, 64, 67, 0.15);\n",
              "    fill: #174EA6;\n",
              "  }\n",
              "\n",
              "  [theme=dark] .colab-df-quickchart {\n",
              "    background-color: #3B4455;\n",
              "    fill: #D2E3FC;\n",
              "  }\n",
              "\n",
              "  [theme=dark] .colab-df-quickchart:hover {\n",
              "    background-color: #434B5C;\n",
              "    box-shadow: 0px 1px 3px 1px rgba(0, 0, 0, 0.15);\n",
              "    filter: drop-shadow(0px 1px 2px rgba(0, 0, 0, 0.3));\n",
              "    fill: #FFFFFF;\n",
              "  }\n",
              "</style>\n",
              "\n",
              "  <script>\n",
              "    async function quickchart(key) {\n",
              "      const charts = await google.colab.kernel.invokeFunction(\n",
              "          'suggestCharts', [key], {});\n",
              "    }\n",
              "    (() => {\n",
              "      let quickchartButtonEl =\n",
              "        document.querySelector('#df-943419e2-14a1-4ba2-98c0-0370311d3e48 button');\n",
              "      quickchartButtonEl.style.display =\n",
              "        google.colab.kernel.accessAllowed ? 'block' : 'none';\n",
              "    })();\n",
              "  </script>\n",
              "</div>\n",
              "    </div>\n",
              "  </div>\n"
            ]
          },
          "metadata": {},
          "execution_count": 59
        }
      ]
    },
    {
      "cell_type": "code",
      "source": [
        "from sklearn.model_selection import train_test_split\n",
        "\n",
        "train, test = train_test_split(df, test_size=0.2)\n",
        "\n",
        "print('train, test shape: ', train.shape, test.shape)\n",
        "train = train.reset_index(drop=True)\n",
        "test = test.reset_index(drop=True)\n",
        "\n",
        "p = 0\n",
        "n = 0\n",
        "for i in train['Activity']:\n",
        "    if i == 0: n += 1\n",
        "    elif i == 1: p+=1\n",
        "print(f\"train dataset: inhibitors: {p} noninhibitors: {n}\")\n",
        "\n",
        "\n",
        "p = 0\n",
        "n = 0\n",
        "for i in test['Activity']:\n",
        "    if i == 0: n += 1\n",
        "    elif i == 1: p+=1\n",
        "print(f\"test dataset:  inhibitors: {p} noninhibitors: {n}\")\n",
        "\n"
      ],
      "metadata": {
        "colab": {
          "base_uri": "https://localhost:8080/"
        },
        "id": "Tcl2kPHoyios",
        "outputId": "09c35999-1240-4d92-c523-4e3a0300f744"
      },
      "execution_count": null,
      "outputs": [
        {
          "output_type": "stream",
          "name": "stdout",
          "text": [
            "train, test shape:  (5898, 168) (1475, 168)\n",
            "train dataset: inhibitors: 4525 noninhibitors: 1373\n",
            "test dataset:  inhibitors: 1081 noninhibitors: 394\n"
          ]
        }
      ]
    },
    {
      "cell_type": "code",
      "source": [
        "class jak_dataset(Dataset):\n",
        "    def __init__(self, df):\n",
        "        super(jak_dataset, self).__init__()\n",
        "\n",
        "        self.len = len(df)\n",
        "        self.df = df\n",
        "    def __getitem__(self, idx):\n",
        "        header = ['bit' + str(i) for i in range(167)]\n",
        "        fp = self.df[header]\n",
        "        fp = torch.tensor([float(b) for b in fp.iloc[idx]])\n",
        "        label = self.df['Activity'][idx]\n",
        "        # print(label)\n",
        "        # label = onehot(2)(label)\n",
        "        label = torch.tensor([label])\n",
        "        return fp, label\n",
        "    def __len__(self):\n",
        "        return self.len\n",
        "\n",
        "train_dataset = jak_dataset(train)\n",
        "\n",
        "test_dataset = jak_dataset(test)\n",
        "\n",
        "params = {'batch_size': 16, 'shuffle': True,\n",
        "          'drop_last': False, 'num_workers': 0}\n",
        "\n",
        "train_loader = DataLoader(train_dataset, **params)\n",
        "test_loader = DataLoader(test_dataset, **params)\n",
        "\n",
        "in_dim = 167\n",
        "hid_dims = [256, 64]\n",
        "out_dim = 1\n",
        "\n",
        "\n",
        "class Classifier_binary(nn.Module):\n",
        "    \"\"\"\n",
        "    simple classifier, for prediction using latent space z\n",
        "    https://dejanbatanjac.github.io/2019/07/04/softmax-vs-sigmoid.html\n",
        "    \"\"\"\n",
        "    def __init__(self, dims):\n",
        "        super(Classifier_binary, self).__init__()\n",
        "        [in_dim, h_dims] = dims\n",
        "        # assert out_dim == 1\n",
        "        neurons = [in_dim, *h_dims]\n",
        "        linear_layers = [nn.Linear(\n",
        "            neurons[i-1], neurons[i]) for i in range(1, len(neurons))]\n",
        "\n",
        "        self.hidden = nn.ModuleList(linear_layers)\n",
        "        self.final = nn.Linear(h_dims[-1], 1)\n",
        "\n",
        "    def forward(self, x):\n",
        "        for layer in self.hidden:\n",
        "            x = F.relu(layer(x))\n",
        "            # print(x.shape) [batch_size, h_dim[-1]]\n",
        "        x = self.final(x)\n",
        "        x = torch.sigmoid(x)\n",
        "        return x\n",
        "\n",
        "model = Classifier_binary([in_dim, hid_dims])\n",
        "\n",
        "cuda = torch.cuda.is_available()\n",
        "\n",
        "if cuda:\n",
        "    model = model.cuda()\n",
        "import os\n",
        "\n",
        "optimizer = optim.AdamW(params=model.parameters(), lr=1e-2, weight_decay=1e-2)\n",
        "epochs = 30\n",
        "train_loss_dict = {}\n",
        "test_loss_dict = {}\n",
        "loss_function = nn.BCELoss()\n",
        "for epoch in range(epochs):\n",
        "    total_loss = 0\n",
        "    model.train()\n",
        "    for i, (fp, label) in tqdm(enumerate(train_loader),\n",
        "                               total=len(train_loader), desc=f'epoch {epoch}'):\n",
        "\n",
        "        optimizer.zero_grad()\n",
        "\n",
        "        if cuda:\n",
        "            fp, label = fp.float().cuda(), label.cuda()\n",
        "        # print(fp.shape) torch.Size([16, 167])\n",
        "\n",
        "        output = model(fp)\n",
        "        if output.dtype != label.dtype:\n",
        "            label = label.type(output.dtype)\n",
        "        loss = loss_function(output, label)\n",
        "        # print(loss)\n",
        "        loss.backward()\n",
        "        optimizer.step()\n",
        "        total_loss += loss.item()\n",
        "\n",
        "    total_loss /= len(train_loader)\n",
        "    print(f'[Train] loss: {total_loss:.3f}')\n",
        "    train_loss_dict[epoch] = total_loss\n",
        "\n",
        "    model.eval()\n",
        "    total_test_loss = 0\n",
        "    for i, (fp, label) in enumerate(test_loader):\n",
        "\n",
        "        if torch.cuda.is_available():\n",
        "            fp, label = fp.float().cuda(), label.cuda()\n",
        "\n",
        "        output = model(fp)\n",
        "        label = label.type(output.dtype)\n",
        "\n",
        "        loss = loss_function(output, label)\n",
        "        # print(output, label)\n",
        "\n",
        "        # print('test:', loss)\n",
        "        total_test_loss += loss.item()\n",
        "\n",
        "    total_test_loss /= len(test_loader)\n",
        "\n",
        "    print(f'[Test] loss: {total_test_loss:.3f}')\n",
        "    test_loss_dict[epoch] = total_test_loss\n",
        "\n",
        "    if epoch % 3 == 0 and epoch != 0:\n",
        "        plot_loss(train_loss_dict, test_loss_dict)\n",
        "\n",
        "    argmin, min_loss = get_min(test_loss_dict)\n",
        "    if test_loss_dict[epoch] <= min_loss and epoch > 5:\n",
        "        torch.save(model.state_dict(), f'test_{str(epoch)}.pt')\n",
        "        print('Get current working directory : ', os.getcwd())\n",
        "        print('model saved at: ', f'test_{str(epoch)}.pt')\n",
        "    else:\n",
        "        if epoch - argmin > 10:\n",
        "            print('early stop, no decrease')\n",
        "            break\n",
        "        if test_loss_dict[epoch] / min_loss > 1.3:\n",
        "            print('early stop, large loss increase')\n",
        "            break\n"
      ],
      "metadata": {
        "colab": {
          "base_uri": "https://localhost:8080/",
          "height": 1000
        },
        "id": "e0ywk823HVlO",
        "outputId": "bf45a180-e7ef-416b-8e8d-aa417a92c623"
      },
      "execution_count": null,
      "outputs": [
        {
          "output_type": "stream",
          "name": "stderr",
          "text": [
            "epoch 0: 100%|██████████| 369/369 [00:10<00:00, 35.22it/s]\n"
          ]
        },
        {
          "output_type": "stream",
          "name": "stdout",
          "text": [
            "[Train] loss: 0.333\n",
            "[Test] loss: 0.373\n"
          ]
        },
        {
          "output_type": "stream",
          "name": "stderr",
          "text": [
            "epoch 1: 100%|██████████| 369/369 [00:09<00:00, 37.92it/s]\n"
          ]
        },
        {
          "output_type": "stream",
          "name": "stdout",
          "text": [
            "[Train] loss: 0.248\n",
            "[Test] loss: 0.221\n"
          ]
        },
        {
          "output_type": "stream",
          "name": "stderr",
          "text": [
            "epoch 2: 100%|██████████| 369/369 [00:10<00:00, 36.77it/s]\n"
          ]
        },
        {
          "output_type": "stream",
          "name": "stdout",
          "text": [
            "[Train] loss: 0.222\n",
            "[Test] loss: 0.218\n"
          ]
        },
        {
          "output_type": "stream",
          "name": "stderr",
          "text": [
            "epoch 3: 100%|██████████| 369/369 [00:10<00:00, 35.03it/s]\n"
          ]
        },
        {
          "output_type": "stream",
          "name": "stdout",
          "text": [
            "[Train] loss: 0.194\n",
            "[Test] loss: 0.262\n"
          ]
        },
        {
          "output_type": "display_data",
          "data": {
            "text/plain": [
              "<Figure size 640x480 with 1 Axes>"
            ],
            "image/png": "[encoded data removed]"
          },
          "metadata": {}
        },
        {
          "output_type": "stream",
          "name": "stderr",
          "text": [
            "epoch 4: 100%|██████████| 369/369 [00:10<00:00, 35.37it/s]\n"
          ]
        },
        {
          "output_type": "stream",
          "name": "stdout",
          "text": [
            "[Train] loss: 0.182\n",
            "[Test] loss: 0.196\n"
          ]
        },
        {
          "output_type": "stream",
          "name": "stderr",
          "text": [
            "epoch 5: 100%|██████████| 369/369 [00:14<00:00, 25.99it/s]\n"
          ]
        },
        {
          "output_type": "stream",
          "name": "stdout",
          "text": [
            "[Train] loss: 0.166\n",
            "[Test] loss: 0.201\n"
          ]
        },
        {
          "output_type": "stream",
          "name": "stderr",
          "text": [
            "epoch 6: 100%|██████████| 369/369 [00:09<00:00, 37.74it/s]\n"
          ]
        },
        {
          "output_type": "stream",
          "name": "stdout",
          "text": [
            "[Train] loss: 0.156\n",
            "[Test] loss: 0.184\n"
          ]
        },
        {
          "output_type": "display_data",
          "data": {
            "text/plain": [
              "<Figure size 640x480 with 1 Axes>"
            ],
            "image/png": "[encoded data removed]"
          },
          "metadata": {}
        },
        {
          "output_type": "stream",
          "name": "stdout",
          "text": [
            "Get current working directory :  /content/JAK_ML\n",
            "model saved at:  test_6.pt\n"
          ]
        },
        {
          "output_type": "stream",
          "name": "stderr",
          "text": [
            "epoch 7: 100%|██████████| 369/369 [00:09<00:00, 37.17it/s]\n"
          ]
        },
        {
          "output_type": "stream",
          "name": "stdout",
          "text": [
            "[Train] loss: 0.148\n",
            "[Test] loss: 0.187\n"
          ]
        },
        {
          "output_type": "stream",
          "name": "stderr",
          "text": [
            "epoch 8: 100%|██████████| 369/369 [00:10<00:00, 35.03it/s]\n"
          ]
        },
        {
          "output_type": "stream",
          "name": "stdout",
          "text": [
            "[Train] loss: 0.143\n",
            "[Test] loss: 0.211\n"
          ]
        },
        {
          "output_type": "stream",
          "name": "stderr",
          "text": [
            "epoch 9: 100%|██████████| 369/369 [00:10<00:00, 34.53it/s]\n"
          ]
        },
        {
          "output_type": "stream",
          "name": "stdout",
          "text": [
            "[Train] loss: 0.143\n",
            "[Test] loss: 0.184\n"
          ]
        },
        {
          "output_type": "display_data",
          "data": {
            "text/plain": [
              "<Figure size 640x480 with 1 Axes>"
            ],
            "image/png": "[encoded data removed]"
          },
          "metadata": {}
        },
        {
          "output_type": "stream",
          "name": "stderr",
          "text": [
            "epoch 10: 100%|██████████| 369/369 [00:10<00:00, 34.37it/s]\n"
          ]
        },
        {
          "output_type": "stream",
          "name": "stdout",
          "text": [
            "[Train] loss: 0.135\n",
            "[Test] loss: 0.187\n"
          ]
        },
        {
          "output_type": "stream",
          "name": "stderr",
          "text": [
            "epoch 11: 100%|██████████| 369/369 [00:10<00:00, 35.06it/s]\n"
          ]
        },
        {
          "output_type": "stream",
          "name": "stdout",
          "text": [
            "[Train] loss: 0.123\n",
            "[Test] loss: 0.171\n",
            "Get current working directory :  /content/JAK_ML\n",
            "model saved at:  test_11.pt\n"
          ]
        },
        {
          "output_type": "stream",
          "name": "stderr",
          "text": [
            "epoch 12: 100%|██████████| 369/369 [00:09<00:00, 36.99it/s]\n"
          ]
        },
        {
          "output_type": "stream",
          "name": "stdout",
          "text": [
            "[Train] loss: 0.125\n",
            "[Test] loss: 0.185\n"
          ]
        },
        {
          "output_type": "display_data",
          "data": {
            "text/plain": [
              "<Figure size 640x480 with 1 Axes>"
            ],
            "image/png": "[encoded data removed]"
          },
          "metadata": {}
        },
        {
          "output_type": "stream",
          "name": "stderr",
          "text": [
            "epoch 13: 100%|██████████| 369/369 [00:10<00:00, 36.51it/s]\n"
          ]
        },
        {
          "output_type": "stream",
          "name": "stdout",
          "text": [
            "[Train] loss: 0.125\n",
            "[Test] loss: 0.172\n"
          ]
        },
        {
          "output_type": "stream",
          "name": "stderr",
          "text": [
            "epoch 14: 100%|██████████| 369/369 [00:10<00:00, 35.96it/s]\n"
          ]
        },
        {
          "output_type": "stream",
          "name": "stdout",
          "text": [
            "[Train] loss: 0.120\n",
            "[Test] loss: 0.207\n"
          ]
        },
        {
          "output_type": "stream",
          "name": "stderr",
          "text": [
            "epoch 15: 100%|██████████| 369/369 [00:10<00:00, 33.96it/s]\n"
          ]
        },
        {
          "output_type": "stream",
          "name": "stdout",
          "text": [
            "[Train] loss: 0.115\n",
            "[Test] loss: 0.192\n"
          ]
        },
        {
          "output_type": "display_data",
          "data": {
            "text/plain": [
              "<Figure size 640x480 with 1 Axes>"
            ],
            "image/png": "[encoded data removed]"
          },
          "metadata": {}
        },
        {
          "output_type": "stream",
          "name": "stderr",
          "text": [
            "epoch 16: 100%|██████████| 369/369 [00:11<00:00, 32.17it/s]\n"
          ]
        },
        {
          "output_type": "stream",
          "name": "stdout",
          "text": [
            "[Train] loss: 0.116\n",
            "[Test] loss: 0.207\n"
          ]
        },
        {
          "output_type": "stream",
          "name": "stderr",
          "text": [
            "epoch 17: 100%|██████████| 369/369 [00:10<00:00, 33.58it/s]\n"
          ]
        },
        {
          "output_type": "stream",
          "name": "stdout",
          "text": [
            "[Train] loss: 0.109\n",
            "[Test] loss: 0.228\n",
            "early stop, large increase\n"
          ]
        }
      ]
    },
    {
      "cell_type": "code",
      "source": [
        "def early_stop(current_epoch, test_dict, epoch_interval=10):\n",
        "    continue_run = True\n",
        "    argmin_epoch, min_loss = get_min(test_dict)\n",
        "    if test_dict[current_epoch] - argmin_epoch > epoch_interval:\n",
        "        print('early stop, loss no decrease after 10 epoch')\n",
        "        return continue_run\n",
        "    if test_dict[epoch] / min_loss > 1.1:\n",
        "        print('early stop, loss increase')\n",
        "        return continue_run"
      ],
      "metadata": {
        "id": "PP-leLOACDLz"
      },
      "execution_count": null,
      "outputs": []
    },
    {
      "cell_type": "code",
      "source": [
        "ls"
      ],
      "metadata": {
        "colab": {
          "base_uri": "https://localhost:8080/"
        },
        "id": "CQJdvBOSU5we",
        "outputId": "c6d6e965-2b34-404a-da65-1769b93121e4"
      },
      "execution_count": null,
      "outputs": [
        {
          "output_type": "stream",
          "name": "stdout",
          "text": [
            "\u001b[0m\u001b[01;34mchemberta\u001b[0m/  \u001b[01;34mnew_data\u001b[0m/         streamlit-hello-2022-08-13-03-08-23.gif\n",
            "\u001b[01;34mcnn\u001b[0m/        README.md         \u001b[01;34mVAE\u001b[0m/\n",
            "\u001b[01;34mML_code\u001b[0m/    requirements.txt\n"
          ]
        }
      ]
    },
    {
      "cell_type": "code",
      "source": [
        "dict_ = {1: 20, 2: 30, 0: 23, 9:1, 7: 10}"
      ],
      "metadata": {
        "colab": {
          "base_uri": "https://localhost:8080/",
          "height": 272
        },
        "id": "w26s4jt9UFon",
        "outputId": "819e986c-3e6f-43f8-dbde-0e22c855a361"
      },
      "execution_count": null,
      "outputs": [
        {
          "output_type": "error",
          "ename": "KeyError",
          "evalue": "ignored",
          "traceback": [
            "\u001b[0;31m---------------------------------------------------------------------------\u001b[0m",
            "\u001b[0;31mKeyError\u001b[0m                                  Traceback (most recent call last)",
            "\u001b[0;32m<ipython-input-313-005894d21cee>\u001b[0m in \u001b[0;36m<cell line: 3>\u001b[0;34m()\u001b[0m\n\u001b[1;32m      1\u001b[0m \u001b[0mdict_\u001b[0m \u001b[0;34m=\u001b[0m \u001b[0;34m{\u001b[0m\u001b[0;36m1\u001b[0m\u001b[0;34m:\u001b[0m \u001b[0;36m20\u001b[0m\u001b[0;34m,\u001b[0m \u001b[0;36m2\u001b[0m\u001b[0;34m:\u001b[0m \u001b[0;36m30\u001b[0m\u001b[0;34m,\u001b[0m \u001b[0;36m0\u001b[0m\u001b[0;34m:\u001b[0m \u001b[0;36m23\u001b[0m\u001b[0;34m,\u001b[0m \u001b[0;36m9\u001b[0m\u001b[0;34m:\u001b[0m\u001b[0;36m1\u001b[0m\u001b[0;34m,\u001b[0m \u001b[0;36m7\u001b[0m\u001b[0;34m:\u001b[0m \u001b[0;36m10\u001b[0m\u001b[0;34m}\u001b[0m\u001b[0;34m\u001b[0m\u001b[0;34m\u001b[0m\u001b[0m\n\u001b[1;32m      2\u001b[0m \u001b[0marg_min\u001b[0m\u001b[0;34m,\u001b[0m \u001b[0mmin\u001b[0m \u001b[0;34m=\u001b[0m \u001b[0mget_min\u001b[0m\u001b[0;34m(\u001b[0m\u001b[0mdict_\u001b[0m\u001b[0;34m)\u001b[0m\u001b[0;34m\u001b[0m\u001b[0;34m\u001b[0m\u001b[0m\n\u001b[0;32m----> 3\u001b[0;31m \u001b[0mdict_\u001b[0m\u001b[0;34m[\u001b[0m\u001b[0;34m-\u001b[0m\u001b[0;36m1\u001b[0m\u001b[0;34m]\u001b[0m\u001b[0;34m\u001b[0m\u001b[0;34m\u001b[0m\u001b[0m\n\u001b[0m",
            "\u001b[0;31mKeyError\u001b[0m: -1"
          ]
        }
      ]
    },
    {
      "cell_type": "code",
      "source": [
        "import os\n",
        "from tqdm import tqdm\n",
        "import math\n",
        "# os.environ[\"KMP_DUPLICATE_LIB_OK\"]=\"TRUE\"\n",
        "# from chembertforclassification import chembertforclassification\n",
        "import pandas as pd\n",
        "import numpy as np\n",
        "import torch.optim as optim\n",
        "import torch.nn as nn\n",
        "from torch.utils.data import DataLoader, Dataset\n",
        "from sklearn.model_selection import KFold, train_test_split\n",
        "from sklearn.metrics import classification_report, confusion_matrix, average_precision_score, roc_auc_score\n",
        "# from const import *"
      ],
      "metadata": {
        "id": "l1mDka_SxJ5X"
      },
      "execution_count": null,
      "outputs": []
    },
    {
      "cell_type": "code",
      "source": [
        "test"
      ],
      "metadata": {
        "colab": {
          "base_uri": "https://localhost:8080/",
          "height": 444
        },
        "id": "N3ApevjVCvbz",
        "outputId": "1905d087-dd92-46c7-9f8d-ebbd10d3964b"
      },
      "execution_count": null,
      "outputs": [
        {
          "output_type": "execute_result",
          "data": {
            "text/plain": [
              "      bit0  bit1  bit2  bit3  bit4  bit5  bit6  bit7  bit8  bit9  ...  bit158  \\\n",
              "0      0.0   0.0   0.0   0.0   0.0   0.0   0.0   0.0   0.0   0.0  ...     1.0   \n",
              "1      0.0   0.0   0.0   0.0   0.0   0.0   0.0   0.0   0.0   0.0  ...     1.0   \n",
              "2      0.0   0.0   0.0   0.0   0.0   0.0   0.0   0.0   0.0   0.0  ...     1.0   \n",
              "3      0.0   0.0   0.0   0.0   0.0   0.0   0.0   0.0   0.0   0.0  ...     1.0   \n",
              "4      0.0   0.0   0.0   0.0   0.0   0.0   0.0   0.0   0.0   0.0  ...     1.0   \n",
              "...    ...   ...   ...   ...   ...   ...   ...   ...   ...   ...  ...     ...   \n",
              "1470   0.0   0.0   0.0   0.0   0.0   0.0   0.0   0.0   0.0   0.0  ...     1.0   \n",
              "1471   0.0   0.0   0.0   0.0   0.0   0.0   0.0   0.0   0.0   0.0  ...     1.0   \n",
              "1472   0.0   0.0   0.0   0.0   0.0   0.0   0.0   0.0   1.0   0.0  ...     1.0   \n",
              "1473   0.0   0.0   0.0   0.0   0.0   0.0   0.0   0.0   0.0   0.0  ...     1.0   \n",
              "1474   0.0   0.0   0.0   0.0   0.0   0.0   0.0   0.0   1.0   0.0  ...     1.0   \n",
              "\n",
              "      bit159  bit160  bit161  bit162  bit163  bit164  bit165  bit166  Activity  \n",
              "0        1.0     1.0     1.0     1.0     1.0     1.0     1.0     0.0         1  \n",
              "1        1.0     1.0     1.0     1.0     1.0     1.0     1.0     0.0         1  \n",
              "2        1.0     1.0     1.0     1.0     1.0     1.0     1.0     0.0         0  \n",
              "3        0.0     0.0     1.0     1.0     1.0     1.0     1.0     0.0         1  \n",
              "4        1.0     1.0     1.0     1.0     1.0     1.0     1.0     0.0         1  \n",
              "...      ...     ...     ...     ...     ...     ...     ...     ...       ...  \n",
              "1470     1.0     0.0     1.0     1.0     1.0     1.0     1.0     0.0         1  \n",
              "1471     1.0     1.0     1.0     1.0     1.0     1.0     1.0     0.0         1  \n",
              "1472     0.0     0.0     1.0     1.0     1.0     0.0     1.0     0.0         1  \n",
              "1473     0.0     0.0     1.0     1.0     1.0     0.0     1.0     0.0         0  \n",
              "1474     1.0     0.0     1.0     1.0     1.0     1.0     1.0     1.0         0  \n",
              "\n",
              "[1475 rows x 168 columns]"
            ],
            "text/html": [
              "\n",
              "  <div id=\"df-a71a7965-5115-4d36-88fe-8253cb9b3403\" class=\"colab-df-container\">\n",
              "    <div>\n",
              "<style scoped>\n",
              "    .dataframe tbody tr th:only-of-type {\n",
              "        vertical-align: middle;\n",
              "    }\n",
              "\n",
              "    .dataframe tbody tr th {\n",
              "        vertical-align: top;\n",
              "    }\n",
              "\n",
              "    .dataframe thead th {\n",
              "        text-align: right;\n",
              "    }\n",
              "</style>\n",
              "<table border=\"1\" class=\"dataframe\">\n",
              "  <thead>\n",
              "    <tr style=\"text-align: right;\">\n",
              "      <th></th>\n",
              "      <th>bit0</th>\n",
              "      <th>bit1</th>\n",
              "      <th>bit2</th>\n",
              "      <th>bit3</th>\n",
              "      <th>bit4</th>\n",
              "      <th>bit5</th>\n",
              "      <th>bit6</th>\n",
              "      <th>bit7</th>\n",
              "      <th>bit8</th>\n",
              "      <th>bit9</th>\n",
              "      <th>...</th>\n",
              "      <th>bit158</th>\n",
              "      <th>bit159</th>\n",
              "      <th>bit160</th>\n",
              "      <th>bit161</th>\n",
              "      <th>bit162</th>\n",
              "      <th>bit163</th>\n",
              "      <th>bit164</th>\n",
              "      <th>bit165</th>\n",
              "      <th>bit166</th>\n",
              "      <th>Activity</th>\n",
              "    </tr>\n",
              "  </thead>\n",
              "  <tbody>\n",
              "    <tr>\n",
              "      <th>0</th>\n",
              "      <td>0.0</td>\n",
              "      <td>0.0</td>\n",
              "      <td>0.0</td>\n",
              "      <td>0.0</td>\n",
              "      <td>0.0</td>\n",
              "      <td>0.0</td>\n",
              "      <td>0.0</td>\n",
              "      <td>0.0</td>\n",
              "      <td>0.0</td>\n",
              "      <td>0.0</td>\n",
              "      <td>...</td>\n",
              "      <td>1.0</td>\n",
              "      <td>1.0</td>\n",
              "      <td>1.0</td>\n",
              "      <td>1.0</td>\n",
              "      <td>1.0</td>\n",
              "      <td>1.0</td>\n",
              "      <td>1.0</td>\n",
              "      <td>1.0</td>\n",
              "      <td>0.0</td>\n",
              "      <td>1</td>\n",
              "    </tr>\n",
              "    <tr>\n",
              "      <th>1</th>\n",
              "      <td>0.0</td>\n",
              "      <td>0.0</td>\n",
              "      <td>0.0</td>\n",
              "      <td>0.0</td>\n",
              "      <td>0.0</td>\n",
              "      <td>0.0</td>\n",
              "      <td>0.0</td>\n",
              "      <td>0.0</td>\n",
              "      <td>0.0</td>\n",
              "      <td>0.0</td>\n",
              "      <td>...</td>\n",
              "      <td>1.0</td>\n",
              "      <td>1.0</td>\n",
              "      <td>1.0</td>\n",
              "      <td>1.0</td>\n",
              "      <td>1.0</td>\n",
              "      <td>1.0</td>\n",
              "      <td>1.0</td>\n",
              "      <td>1.0</td>\n",
              "      <td>0.0</td>\n",
              "      <td>1</td>\n",
              "    </tr>\n",
              "    <tr>\n",
              "      <th>2</th>\n",
              "      <td>0.0</td>\n",
              "      <td>0.0</td>\n",
              "      <td>0.0</td>\n",
              "      <td>0.0</td>\n",
              "      <td>0.0</td>\n",
              "      <td>0.0</td>\n",
              "      <td>0.0</td>\n",
              "      <td>0.0</td>\n",
              "      <td>0.0</td>\n",
              "      <td>0.0</td>\n",
              "      <td>...</td>\n",
              "      <td>1.0</td>\n",
              "      <td>1.0</td>\n",
              "      <td>1.0</td>\n",
              "      <td>1.0</td>\n",
              "      <td>1.0</td>\n",
              "      <td>1.0</td>\n",
              "      <td>1.0</td>\n",
              "      <td>1.0</td>\n",
              "      <td>0.0</td>\n",
              "      <td>0</td>\n",
              "    </tr>\n",
              "    <tr>\n",
              "      <th>3</th>\n",
              "      <td>0.0</td>\n",
              "      <td>0.0</td>\n",
              "      <td>0.0</td>\n",
              "      <td>0.0</td>\n",
              "      <td>0.0</td>\n",
              "      <td>0.0</td>\n",
              "      <td>0.0</td>\n",
              "      <td>0.0</td>\n",
              "      <td>0.0</td>\n",
              "      <td>0.0</td>\n",
              "      <td>...</td>\n",
              "      <td>1.0</td>\n",
              "      <td>0.0</td>\n",
              "      <td>0.0</td>\n",
              "      <td>1.0</td>\n",
              "      <td>1.0</td>\n",
              "      <td>1.0</td>\n",
              "      <td>1.0</td>\n",
              "      <td>1.0</td>\n",
              "      <td>0.0</td>\n",
              "      <td>1</td>\n",
              "    </tr>\n",
              "    <tr>\n",
              "      <th>4</th>\n",
              "      <td>0.0</td>\n",
              "      <td>0.0</td>\n",
              "      <td>0.0</td>\n",
              "      <td>0.0</td>\n",
              "      <td>0.0</td>\n",
              "      <td>0.0</td>\n",
              "      <td>0.0</td>\n",
              "      <td>0.0</td>\n",
              "      <td>0.0</td>\n",
              "      <td>0.0</td>\n",
              "      <td>...</td>\n",
              "      <td>1.0</td>\n",
              "      <td>1.0</td>\n",
              "      <td>1.0</td>\n",
              "      <td>1.0</td>\n",
              "      <td>1.0</td>\n",
              "      <td>1.0</td>\n",
              "      <td>1.0</td>\n",
              "      <td>1.0</td>\n",
              "      <td>0.0</td>\n",
              "      <td>1</td>\n",
              "    </tr>\n",
              "    <tr>\n",
              "      <th>...</th>\n",
              "      <td>...</td>\n",
              "      <td>...</td>\n",
              "      <td>...</td>\n",
              "      <td>...</td>\n",
              "      <td>...</td>\n",
              "      <td>...</td>\n",
              "      <td>...</td>\n",
              "      <td>...</td>\n",
              "      <td>...</td>\n",
              "      <td>...</td>\n",
              "      <td>...</td>\n",
              "      <td>...</td>\n",
              "      <td>...</td>\n",
              "      <td>...</td>\n",
              "      <td>...</td>\n",
              "      <td>...</td>\n",
              "      <td>...</td>\n",
              "      <td>...</td>\n",
              "      <td>...</td>\n",
              "      <td>...</td>\n",
              "      <td>...</td>\n",
              "    </tr>\n",
              "    <tr>\n",
              "      <th>1470</th>\n",
              "      <td>0.0</td>\n",
              "      <td>0.0</td>\n",
              "      <td>0.0</td>\n",
              "      <td>0.0</td>\n",
              "      <td>0.0</td>\n",
              "      <td>0.0</td>\n",
              "      <td>0.0</td>\n",
              "      <td>0.0</td>\n",
              "      <td>0.0</td>\n",
              "      <td>0.0</td>\n",
              "      <td>...</td>\n",
              "      <td>1.0</td>\n",
              "      <td>1.0</td>\n",
              "      <td>0.0</td>\n",
              "      <td>1.0</td>\n",
              "      <td>1.0</td>\n",
              "      <td>1.0</td>\n",
              "      <td>1.0</td>\n",
              "      <td>1.0</td>\n",
              "      <td>0.0</td>\n",
              "      <td>1</td>\n",
              "    </tr>\n",
              "    <tr>\n",
              "      <th>1471</th>\n",
              "      <td>0.0</td>\n",
              "      <td>0.0</td>\n",
              "      <td>0.0</td>\n",
              "      <td>0.0</td>\n",
              "      <td>0.0</td>\n",
              "      <td>0.0</td>\n",
              "      <td>0.0</td>\n",
              "      <td>0.0</td>\n",
              "      <td>0.0</td>\n",
              "      <td>0.0</td>\n",
              "      <td>...</td>\n",
              "      <td>1.0</td>\n",
              "      <td>1.0</td>\n",
              "      <td>1.0</td>\n",
              "      <td>1.0</td>\n",
              "      <td>1.0</td>\n",
              "      <td>1.0</td>\n",
              "      <td>1.0</td>\n",
              "      <td>1.0</td>\n",
              "      <td>0.0</td>\n",
              "      <td>1</td>\n",
              "    </tr>\n",
              "    <tr>\n",
              "      <th>1472</th>\n",
              "      <td>0.0</td>\n",
              "      <td>0.0</td>\n",
              "      <td>0.0</td>\n",
              "      <td>0.0</td>\n",
              "      <td>0.0</td>\n",
              "      <td>0.0</td>\n",
              "      <td>0.0</td>\n",
              "      <td>0.0</td>\n",
              "      <td>1.0</td>\n",
              "      <td>0.0</td>\n",
              "      <td>...</td>\n",
              "      <td>1.0</td>\n",
              "      <td>0.0</td>\n",
              "      <td>0.0</td>\n",
              "      <td>1.0</td>\n",
              "      <td>1.0</td>\n",
              "      <td>1.0</td>\n",
              "      <td>0.0</td>\n",
              "      <td>1.0</td>\n",
              "      <td>0.0</td>\n",
              "      <td>1</td>\n",
              "    </tr>\n",
              "    <tr>\n",
              "      <th>1473</th>\n",
              "      <td>0.0</td>\n",
              "      <td>0.0</td>\n",
              "      <td>0.0</td>\n",
              "      <td>0.0</td>\n",
              "      <td>0.0</td>\n",
              "      <td>0.0</td>\n",
              "      <td>0.0</td>\n",
              "      <td>0.0</td>\n",
              "      <td>0.0</td>\n",
              "      <td>0.0</td>\n",
              "      <td>...</td>\n",
              "      <td>1.0</td>\n",
              "      <td>0.0</td>\n",
              "      <td>0.0</td>\n",
              "      <td>1.0</td>\n",
              "      <td>1.0</td>\n",
              "      <td>1.0</td>\n",
              "      <td>0.0</td>\n",
              "      <td>1.0</td>\n",
              "      <td>0.0</td>\n",
              "      <td>0</td>\n",
              "    </tr>\n",
              "    <tr>\n",
              "      <th>1474</th>\n",
              "      <td>0.0</td>\n",
              "      <td>0.0</td>\n",
              "      <td>0.0</td>\n",
              "      <td>0.0</td>\n",
              "      <td>0.0</td>\n",
              "      <td>0.0</td>\n",
              "      <td>0.0</td>\n",
              "      <td>0.0</td>\n",
              "      <td>1.0</td>\n",
              "      <td>0.0</td>\n",
              "      <td>...</td>\n",
              "      <td>1.0</td>\n",
              "      <td>1.0</td>\n",
              "      <td>0.0</td>\n",
              "      <td>1.0</td>\n",
              "      <td>1.0</td>\n",
              "      <td>1.0</td>\n",
              "      <td>1.0</td>\n",
              "      <td>1.0</td>\n",
              "      <td>1.0</td>\n",
              "      <td>0</td>\n",
              "    </tr>\n",
              "  </tbody>\n",
              "</table>\n",
              "<p>1475 rows × 168 columns</p>\n",
              "</div>\n",
              "    <div class=\"colab-df-buttons\">\n",
              "\n",
              "  <div class=\"colab-df-container\">\n",
              "    <button class=\"colab-df-convert\" onclick=\"convertToInteractive('df-a71a7965-5115-4d36-88fe-8253cb9b3403')\"\n",
              "            title=\"Convert this dataframe to an interactive table.\"\n",
              "            style=\"display:none;\">\n",
              "\n",
              "  <svg xmlns=\"http://www.w3.org/2000/svg\" height=\"24px\" viewBox=\"0 -960 960 960\">\n",
              "    <path d=\"M120-120v-720h720v720H120Zm60-500h600v-160H180v160Zm220 220h160v-160H400v160Zm0 220h160v-160H400v160ZM180-400h160v-160H180v160Zm440 0h160v-160H620v160ZM180-180h160v-160H180v160Zm440 0h160v-160H620v160Z\"/>\n",
              "  </svg>\n",
              "    </button>\n",
              "\n",
              "  <style>\n",
              "    .colab-df-container {\n",
              "      display:flex;\n",
              "      gap: 12px;\n",
              "    }\n",
              "\n",
              "    .colab-df-convert {\n",
              "      background-color: #E8F0FE;\n",
              "      border: none;\n",
              "      border-radius: 50%;\n",
              "      cursor: pointer;\n",
              "      display: none;\n",
              "      fill: #1967D2;\n",
              "      height: 32px;\n",
              "      padding: 0 0 0 0;\n",
              "      width: 32px;\n",
              "    }\n",
              "\n",
              "    .colab-df-convert:hover {\n",
              "      background-color: #E2EBFA;\n",
              "      box-shadow: 0px 1px 2px rgba(60, 64, 67, 0.3), 0px 1px 3px 1px rgba(60, 64, 67, 0.15);\n",
              "      fill: #174EA6;\n",
              "    }\n",
              "\n",
              "    .colab-df-buttons div {\n",
              "      margin-bottom: 4px;\n",
              "    }\n",
              "\n",
              "    [theme=dark] .colab-df-convert {\n",
              "      background-color: #3B4455;\n",
              "      fill: #D2E3FC;\n",
              "    }\n",
              "\n",
              "    [theme=dark] .colab-df-convert:hover {\n",
              "      background-color: #434B5C;\n",
              "      box-shadow: 0px 1px 3px 1px rgba(0, 0, 0, 0.15);\n",
              "      filter: drop-shadow(0px 1px 2px rgba(0, 0, 0, 0.3));\n",
              "      fill: #FFFFFF;\n",
              "    }\n",
              "  </style>\n",
              "\n",
              "    <script>\n",
              "      const buttonEl =\n",
              "        document.querySelector('#df-a71a7965-5115-4d36-88fe-8253cb9b3403 button.colab-df-convert');\n",
              "      buttonEl.style.display =\n",
              "        google.colab.kernel.accessAllowed ? 'block' : 'none';\n",
              "\n",
              "      async function convertToInteractive(key) {\n",
              "        const element = document.querySelector('#df-a71a7965-5115-4d36-88fe-8253cb9b3403');\n",
              "        const dataTable =\n",
              "          await google.colab.kernel.invokeFunction('convertToInteractive',\n",
              "                                                    [key], {});\n",
              "        if (!dataTable) return;\n",
              "\n",
              "        const docLinkHtml = 'Like what you see? Visit the ' +\n",
              "          '<a target=\"_blank\" href=https://colab.research.google.com/notebooks/data_table.ipynb>data table notebook</a>'\n",
              "          + ' to learn more about interactive tables.';\n",
              "        element.innerHTML = '';\n",
              "        dataTable['output_type'] = 'display_data';\n",
              "        await google.colab.output.renderOutput(dataTable, element);\n",
              "        const docLink = document.createElement('div');\n",
              "        docLink.innerHTML = docLinkHtml;\n",
              "        element.appendChild(docLink);\n",
              "      }\n",
              "    </script>\n",
              "  </div>\n",
              "\n",
              "\n",
              "<div id=\"df-1fbb690e-8008-4221-8aec-a9639b4ccb4d\">\n",
              "  <button class=\"colab-df-quickchart\" onclick=\"quickchart('df-1fbb690e-8008-4221-8aec-a9639b4ccb4d')\"\n",
              "            title=\"Suggest charts.\"\n",
              "            style=\"display:none;\">\n",
              "\n",
              "<svg xmlns=\"http://www.w3.org/2000/svg\" height=\"24px\"viewBox=\"0 0 24 24\"\n",
              "     width=\"24px\">\n",
              "    <g>\n",
              "        <path d=\"M19 3H5c-1.1 0-2 .9-2 2v14c0 1.1.9 2 2 2h14c1.1 0 2-.9 2-2V5c0-1.1-.9-2-2-2zM9 17H7v-7h2v7zm4 0h-2V7h2v10zm4 0h-2v-4h2v4z\"/>\n",
              "    </g>\n",
              "</svg>\n",
              "  </button>\n",
              "\n",
              "<style>\n",
              "  .colab-df-quickchart {\n",
              "    background-color: #E8F0FE;\n",
              "    border: none;\n",
              "    border-radius: 50%;\n",
              "    cursor: pointer;\n",
              "    display: none;\n",
              "    fill: #1967D2;\n",
              "    height: 32px;\n",
              "    padding: 0 0 0 0;\n",
              "    width: 32px;\n",
              "  }\n",
              "\n",
              "  .colab-df-quickchart:hover {\n",
              "    background-color: #E2EBFA;\n",
              "    box-shadow: 0px 1px 2px rgba(60, 64, 67, 0.3), 0px 1px 3px 1px rgba(60, 64, 67, 0.15);\n",
              "    fill: #174EA6;\n",
              "  }\n",
              "\n",
              "  [theme=dark] .colab-df-quickchart {\n",
              "    background-color: #3B4455;\n",
              "    fill: #D2E3FC;\n",
              "  }\n",
              "\n",
              "  [theme=dark] .colab-df-quickchart:hover {\n",
              "    background-color: #434B5C;\n",
              "    box-shadow: 0px 1px 3px 1px rgba(0, 0, 0, 0.15);\n",
              "    filter: drop-shadow(0px 1px 2px rgba(0, 0, 0, 0.3));\n",
              "    fill: #FFFFFF;\n",
              "  }\n",
              "</style>\n",
              "\n",
              "  <script>\n",
              "    async function quickchart(key) {\n",
              "      const charts = await google.colab.kernel.invokeFunction(\n",
              "          'suggestCharts', [key], {});\n",
              "    }\n",
              "    (() => {\n",
              "      let quickchartButtonEl =\n",
              "        document.querySelector('#df-1fbb690e-8008-4221-8aec-a9639b4ccb4d button');\n",
              "      quickchartButtonEl.style.display =\n",
              "        google.colab.kernel.accessAllowed ? 'block' : 'none';\n",
              "    })();\n",
              "  </script>\n",
              "</div>\n",
              "    </div>\n",
              "  </div>\n"
            ]
          },
          "metadata": {},
          "execution_count": 243
        }
      ]
    },
    {
      "cell_type": "code",
      "source": [
        "# dataset = jak_dataset(df)\n",
        "test_dataset[1474]\n"
      ],
      "metadata": {
        "colab": {
          "base_uri": "https://localhost:8080/"
        },
        "id": "tnun_2Q6zbtk",
        "outputId": "086fa637-975f-4e34-8826-91880d48936e"
      },
      "execution_count": null,
      "outputs": [
        {
          "output_type": "execute_result",
          "data": {
            "text/plain": [
              "(tensor([0., 0., 0., 0., 0., 0., 0., 0., 1., 0., 0., 1., 0., 0., 0., 0., 0., 0.,\n",
              "         0., 0., 0., 0., 0., 0., 0., 0., 0., 0., 0., 0., 0., 0., 0., 0., 0., 0.,\n",
              "         0., 0., 1., 0., 0., 1., 1., 0., 0., 0., 0., 0., 0., 0., 0., 0., 1., 0.,\n",
              "         0., 0., 0., 0., 0., 0., 0., 0., 1., 0., 0., 1., 1., 0., 0., 0., 0., 0.,\n",
              "         0., 0., 0., 1., 0., 1., 0., 1., 1., 0., 0., 1., 0., 1., 1., 1., 0., 0.,\n",
              "         0., 0., 1., 0., 1., 1., 1., 0., 1., 0., 1., 1., 0., 0., 0., 1., 1., 1.,\n",
              "         0., 0., 1., 1., 1., 0., 0., 0., 0., 1., 1., 0., 1., 1., 1., 1., 1., 1.,\n",
              "         0., 0., 1., 1., 0., 1., 0., 1., 1., 0., 1., 1., 1., 1., 1., 0., 1., 0.,\n",
              "         0., 1., 1., 1., 1., 0., 0., 1., 0., 1., 1., 1., 1., 1., 1., 1., 0., 1.,\n",
              "         1., 1., 1., 1., 1.]),\n",
              " tensor([0]))"
            ]
          },
          "metadata": {},
          "execution_count": 246
        }
      ]
    },
    {
      "cell_type": "code",
      "source": [],
      "metadata": {
        "colab": {
          "base_uri": "https://localhost:8080/"
        },
        "id": "qIM5AlvmFwi2",
        "outputId": "2cdb16ab-57ac-4816-af88-07442154f86f"
      },
      "execution_count": null,
      "outputs": [
        {
          "output_type": "execute_result",
          "data": {
            "text/plain": [
              "0"
            ]
          },
          "metadata": {},
          "execution_count": 224
        }
      ]
    },
    {
      "cell_type": "code",
      "source": [],
      "metadata": {
        "id": "OdWzw46Rz9qe"
      },
      "execution_count": null,
      "outputs": []
    },
    {
      "cell_type": "code",
      "source": [
        "len(train_loader), len(test_loader)"
      ],
      "metadata": {
        "colab": {
          "base_uri": "https://localhost:8080/"
        },
        "id": "TTi9sWyR1eBU",
        "outputId": "fe7065cc-574d-45a5-df3b-dc571eca6de3"
      },
      "execution_count": null,
      "outputs": [
        {
          "output_type": "execute_result",
          "data": {
            "text/plain": [
              "(369, 93)"
            ]
          },
          "metadata": {},
          "execution_count": 248
        }
      ]
    },
    {
      "cell_type": "code",
      "source": [
        "x = x.type(torch.cuda.FloatTensor)"
      ],
      "metadata": {
        "id": "G9S0EKv40fcy"
      },
      "execution_count": null,
      "outputs": []
    },
    {
      "cell_type": "code",
      "source": [
        "output.dtype, label.dtype\n",
        "\n",
        "\n",
        "label = label.type(output.dtype)"
      ],
      "metadata": {
        "id": "0aKz_J8g1nRu"
      },
      "execution_count": null,
      "outputs": []
    },
    {
      "cell_type": "code",
      "source": [
        "F.binary_cross_entropy(output, label, reduction='sum')"
      ],
      "metadata": {
        "colab": {
          "base_uri": "https://localhost:8080/",
          "height": 468
        },
        "id": "tkbkXWp41ogv",
        "outputId": "4d46754e-94fc-47ef-985f-2519a9e7d40d"
      },
      "execution_count": null,
      "outputs": [
        {
          "output_type": "error",
          "ename": "RuntimeError",
          "evalue": "ignored",
          "traceback": [
            "\u001b[0;31m---------------------------------------------------------------------------\u001b[0m",
            "\u001b[0;31mRuntimeError\u001b[0m                              Traceback (most recent call last)",
            "\u001b[0;32m<ipython-input-123-8b07342c94da>\u001b[0m in \u001b[0;36m<cell line: 1>\u001b[0;34m()\u001b[0m\n\u001b[0;32m----> 1\u001b[0;31m \u001b[0mF\u001b[0m\u001b[0;34m.\u001b[0m\u001b[0mbinary_cross_entropy\u001b[0m\u001b[0;34m(\u001b[0m\u001b[0moutput\u001b[0m\u001b[0;34m,\u001b[0m \u001b[0mlabel\u001b[0m\u001b[0;34m,\u001b[0m \u001b[0mreduction\u001b[0m\u001b[0;34m=\u001b[0m\u001b[0;34m'sum'\u001b[0m\u001b[0;34m)\u001b[0m\u001b[0;34m\u001b[0m\u001b[0;34m\u001b[0m\u001b[0m\n\u001b[0m",
            "\u001b[0;32m/usr/local/lib/python3.10/dist-packages/torch/nn/functional.py\u001b[0m in \u001b[0;36mbinary_cross_entropy\u001b[0;34m(input, target, weight, size_average, reduce, reduction)\u001b[0m\n\u001b[1;32m   3096\u001b[0m         \u001b[0mweight\u001b[0m \u001b[0;34m=\u001b[0m \u001b[0mweight\u001b[0m\u001b[0;34m.\u001b[0m\u001b[0mexpand\u001b[0m\u001b[0;34m(\u001b[0m\u001b[0mnew_size\u001b[0m\u001b[0;34m)\u001b[0m\u001b[0;34m\u001b[0m\u001b[0;34m\u001b[0m\u001b[0m\n\u001b[1;32m   3097\u001b[0m \u001b[0;34m\u001b[0m\u001b[0m\n\u001b[0;32m-> 3098\u001b[0;31m     \u001b[0;32mreturn\u001b[0m \u001b[0mtorch\u001b[0m\u001b[0;34m.\u001b[0m\u001b[0m_C\u001b[0m\u001b[0;34m.\u001b[0m\u001b[0m_nn\u001b[0m\u001b[0;34m.\u001b[0m\u001b[0mbinary_cross_entropy\u001b[0m\u001b[0;34m(\u001b[0m\u001b[0minput\u001b[0m\u001b[0;34m,\u001b[0m \u001b[0mtarget\u001b[0m\u001b[0;34m,\u001b[0m \u001b[0mweight\u001b[0m\u001b[0;34m,\u001b[0m \u001b[0mreduction_enum\u001b[0m\u001b[0;34m)\u001b[0m\u001b[0;34m\u001b[0m\u001b[0;34m\u001b[0m\u001b[0m\n\u001b[0m\u001b[1;32m   3099\u001b[0m \u001b[0;34m\u001b[0m\u001b[0m\n\u001b[1;32m   3100\u001b[0m \u001b[0;34m\u001b[0m\u001b[0m\n",
            "\u001b[0;31mRuntimeError\u001b[0m: Found dtype Long but expected Float"
          ]
        }
      ]
    },
    {
      "cell_type": "code",
      "source": [
        "def onehot(k):\n",
        "    \"\"\"\n",
        "    Converts a number to its torch.Size([k])\n",
        "    one-hot representation vector\n",
        "    :param k: (int) length of vector\n",
        "    : return onehot function\n",
        "    \"\"\"\n",
        "    def encode(label):\n",
        "        y = torch.zeros(k)\n",
        "        if label < k: y[label] = 1\n",
        "        return y\n",
        "    return encode # torch.Size([k])\n",
        "\n",
        "onehot(2)(1)"
      ],
      "metadata": {
        "colab": {
          "base_uri": "https://localhost:8080/"
        },
        "id": "RhNnba8-Mm0m",
        "outputId": "8c15802b-0120-49d3-bde9-3206c90df521"
      },
      "execution_count": null,
      "outputs": [
        {
          "output_type": "execute_result",
          "data": {
            "text/plain": [
              "tensor([0., 1.])"
            ]
          },
          "metadata": {},
          "execution_count": 260
        }
      ]
    },
    {
      "cell_type": "code",
      "source": [],
      "metadata": {
        "colab": {
          "base_uri": "https://localhost:8080/",
          "height": 399
        },
        "id": "XhQXll841atM",
        "outputId": "79bf3a1e-eee4-450b-afb0-7b4cc3e5234e"
      },
      "execution_count": null,
      "outputs": [
        {
          "output_type": "stream",
          "name": "stderr",
          "text": [
            "epoch 0:   0%|          | 0/369 [00:00<?, ?it/s]"
          ]
        },
        {
          "output_type": "stream",
          "name": "stdout",
          "text": [
            "torch.Size([16, 167])\n"
          ]
        },
        {
          "output_type": "stream",
          "name": "stderr",
          "text": [
            "\n"
          ]
        },
        {
          "output_type": "error",
          "ename": "AttributeError",
          "evalue": "ignored",
          "traceback": [
            "\u001b[0;31m---------------------------------------------------------------------------\u001b[0m",
            "\u001b[0;31mAttributeError\u001b[0m                            Traceback (most recent call last)",
            "\u001b[0;32m<ipython-input-307-38ba5c3eff07>\u001b[0m in \u001b[0;36m<cell line: 5>\u001b[0;34m()\u001b[0m\n\u001b[1;32m     15\u001b[0m         \u001b[0mprint\u001b[0m\u001b[0;34m(\u001b[0m\u001b[0mfp\u001b[0m\u001b[0;34m.\u001b[0m\u001b[0mshape\u001b[0m\u001b[0;34m)\u001b[0m\u001b[0;34m\u001b[0m\u001b[0;34m\u001b[0m\u001b[0m\n\u001b[1;32m     16\u001b[0m         \u001b[0moutput\u001b[0m \u001b[0;34m=\u001b[0m \u001b[0mmodel\u001b[0m\u001b[0;34m(\u001b[0m\u001b[0mfp\u001b[0m\u001b[0;34m)\u001b[0m\u001b[0;34m\u001b[0m\u001b[0;34m\u001b[0m\u001b[0m\n\u001b[0;32m---> 17\u001b[0;31m         \u001b[0;32mif\u001b[0m \u001b[0moutput\u001b[0m\u001b[0;34m.\u001b[0m\u001b[0mdtype\u001b[0m \u001b[0;34m!=\u001b[0m \u001b[0mlabel\u001b[0m\u001b[0;34m.\u001b[0m\u001b[0mdtype\u001b[0m\u001b[0;34m:\u001b[0m\u001b[0;34m\u001b[0m\u001b[0;34m\u001b[0m\u001b[0m\n\u001b[0m\u001b[1;32m     18\u001b[0m             \u001b[0mlabel\u001b[0m \u001b[0;34m=\u001b[0m \u001b[0mlabel\u001b[0m\u001b[0;34m.\u001b[0m\u001b[0mtype\u001b[0m\u001b[0;34m(\u001b[0m\u001b[0moutput\u001b[0m\u001b[0;34m.\u001b[0m\u001b[0mdtype\u001b[0m\u001b[0;34m)\u001b[0m\u001b[0;34m\u001b[0m\u001b[0;34m\u001b[0m\u001b[0m\n\u001b[1;32m     19\u001b[0m         \u001b[0mloss\u001b[0m \u001b[0;34m=\u001b[0m \u001b[0mloss_function\u001b[0m\u001b[0;34m(\u001b[0m\u001b[0moutput\u001b[0m\u001b[0;34m,\u001b[0m \u001b[0mlabel\u001b[0m\u001b[0;34m)\u001b[0m\u001b[0;34m\u001b[0m\u001b[0;34m\u001b[0m\u001b[0m\n",
            "\u001b[0;31mAttributeError\u001b[0m: 'NoneType' object has no attribute 'dtype'"
          ]
        }
      ]
    },
    {
      "cell_type": "code",
      "source": [
        "fps = df[header][:16]\n",
        "fps = fps.astype(float)\n",
        "data_tensor = torch.tensor(fps.values)\n",
        "print(data_tensor.shape)\n",
        "out = model(data_tensor.cuda())"
      ],
      "metadata": {
        "colab": {
          "base_uri": "https://localhost:8080/",
          "height": 528
        },
        "id": "mf2CaZFJCR7h",
        "outputId": "1e5835f9-e899-4ef4-bb47-c1dc147a88d2"
      },
      "execution_count": null,
      "outputs": [
        {
          "output_type": "stream",
          "name": "stdout",
          "text": [
            "torch.Size([16, 167])\n"
          ]
        },
        {
          "output_type": "error",
          "ename": "RuntimeError",
          "evalue": "ignored",
          "traceback": [
            "\u001b[0;31m---------------------------------------------------------------------------\u001b[0m",
            "\u001b[0;31mRuntimeError\u001b[0m                              Traceback (most recent call last)",
            "\u001b[0;32m<ipython-input-275-ffa94898386a>\u001b[0m in \u001b[0;36m<cell line: 5>\u001b[0;34m()\u001b[0m\n\u001b[1;32m      3\u001b[0m \u001b[0mdata_tensor\u001b[0m \u001b[0;34m=\u001b[0m \u001b[0mtorch\u001b[0m\u001b[0;34m.\u001b[0m\u001b[0mtensor\u001b[0m\u001b[0;34m(\u001b[0m\u001b[0mfps\u001b[0m\u001b[0;34m.\u001b[0m\u001b[0mvalues\u001b[0m\u001b[0;34m)\u001b[0m\u001b[0;34m\u001b[0m\u001b[0;34m\u001b[0m\u001b[0m\n\u001b[1;32m      4\u001b[0m \u001b[0mprint\u001b[0m\u001b[0;34m(\u001b[0m\u001b[0mdata_tensor\u001b[0m\u001b[0;34m.\u001b[0m\u001b[0mshape\u001b[0m\u001b[0;34m)\u001b[0m\u001b[0;34m\u001b[0m\u001b[0;34m\u001b[0m\u001b[0m\n\u001b[0;32m----> 5\u001b[0;31m \u001b[0mout\u001b[0m \u001b[0;34m=\u001b[0m \u001b[0mmodel\u001b[0m\u001b[0;34m(\u001b[0m\u001b[0mdata_tensor\u001b[0m\u001b[0;34m.\u001b[0m\u001b[0mcuda\u001b[0m\u001b[0;34m(\u001b[0m\u001b[0;34m)\u001b[0m\u001b[0;34m)\u001b[0m\u001b[0;34m\u001b[0m\u001b[0;34m\u001b[0m\u001b[0m\n\u001b[0m",
            "\u001b[0;32m/usr/local/lib/python3.10/dist-packages/torch/nn/modules/module.py\u001b[0m in \u001b[0;36m_call_impl\u001b[0;34m(self, *args, **kwargs)\u001b[0m\n\u001b[1;32m   1499\u001b[0m                 \u001b[0;32mor\u001b[0m \u001b[0m_global_backward_pre_hooks\u001b[0m \u001b[0;32mor\u001b[0m \u001b[0m_global_backward_hooks\u001b[0m\u001b[0;34m\u001b[0m\u001b[0;34m\u001b[0m\u001b[0m\n\u001b[1;32m   1500\u001b[0m                 or _global_forward_hooks or _global_forward_pre_hooks):\n\u001b[0;32m-> 1501\u001b[0;31m             \u001b[0;32mreturn\u001b[0m \u001b[0mforward_call\u001b[0m\u001b[0;34m(\u001b[0m\u001b[0;34m*\u001b[0m\u001b[0margs\u001b[0m\u001b[0;34m,\u001b[0m \u001b[0;34m**\u001b[0m\u001b[0mkwargs\u001b[0m\u001b[0;34m)\u001b[0m\u001b[0;34m\u001b[0m\u001b[0;34m\u001b[0m\u001b[0m\n\u001b[0m\u001b[1;32m   1502\u001b[0m         \u001b[0;31m# Do not call functions when jit is used\u001b[0m\u001b[0;34m\u001b[0m\u001b[0;34m\u001b[0m\u001b[0m\n\u001b[1;32m   1503\u001b[0m         \u001b[0mfull_backward_hooks\u001b[0m\u001b[0;34m,\u001b[0m \u001b[0mnon_full_backward_hooks\u001b[0m \u001b[0;34m=\u001b[0m \u001b[0;34m[\u001b[0m\u001b[0;34m]\u001b[0m\u001b[0;34m,\u001b[0m \u001b[0;34m[\u001b[0m\u001b[0;34m]\u001b[0m\u001b[0;34m\u001b[0m\u001b[0;34m\u001b[0m\u001b[0m\n",
            "\u001b[0;32m<ipython-input-111-4ee3775a3870>\u001b[0m in \u001b[0;36mforward\u001b[0;34m(self, x)\u001b[0m\n\u001b[1;32m     45\u001b[0m     \u001b[0;32mdef\u001b[0m \u001b[0mforward\u001b[0m\u001b[0;34m(\u001b[0m\u001b[0mself\u001b[0m\u001b[0;34m,\u001b[0m \u001b[0mx\u001b[0m\u001b[0;34m)\u001b[0m\u001b[0;34m:\u001b[0m\u001b[0;34m\u001b[0m\u001b[0;34m\u001b[0m\u001b[0m\n\u001b[1;32m     46\u001b[0m         \u001b[0;32mfor\u001b[0m \u001b[0mlayer\u001b[0m \u001b[0;32min\u001b[0m \u001b[0mself\u001b[0m\u001b[0;34m.\u001b[0m\u001b[0mhidden\u001b[0m\u001b[0;34m:\u001b[0m\u001b[0;34m\u001b[0m\u001b[0;34m\u001b[0m\u001b[0m\n\u001b[0;32m---> 47\u001b[0;31m             \u001b[0mx\u001b[0m \u001b[0;34m=\u001b[0m \u001b[0mF\u001b[0m\u001b[0;34m.\u001b[0m\u001b[0mrelu\u001b[0m\u001b[0;34m(\u001b[0m\u001b[0mlayer\u001b[0m\u001b[0;34m(\u001b[0m\u001b[0mx\u001b[0m\u001b[0;34m)\u001b[0m\u001b[0;34m)\u001b[0m\u001b[0;34m\u001b[0m\u001b[0;34m\u001b[0m\u001b[0m\n\u001b[0m\u001b[1;32m     48\u001b[0m             \u001b[0;31m# print(x.shape) [batch_size, h_dim[-1]]\u001b[0m\u001b[0;34m\u001b[0m\u001b[0;34m\u001b[0m\u001b[0m\n\u001b[1;32m     49\u001b[0m         \u001b[0mx\u001b[0m \u001b[0;34m=\u001b[0m \u001b[0mself\u001b[0m\u001b[0;34m.\u001b[0m\u001b[0mfinal\u001b[0m\u001b[0;34m(\u001b[0m\u001b[0mx\u001b[0m\u001b[0;34m)\u001b[0m\u001b[0;34m\u001b[0m\u001b[0;34m\u001b[0m\u001b[0m\n",
            "\u001b[0;32m/usr/local/lib/python3.10/dist-packages/torch/nn/modules/module.py\u001b[0m in \u001b[0;36m_call_impl\u001b[0;34m(self, *args, **kwargs)\u001b[0m\n\u001b[1;32m   1499\u001b[0m                 \u001b[0;32mor\u001b[0m \u001b[0m_global_backward_pre_hooks\u001b[0m \u001b[0;32mor\u001b[0m \u001b[0m_global_backward_hooks\u001b[0m\u001b[0;34m\u001b[0m\u001b[0;34m\u001b[0m\u001b[0m\n\u001b[1;32m   1500\u001b[0m                 or _global_forward_hooks or _global_forward_pre_hooks):\n\u001b[0;32m-> 1501\u001b[0;31m             \u001b[0;32mreturn\u001b[0m \u001b[0mforward_call\u001b[0m\u001b[0;34m(\u001b[0m\u001b[0;34m*\u001b[0m\u001b[0margs\u001b[0m\u001b[0;34m,\u001b[0m \u001b[0;34m**\u001b[0m\u001b[0mkwargs\u001b[0m\u001b[0;34m)\u001b[0m\u001b[0;34m\u001b[0m\u001b[0;34m\u001b[0m\u001b[0m\n\u001b[0m\u001b[1;32m   1502\u001b[0m         \u001b[0;31m# Do not call functions when jit is used\u001b[0m\u001b[0;34m\u001b[0m\u001b[0;34m\u001b[0m\u001b[0m\n\u001b[1;32m   1503\u001b[0m         \u001b[0mfull_backward_hooks\u001b[0m\u001b[0;34m,\u001b[0m \u001b[0mnon_full_backward_hooks\u001b[0m \u001b[0;34m=\u001b[0m \u001b[0;34m[\u001b[0m\u001b[0;34m]\u001b[0m\u001b[0;34m,\u001b[0m \u001b[0;34m[\u001b[0m\u001b[0;34m]\u001b[0m\u001b[0;34m\u001b[0m\u001b[0;34m\u001b[0m\u001b[0m\n",
            "\u001b[0;32m/usr/local/lib/python3.10/dist-packages/torch/nn/modules/linear.py\u001b[0m in \u001b[0;36mforward\u001b[0;34m(self, input)\u001b[0m\n\u001b[1;32m    112\u001b[0m \u001b[0;34m\u001b[0m\u001b[0m\n\u001b[1;32m    113\u001b[0m     \u001b[0;32mdef\u001b[0m \u001b[0mforward\u001b[0m\u001b[0;34m(\u001b[0m\u001b[0mself\u001b[0m\u001b[0;34m,\u001b[0m \u001b[0minput\u001b[0m\u001b[0;34m:\u001b[0m \u001b[0mTensor\u001b[0m\u001b[0;34m)\u001b[0m \u001b[0;34m->\u001b[0m \u001b[0mTensor\u001b[0m\u001b[0;34m:\u001b[0m\u001b[0;34m\u001b[0m\u001b[0;34m\u001b[0m\u001b[0m\n\u001b[0;32m--> 114\u001b[0;31m         \u001b[0;32mreturn\u001b[0m \u001b[0mF\u001b[0m\u001b[0;34m.\u001b[0m\u001b[0mlinear\u001b[0m\u001b[0;34m(\u001b[0m\u001b[0minput\u001b[0m\u001b[0;34m,\u001b[0m \u001b[0mself\u001b[0m\u001b[0;34m.\u001b[0m\u001b[0mweight\u001b[0m\u001b[0;34m,\u001b[0m \u001b[0mself\u001b[0m\u001b[0;34m.\u001b[0m\u001b[0mbias\u001b[0m\u001b[0;34m)\u001b[0m\u001b[0;34m\u001b[0m\u001b[0;34m\u001b[0m\u001b[0m\n\u001b[0m\u001b[1;32m    115\u001b[0m \u001b[0;34m\u001b[0m\u001b[0m\n\u001b[1;32m    116\u001b[0m     \u001b[0;32mdef\u001b[0m \u001b[0mextra_repr\u001b[0m\u001b[0;34m(\u001b[0m\u001b[0mself\u001b[0m\u001b[0;34m)\u001b[0m \u001b[0;34m->\u001b[0m \u001b[0mstr\u001b[0m\u001b[0;34m:\u001b[0m\u001b[0;34m\u001b[0m\u001b[0;34m\u001b[0m\u001b[0m\n",
            "\u001b[0;31mRuntimeError\u001b[0m: mat1 and mat2 must have the same dtype"
          ]
        }
      ]
    },
    {
      "cell_type": "code",
      "source": [
        "output"
      ],
      "metadata": {
        "id": "20-yZziXRzgq"
      },
      "execution_count": null,
      "outputs": []
    },
    {
      "cell_type": "code",
      "source": [
        "torch.softmax(a, 1)[:, 1]"
      ],
      "metadata": {
        "colab": {
          "base_uri": "https://localhost:8080/",
          "height": 254
        },
        "id": "i8Agz_14Ce6Z",
        "outputId": "831bddcc-6d99-4db1-f794-092b9da91121"
      },
      "execution_count": null,
      "outputs": [
        {
          "output_type": "error",
          "ename": "IndexError",
          "evalue": "ignored",
          "traceback": [
            "\u001b[0;31m---------------------------------------------------------------------------\u001b[0m",
            "\u001b[0;31mIndexError\u001b[0m                                Traceback (most recent call last)",
            "\u001b[0;32m<ipython-input-258-2f49fe0a0ef2>\u001b[0m in \u001b[0;36m<cell line: 1>\u001b[0;34m()\u001b[0m\n\u001b[0;32m----> 1\u001b[0;31m \u001b[0mtorch\u001b[0m\u001b[0;34m.\u001b[0m\u001b[0msoftmax\u001b[0m\u001b[0;34m(\u001b[0m\u001b[0ma\u001b[0m\u001b[0;34m,\u001b[0m \u001b[0;36m1\u001b[0m\u001b[0;34m)\u001b[0m\u001b[0;34m[\u001b[0m\u001b[0;34m:\u001b[0m\u001b[0;34m,\u001b[0m \u001b[0;36m1\u001b[0m\u001b[0;34m]\u001b[0m\u001b[0;34m\u001b[0m\u001b[0;34m\u001b[0m\u001b[0m\n\u001b[0m",
            "\u001b[0;31mIndexError\u001b[0m: Dimension out of range (expected to be in range of [-1, 0], but got 1)"
          ]
        }
      ]
    },
    {
      "cell_type": "code",
      "source": [
        "# torch.Tensor(df[header])\n",
        "\n",
        "\n",
        "df[header] = df[header].astype(float)\n",
        "te = torch.Tensor(df[header].values)\n",
        "model(te)"
      ],
      "metadata": {
        "id": "p5ltsiKS-05l"
      },
      "execution_count": null,
      "outputs": []
    },
    {
      "cell_type": "code",
      "source": [
        "total_test_loss = 0\n",
        "y_preds = []\n",
        "y_trues = []\n",
        "y_probs = []\n",
        "for i, (fp, label) in enumerate(test_loader):\n",
        "    if torch.cuda.is_available():\n",
        "        print('fp shape:', fp.shape, label.shape)\n",
        "        fp, label = fp.float().cuda(), label.cuda()\n",
        "\n",
        "    output = model(fp)\n",
        "    label = label.type(output.dtype)\n",
        "\n",
        "    loss = model.loss_function(output, label)\n",
        "    print(output, label)\n",
        "    print('test:', loss)\n",
        "    total_test_loss += loss.item()\n",
        "\n",
        "total_test_loss /= len(test_loader)\n",
        "\n",
        "print(f'[Test] loss: {total_test_loss}')\n",
        "test_loss_dict[epoch] = total_test_loss"
      ],
      "metadata": {
        "id": "8LNSuoz1B50Y"
      },
      "execution_count": null,
      "outputs": []
    },
    {
      "cell_type": "code",
      "source": [
        "_, b = torch.max(output, 1)\n",
        "output"
      ],
      "metadata": {
        "colab": {
          "base_uri": "https://localhost:8080/"
        },
        "id": "g22t9AgvPWJr",
        "outputId": "a97f9415-e492-47b4-d00a-f3f8240e69b6"
      },
      "execution_count": null,
      "outputs": [
        {
          "output_type": "execute_result",
          "data": {
            "text/plain": [
              "tensor([[0., 1.],\n",
              "        [0., 1.],\n",
              "        [0., 1.],\n",
              "        [0., 1.],\n",
              "        [0., 1.],\n",
              "        [0., 1.],\n",
              "        [0., 1.],\n",
              "        [0., 1.],\n",
              "        [0., 1.],\n",
              "        [0., 1.],\n",
              "        [0., 1.],\n",
              "        [0., 1.],\n",
              "        [0., 1.],\n",
              "        [0., 1.],\n",
              "        [0., 1.],\n",
              "        [0., 1.]], device='cuda:0', grad_fn=<SoftmaxBackward0>)"
            ]
          },
          "metadata": {},
          "execution_count": 286
        }
      ]
    },
    {
      "cell_type": "code",
      "source": [
        "b\n",
        "a = np.array([1, 0, 1, 1])\n",
        "\n",
        "evaluate(a, a, a)"
      ],
      "metadata": {
        "colab": {
          "base_uri": "https://localhost:8080/"
        },
        "id": "pRLwDffJO3jj",
        "outputId": "2d8a8d00-102c-413d-9ca2-b54d31f220cb"
      },
      "execution_count": null,
      "outputs": [
        {
          "output_type": "stream",
          "name": "stdout",
          "text": [
            "Accuracy, weighted accuracy, precision, recall/SE, SP,     F1,     AUC,     MCC,     AP\n",
            "& 1.000  &  1.000  &          1.000  &     1.000  &1.000  &1.000 &1.000 &   1.000 &   1.000\n"
          ]
        }
      ]
    },
    {
      "cell_type": "code",
      "source": [
        "\n",
        "# for i in model(te.cuda()):\n",
        "#     if int(i) == 1:\n",
        "#         pass\n",
        "#     else:\n",
        "#         print('0')\n",
        "\n",
        "n = 0\n",
        "p = 0\n",
        "for i in df['Activity']:\n",
        "    # print(i)\n",
        "    if i == 0: n +=1\n",
        "    else: p+=1\n",
        "print(p, n)\n",
        "\n",
        "\n"
      ],
      "metadata": {
        "colab": {
          "base_uri": "https://localhost:8080/"
        },
        "id": "0dvgrPyR_y33",
        "outputId": "fe51ebf9-ae77-4912-831d-e2b3e593560c"
      },
      "execution_count": null,
      "outputs": [
        {
          "output_type": "stream",
          "name": "stdout",
          "text": [
            "5606 1767\n"
          ]
        }
      ]
    },
    {
      "cell_type": "code",
      "source": [
        "import matplotlib.pyplot as plt\n",
        "\n",
        "def get_min(d:dict):\n",
        "\n",
        "    min_key = next(iter(d))\n",
        "\n",
        "    # Iterate over the keys in the dictionary\n",
        "    for key in d:\n",
        "        # If the value of the current key is greater than the value of max_key, update max_key\n",
        "        if d[key] < d[min_key]:\n",
        "            min_key = key\n",
        "    return min_key, d[min_key]\n",
        "\n",
        "def plot_loss(train_dict, test_dict):\n",
        "    fig = plt.figure()\n",
        "    plt.plot(list(train_dict.keys()), list(train_dict.values()), label='train')\n",
        "    plt.plot(list(test_dict.keys()), list(test_dict.values()), label='test')\n",
        "    argmin, min = get_min(test_dict)\n",
        "    plt.plot(argmin, min, '*', label=f'min epoch {argmin}')\n",
        "    plt.xlabel('epoch')\n",
        "    plt.ylabel('loss')\n",
        "    plt.title('loss during training')\n",
        "    plt.legend()\n",
        "    plt.show()\n"
      ],
      "metadata": {
        "id": "uENz6EwY4gQl"
      },
      "execution_count": null,
      "outputs": []
    },
    {
      "cell_type": "code",
      "source": [
        "a = torch.tensor([1.0, 0.0])\n",
        "b =  torch.tensor([0.0, 1.0])\n",
        "\n",
        "a = a.view(2, 1)\n",
        "b = b.view(2, 1)\n",
        "F.binary_cross_entropy(a, b)\n",
        "\n",
        "\n",
        "a = torch.cat([a, a])\n",
        "d = torch.cat([b, b])\n",
        "print(a)\n",
        "\n",
        "F.binary_cross_entropy(a, d)\n",
        "\n"
      ],
      "metadata": {
        "colab": {
          "base_uri": "https://localhost:8080/"
        },
        "id": "qGxMHQ_tAi9P",
        "outputId": "5391faa1-7a7d-4875-9606-8c31868581ea"
      },
      "execution_count": null,
      "outputs": [
        {
          "output_type": "stream",
          "name": "stdout",
          "text": [
            "tensor([[1.],\n",
            "        [0.],\n",
            "        [1.],\n",
            "        [0.]])\n"
          ]
        },
        {
          "output_type": "execute_result",
          "data": {
            "text/plain": [
              "tensor(100.)"
            ]
          },
          "metadata": {},
          "execution_count": 173
        }
      ]
    },
    {
      "cell_type": "code",
      "source": [
        "get_min({1: 12, 3:2, 4: 9})\n",
        "\n",
        "a = {1: 12, 3:2, 4: 9}\n",
        "b = {1: 12, 3:2, 4: 9}\n",
        "\n",
        "plot_loss(a, b)"
      ],
      "metadata": {
        "colab": {
          "base_uri": "https://localhost:8080/",
          "height": 492
        },
        "id": "0H-lBP2N475f",
        "outputId": "d8b9fa9c-6957-45ff-904f-ad76c552a50d"
      },
      "execution_count": null,
      "outputs": [
        {
          "output_type": "display_data",
          "data": {
            "text/plain": [
              "<Figure size 640x480 with 1 Axes>"
            ],
            "image/png": "[encoded data removed]"
          },
          "metadata": {}
        }
      ]
    },
    {
      "cell_type": "code",
      "source": [
        "x = torch.randn([10, 3, 4])\n",
        "s0, s1, s2 = x.shape"
      ],
      "metadata": {
        "id": "uJdcsq5ql2EV"
      },
      "execution_count": null,
      "outputs": []
    },
    {
      "cell_type": "code",
      "source": [
        "h_dim = 3\n",
        "label_dim = 6\n",
        "l1 = nn.Linear(s1, h_dim)\n",
        "l2 = nn.Linear(h_dim, label_dim)"
      ],
      "metadata": {
        "id": "1g2GOqxNl2HN"
      },
      "execution_count": null,
      "outputs": []
    },
    {
      "cell_type": "code",
      "source": [
        "x = torch.randn([250, 3]) # 3 is z_dim\n",
        "\n",
        "a1 = l1(x)\n",
        "a1"
      ],
      "metadata": {
        "id": "suSgXkhUl2JS"
      },
      "execution_count": null,
      "outputs": []
    },
    {
      "cell_type": "code",
      "source": [
        "x.shape"
      ],
      "metadata": {
        "colab": {
          "base_uri": "https://localhost:8080/"
        },
        "id": "Bj4hkLgpmVlH",
        "outputId": "428af916-6c78-4ff9-afd3-63a871f7a241"
      },
      "execution_count": null,
      "outputs": [
        {
          "output_type": "execute_result",
          "data": {
            "text/plain": [
              "torch.Size([10, 3, 4])"
            ]
          },
          "metadata": {},
          "execution_count": 10
        }
      ]
    },
    {
      "cell_type": "code",
      "source": [
        "x[1].shape"
      ],
      "metadata": {
        "colab": {
          "base_uri": "https://localhost:8080/"
        },
        "id": "XaR9DGFimikP",
        "outputId": "3655f5a5-f61c-45aa-db28-57e6e9b9a3f0"
      },
      "execution_count": null,
      "outputs": [
        {
          "output_type": "execute_result",
          "data": {
            "text/plain": [
              "torch.Size([3, 4])"
            ]
          },
          "metadata": {},
          "execution_count": 12
        }
      ]
    },
    {
      "cell_type": "code",
      "source": [
        "# ! pip install rdkit --quiet\n",
        "# ! pip install molvs --quiet\n",
        "\n",
        "from rdkit import Chem\n",
        "from molvs.normalize import Normalizer, Normalization\n",
        "from rdkit.Chem.SaltRemover import SaltRemover\n",
        "from molvs.charge import Reionizer, Uncharger\n",
        "def preprocess(smi):\n",
        "    mol = Chem.MolFromSmiles(smi)\n",
        "    normalizer = Normalizer()\n",
        "    new1 = normalizer.normalize(mol)\n",
        "    remover = SaltRemover()\n",
        "    new2 = remover(new1)\n",
        "    neutralize1 = Reionizer()\n",
        "    new3 = neutralize1(new2)\n",
        "    neutralize2 = Uncharger()\n",
        "    new4 = neutralize2(new3)\n",
        "    new_smiles = Chem.MolToSmiles(new4, kekuleSmiles=False)\n",
        "    return new_smiles\n",
        "\n",
        "smi = 'C/C=C/C(O)=Nc1cccc(CNc2c(C(=N)O)cnn3cccc23)c1'\n",
        "new_smiles = preprocess(smi)\n",
        "print(new_smiles)"
      ],
      "metadata": {
        "colab": {
          "base_uri": "https://localhost:8080/"
        },
        "id": "MWs-26dhmjI_",
        "outputId": "cb0cd0dd-1503-4681-d276-38c46148761a"
      },
      "execution_count": null,
      "outputs": [
        {
          "output_type": "stream",
          "name": "stdout",
          "text": [
            "C/C=C/C(O)=Nc1cccc(CNc2c(C(=N)O)cnn3cccc23)c1\n"
          ]
        }
      ]
    },
    {
      "cell_type": "code",
      "source": [],
      "metadata": {
        "colab": {
          "base_uri": "https://localhost:8080/"
        },
        "id": "Bn9akSF9sxsX",
        "outputId": "7b9857fa-3c3d-4ac4-9531-bf63f028d9a2"
      },
      "execution_count": null,
      "outputs": [
        {
          "output_type": "stream",
          "name": "stdout",
          "text": [
            "Collecting rdkit\n",
            "  Downloading rdkit-2023.3.2-cp310-cp310-manylinux_2_17_x86_64.manylinux2014_x86_64.whl (29.7 MB)\n",
            "\u001b[2K     \u001b[90m━━━━━━━━━━━━━━━━━━━━━━━━━━━━━━━━━━━━━━━━\u001b[0m \u001b[32m29.7/29.7 MB\u001b[0m \u001b[31m33.7 MB/s\u001b[0m eta \u001b[36m0:00:00\u001b[0m\n",
            "\u001b[?25hRequirement already satisfied: numpy in /usr/local/lib/python3.10/dist-packages (from rdkit) (1.23.5)\n",
            "Requirement already satisfied: Pillow in /usr/local/lib/python3.10/dist-packages (from rdkit) (9.4.0)\n",
            "Installing collected packages: rdkit\n",
            "Successfully installed rdkit-2023.3.2\n",
            "Collecting molvs\n",
            "  Downloading MolVS-0.1.1.tar.gz (61 kB)\n",
            "\u001b[2K     \u001b[90m━━━━━━━━━━━━━━━━━━━━━━━━━━━━━━━━━━━━━━━━\u001b[0m \u001b[32m61.9/61.9 kB\u001b[0m \u001b[31m1.7 MB/s\u001b[0m eta \u001b[36m0:00:00\u001b[0m\n",
            "\u001b[?25h  Preparing metadata (setup.py) ... \u001b[?25l\u001b[?25hdone\n",
            "Requirement already satisfied: six in /usr/local/lib/python3.10/dist-packages (from molvs) (1.16.0)\n",
            "Building wheels for collected packages: molvs\n",
            "  Building wheel for molvs (setup.py) ... \u001b[?25l\u001b[?25hdone\n",
            "  Created wheel for molvs: filename=MolVS-0.1.1-py3-none-any.whl size=32374 sha256=9710b2e797f685de344f23840d9e84aed29ce0ffd671466502e2d8e708970d70\n",
            "  Stored in directory: /root/.cache/pip/wheels/24/a1/39/f02f8173c8ed91bdd386a6c608bb6bf8bd0aba7119315d6f6f\n",
            "Successfully built molvs\n",
            "Installing collected packages: molvs\n",
            "Successfully installed molvs-0.1.1\n"
          ]
        }
      ]
    },
    {
      "cell_type": "code",
      "source": [
        "F.softmax(a1)"
      ],
      "metadata": {
        "colab": {
          "base_uri": "https://localhost:8080/"
        },
        "id": "pF491oE8s1tB",
        "outputId": "c7c500e3-9ee7-4d17-ebc7-ba1cb227a73f"
      },
      "execution_count": null,
      "outputs": [
        {
          "output_type": "stream",
          "name": "stderr",
          "text": [
            "<ipython-input-38-514b165b6fdb>:1: UserWarning: Implicit dimension choice for softmax has been deprecated. Change the call to include dim=X as an argument.\n",
            "  F.softmax(a1)\n"
          ]
        },
        {
          "output_type": "execute_result",
          "data": {
            "text/plain": [
              "tensor([[0.1933, 0.4353, 0.3714],\n",
              "        [0.1466, 0.4100, 0.4433],\n",
              "        [0.1698, 0.3171, 0.5131],\n",
              "        [0.1802, 0.3147, 0.5051],\n",
              "        [0.1870, 0.2619, 0.5511],\n",
              "        [0.1813, 0.3748, 0.4439],\n",
              "        [0.1665, 0.2661, 0.5674],\n",
              "        [0.1804, 0.4231, 0.3966],\n",
              "        [0.1777, 0.5052, 0.3171],\n",
              "        [0.2113, 0.2935, 0.4952],\n",
              "        [0.1584, 0.4318, 0.4098],\n",
              "        [0.1714, 0.5542, 0.2744],\n",
              "        [0.1801, 0.4662, 0.3537],\n",
              "        [0.1589, 0.1831, 0.6580],\n",
              "        [0.1525, 0.5751, 0.2725],\n",
              "        [0.1763, 0.3015, 0.5222],\n",
              "        [0.1922, 0.4178, 0.3900],\n",
              "        [0.1933, 0.3507, 0.4559],\n",
              "        [0.1801, 0.2685, 0.5514],\n",
              "        [0.1699, 0.3749, 0.4552],\n",
              "        [0.1734, 0.4847, 0.3418],\n",
              "        [0.1699, 0.3350, 0.4951],\n",
              "        [0.1484, 0.5883, 0.2633],\n",
              "        [0.1610, 0.4011, 0.4379],\n",
              "        [0.1798, 0.2763, 0.5439],\n",
              "        [0.1512, 0.4941, 0.3547],\n",
              "        [0.1763, 0.3372, 0.4865],\n",
              "        [0.1748, 0.4773, 0.3479],\n",
              "        [0.1658, 0.3065, 0.5277],\n",
              "        [0.1912, 0.3012, 0.5077],\n",
              "        [0.1880, 0.4165, 0.3955],\n",
              "        [0.1698, 0.4683, 0.3618],\n",
              "        [0.1752, 0.4858, 0.3390],\n",
              "        [0.1869, 0.4179, 0.3952],\n",
              "        [0.1546, 0.5801, 0.2653],\n",
              "        [0.1915, 0.4207, 0.3878],\n",
              "        [0.1769, 0.4839, 0.3392],\n",
              "        [0.1700, 0.3281, 0.5019],\n",
              "        [0.1760, 0.4002, 0.4237],\n",
              "        [0.1625, 0.4587, 0.3788],\n",
              "        [0.2033, 0.3419, 0.4549],\n",
              "        [0.1766, 0.4437, 0.3796],\n",
              "        [0.1635, 0.3377, 0.4988],\n",
              "        [0.1543, 0.4876, 0.3581],\n",
              "        [0.1743, 0.4411, 0.3846],\n",
              "        [0.1652, 0.5084, 0.3265],\n",
              "        [0.1539, 0.5024, 0.3438],\n",
              "        [0.1935, 0.3183, 0.4882],\n",
              "        [0.1832, 0.3676, 0.4492],\n",
              "        [0.1733, 0.3004, 0.5263],\n",
              "        [0.1701, 0.4325, 0.3974],\n",
              "        [0.1997, 0.2819, 0.5184],\n",
              "        [0.1603, 0.4586, 0.3811],\n",
              "        [0.1839, 0.3980, 0.4181],\n",
              "        [0.1808, 0.5329, 0.2863],\n",
              "        [0.1931, 0.2355, 0.5714],\n",
              "        [0.1924, 0.3305, 0.4770],\n",
              "        [0.1862, 0.3129, 0.5009],\n",
              "        [0.1749, 0.3055, 0.5196],\n",
              "        [0.1907, 0.2703, 0.5390],\n",
              "        [0.1954, 0.3285, 0.4761],\n",
              "        [0.1467, 0.4383, 0.4150],\n",
              "        [0.1826, 0.2548, 0.5625],\n",
              "        [0.1866, 0.4939, 0.3195],\n",
              "        [0.1471, 0.5586, 0.2943],\n",
              "        [0.1862, 0.3523, 0.4614],\n",
              "        [0.1770, 0.4506, 0.3724],\n",
              "        [0.1762, 0.4678, 0.3560],\n",
              "        [0.2144, 0.3356, 0.4500],\n",
              "        [0.1739, 0.2858, 0.5403],\n",
              "        [0.1776, 0.2429, 0.5794],\n",
              "        [0.2016, 0.2529, 0.5456],\n",
              "        [0.1734, 0.2054, 0.6212],\n",
              "        [0.1366, 0.5276, 0.3358],\n",
              "        [0.1651, 0.5142, 0.3207],\n",
              "        [0.1610, 0.5615, 0.2775],\n",
              "        [0.1707, 0.5363, 0.2930],\n",
              "        [0.1596, 0.4526, 0.3878],\n",
              "        [0.1883, 0.4651, 0.3466],\n",
              "        [0.1743, 0.4067, 0.4190],\n",
              "        [0.1759, 0.4641, 0.3601],\n",
              "        [0.1693, 0.4984, 0.3322],\n",
              "        [0.1600, 0.4355, 0.4045],\n",
              "        [0.1901, 0.3121, 0.4978],\n",
              "        [0.1747, 0.4282, 0.3971],\n",
              "        [0.1629, 0.4490, 0.3881],\n",
              "        [0.1859, 0.2302, 0.5840],\n",
              "        [0.1757, 0.3661, 0.4582],\n",
              "        [0.1847, 0.4719, 0.3434],\n",
              "        [0.1880, 0.2937, 0.5183],\n",
              "        [0.2032, 0.3437, 0.4530],\n",
              "        [0.1473, 0.4405, 0.4122],\n",
              "        [0.1818, 0.4097, 0.4085],\n",
              "        [0.1892, 0.4925, 0.3183],\n",
              "        [0.1848, 0.4244, 0.3908],\n",
              "        [0.1640, 0.4578, 0.3783],\n",
              "        [0.1597, 0.5323, 0.3080],\n",
              "        [0.1891, 0.3660, 0.4449],\n",
              "        [0.1653, 0.4695, 0.3652],\n",
              "        [0.1868, 0.3185, 0.4946],\n",
              "        [0.1626, 0.4360, 0.4014],\n",
              "        [0.1976, 0.2903, 0.5121],\n",
              "        [0.1918, 0.3436, 0.4646],\n",
              "        [0.1827, 0.3402, 0.4771],\n",
              "        [0.1642, 0.4328, 0.4030],\n",
              "        [0.2076, 0.4129, 0.3795],\n",
              "        [0.1823, 0.1661, 0.6516],\n",
              "        [0.1562, 0.4726, 0.3712],\n",
              "        [0.1636, 0.2855, 0.5509],\n",
              "        [0.1843, 0.3273, 0.4884],\n",
              "        [0.1390, 0.5802, 0.2807],\n",
              "        [0.1649, 0.4712, 0.3639],\n",
              "        [0.1724, 0.4430, 0.3846],\n",
              "        [0.2021, 0.3823, 0.4156],\n",
              "        [0.1734, 0.3154, 0.5113],\n",
              "        [0.1741, 0.2609, 0.5650],\n",
              "        [0.1645, 0.4212, 0.4142],\n",
              "        [0.1788, 0.3444, 0.4768],\n",
              "        [0.1875, 0.3964, 0.4161],\n",
              "        [0.1708, 0.4411, 0.3881],\n",
              "        [0.1912, 0.2163, 0.5925],\n",
              "        [0.1772, 0.3033, 0.5195],\n",
              "        [0.1602, 0.5348, 0.3050],\n",
              "        [0.1857, 0.3354, 0.4789],\n",
              "        [0.1857, 0.2427, 0.5716],\n",
              "        [0.1750, 0.4080, 0.4171],\n",
              "        [0.1804, 0.4219, 0.3977],\n",
              "        [0.1709, 0.2764, 0.5526],\n",
              "        [0.1636, 0.5047, 0.3317],\n",
              "        [0.1782, 0.2156, 0.6062],\n",
              "        [0.1877, 0.2833, 0.5289],\n",
              "        [0.1615, 0.4266, 0.4119],\n",
              "        [0.1739, 0.4051, 0.4210],\n",
              "        [0.1970, 0.3205, 0.4824],\n",
              "        [0.1737, 0.3382, 0.4880],\n",
              "        [0.1878, 0.3538, 0.4584],\n",
              "        [0.1821, 0.3758, 0.4421],\n",
              "        [0.1827, 0.4064, 0.4109],\n",
              "        [0.1846, 0.3846, 0.4307],\n",
              "        [0.1920, 0.3151, 0.4929],\n",
              "        [0.1701, 0.2949, 0.5350],\n",
              "        [0.1542, 0.5266, 0.3191],\n",
              "        [0.1627, 0.5586, 0.2788],\n",
              "        [0.1800, 0.4299, 0.3901],\n",
              "        [0.1778, 0.5017, 0.3205],\n",
              "        [0.1701, 0.3906, 0.4393],\n",
              "        [0.1537, 0.5240, 0.3223],\n",
              "        [0.1858, 0.2999, 0.5143],\n",
              "        [0.1685, 0.4492, 0.3822],\n",
              "        [0.1976, 0.2171, 0.5853],\n",
              "        [0.1796, 0.3071, 0.5133],\n",
              "        [0.1759, 0.3663, 0.4578],\n",
              "        [0.1753, 0.4442, 0.3806],\n",
              "        [0.1767, 0.3943, 0.4290],\n",
              "        [0.1853, 0.4241, 0.3906],\n",
              "        [0.1812, 0.3070, 0.5118],\n",
              "        [0.2022, 0.4132, 0.3846],\n",
              "        [0.1797, 0.4731, 0.3472],\n",
              "        [0.1638, 0.5200, 0.3162],\n",
              "        [0.1721, 0.5173, 0.3105],\n",
              "        [0.1634, 0.5186, 0.3180],\n",
              "        [0.1907, 0.3654, 0.4439],\n",
              "        [0.1553, 0.5341, 0.3106],\n",
              "        [0.1868, 0.2840, 0.5292],\n",
              "        [0.1785, 0.2906, 0.5308],\n",
              "        [0.1837, 0.3897, 0.4266],\n",
              "        [0.1820, 0.1618, 0.6562],\n",
              "        [0.1987, 0.3555, 0.4458],\n",
              "        [0.1689, 0.4047, 0.4265],\n",
              "        [0.1745, 0.4969, 0.3286],\n",
              "        [0.1695, 0.3995, 0.4310],\n",
              "        [0.1871, 0.3621, 0.4507],\n",
              "        [0.1946, 0.3414, 0.4640],\n",
              "        [0.1767, 0.5036, 0.3197],\n",
              "        [0.1705, 0.3910, 0.4385],\n",
              "        [0.1572, 0.4502, 0.3926],\n",
              "        [0.1782, 0.3233, 0.4985],\n",
              "        [0.1850, 0.3650, 0.4500],\n",
              "        [0.1548, 0.5656, 0.2796],\n",
              "        [0.1914, 0.3569, 0.4517],\n",
              "        [0.1772, 0.3452, 0.4776],\n",
              "        [0.1789, 0.3696, 0.4515],\n",
              "        [0.1636, 0.5056, 0.3308],\n",
              "        [0.1541, 0.5184, 0.3275],\n",
              "        [0.1759, 0.4132, 0.4109],\n",
              "        [0.1686, 0.4759, 0.3555],\n",
              "        [0.1778, 0.3355, 0.4867],\n",
              "        [0.1733, 0.2110, 0.6157],\n",
              "        [0.1707, 0.5179, 0.3114],\n",
              "        [0.1524, 0.5720, 0.2756],\n",
              "        [0.1788, 0.4024, 0.4188],\n",
              "        [0.2003, 0.3806, 0.4192],\n",
              "        [0.1608, 0.5238, 0.3154],\n",
              "        [0.1497, 0.5294, 0.3209],\n",
              "        [0.1986, 0.3768, 0.4246],\n",
              "        [0.1722, 0.3709, 0.4569],\n",
              "        [0.2070, 0.3333, 0.4597],\n",
              "        [0.1466, 0.5383, 0.3151],\n",
              "        [0.1962, 0.4165, 0.3873],\n",
              "        [0.1762, 0.3460, 0.4778],\n",
              "        [0.1648, 0.5291, 0.3061],\n",
              "        [0.1663, 0.3188, 0.5149],\n",
              "        [0.2126, 0.3828, 0.4046],\n",
              "        [0.1885, 0.3286, 0.4829],\n",
              "        [0.1611, 0.4033, 0.4357],\n",
              "        [0.1700, 0.4293, 0.4007],\n",
              "        [0.1753, 0.3488, 0.4760],\n",
              "        [0.1714, 0.4026, 0.4260],\n",
              "        [0.1545, 0.4808, 0.3647],\n",
              "        [0.1963, 0.3808, 0.4230],\n",
              "        [0.1531, 0.3299, 0.5170],\n",
              "        [0.1818, 0.2407, 0.5776],\n",
              "        [0.1673, 0.4377, 0.3951],\n",
              "        [0.1868, 0.3116, 0.5016],\n",
              "        [0.1662, 0.4231, 0.4106],\n",
              "        [0.1852, 0.2498, 0.5650],\n",
              "        [0.1925, 0.3027, 0.5048],\n",
              "        [0.1702, 0.3678, 0.4620],\n",
              "        [0.1723, 0.3020, 0.5257],\n",
              "        [0.1987, 0.3804, 0.4209],\n",
              "        [0.1866, 0.2419, 0.5715],\n",
              "        [0.2016, 0.2806, 0.5178],\n",
              "        [0.1619, 0.4341, 0.4040],\n",
              "        [0.1694, 0.3873, 0.4433],\n",
              "        [0.2044, 0.3251, 0.4705],\n",
              "        [0.1910, 0.2567, 0.5523],\n",
              "        [0.1830, 0.3582, 0.4587],\n",
              "        [0.2039, 0.3464, 0.4497],\n",
              "        [0.1803, 0.4640, 0.3557],\n",
              "        [0.1765, 0.4527, 0.3708],\n",
              "        [0.1578, 0.4768, 0.3654],\n",
              "        [0.1855, 0.4542, 0.3603],\n",
              "        [0.1644, 0.4733, 0.3623],\n",
              "        [0.1747, 0.4473, 0.3780],\n",
              "        [0.1689, 0.3758, 0.4553],\n",
              "        [0.1758, 0.4488, 0.3754],\n",
              "        [0.2002, 0.3083, 0.4915],\n",
              "        [0.1684, 0.3284, 0.5032],\n",
              "        [0.1770, 0.3690, 0.4540],\n",
              "        [0.1608, 0.5493, 0.2899],\n",
              "        [0.1913, 0.3724, 0.4363],\n",
              "        [0.1913, 0.3536, 0.4551],\n",
              "        [0.1916, 0.2879, 0.5205],\n",
              "        [0.1604, 0.4477, 0.3920],\n",
              "        [0.1767, 0.3990, 0.4243],\n",
              "        [0.1815, 0.2034, 0.6151],\n",
              "        [0.1762, 0.3831, 0.4406],\n",
              "        [0.1863, 0.2813, 0.5324],\n",
              "        [0.1901, 0.3207, 0.4893],\n",
              "        [0.1919, 0.3713, 0.4367]], grad_fn=<SoftmaxBackward0>)"
            ]
          },
          "metadata": {},
          "execution_count": 38
        }
      ]
    },
    {
      "cell_type": "code",
      "source": [
        "a1.shape"
      ],
      "metadata": {
        "colab": {
          "base_uri": "https://localhost:8080/"
        },
        "id": "18tTajjQtxIz",
        "outputId": "cb4a41b3-484a-46f5-c35f-9268162096fc"
      },
      "execution_count": null,
      "outputs": [
        {
          "output_type": "execute_result",
          "data": {
            "text/plain": [
              "torch.Size([250, 12])"
            ]
          },
          "metadata": {},
          "execution_count": 30
        }
      ]
    },
    {
      "cell_type": "code",
      "source": [
        "F.softmax(a1, dim=-1)"
      ],
      "metadata": {
        "colab": {
          "base_uri": "https://localhost:8080/"
        },
        "id": "Lc-xlfM6twmz",
        "outputId": "523c9aef-1b25-4682-c54a-c463e8068248"
      },
      "execution_count": null,
      "outputs": [
        {
          "output_type": "execute_result",
          "data": {
            "text/plain": [
              "tensor([[0.1933, 0.4353, 0.3714],\n",
              "        [0.1466, 0.4100, 0.4433],\n",
              "        [0.1698, 0.3171, 0.5131],\n",
              "        [0.1802, 0.3147, 0.5051],\n",
              "        [0.1870, 0.2619, 0.5511],\n",
              "        [0.1813, 0.3748, 0.4439],\n",
              "        [0.1665, 0.2661, 0.5674],\n",
              "        [0.1804, 0.4231, 0.3966],\n",
              "        [0.1777, 0.5052, 0.3171],\n",
              "        [0.2113, 0.2935, 0.4952],\n",
              "        [0.1584, 0.4318, 0.4098],\n",
              "        [0.1714, 0.5542, 0.2744],\n",
              "        [0.1801, 0.4662, 0.3537],\n",
              "        [0.1589, 0.1831, 0.6580],\n",
              "        [0.1525, 0.5751, 0.2725],\n",
              "        [0.1763, 0.3015, 0.5222],\n",
              "        [0.1922, 0.4178, 0.3900],\n",
              "        [0.1933, 0.3507, 0.4559],\n",
              "        [0.1801, 0.2685, 0.5514],\n",
              "        [0.1699, 0.3749, 0.4552],\n",
              "        [0.1734, 0.4847, 0.3418],\n",
              "        [0.1699, 0.3350, 0.4951],\n",
              "        [0.1484, 0.5883, 0.2633],\n",
              "        [0.1610, 0.4011, 0.4379],\n",
              "        [0.1798, 0.2763, 0.5439],\n",
              "        [0.1512, 0.4941, 0.3547],\n",
              "        [0.1763, 0.3372, 0.4865],\n",
              "        [0.1748, 0.4773, 0.3479],\n",
              "        [0.1658, 0.3065, 0.5277],\n",
              "        [0.1912, 0.3012, 0.5077],\n",
              "        [0.1880, 0.4165, 0.3955],\n",
              "        [0.1698, 0.4683, 0.3618],\n",
              "        [0.1752, 0.4858, 0.3390],\n",
              "        [0.1869, 0.4179, 0.3952],\n",
              "        [0.1546, 0.5801, 0.2653],\n",
              "        [0.1915, 0.4207, 0.3878],\n",
              "        [0.1769, 0.4839, 0.3392],\n",
              "        [0.1700, 0.3281, 0.5019],\n",
              "        [0.1760, 0.4002, 0.4237],\n",
              "        [0.1625, 0.4587, 0.3788],\n",
              "        [0.2033, 0.3419, 0.4549],\n",
              "        [0.1766, 0.4437, 0.3796],\n",
              "        [0.1635, 0.3377, 0.4988],\n",
              "        [0.1543, 0.4876, 0.3581],\n",
              "        [0.1743, 0.4411, 0.3846],\n",
              "        [0.1652, 0.5084, 0.3265],\n",
              "        [0.1539, 0.5024, 0.3438],\n",
              "        [0.1935, 0.3183, 0.4882],\n",
              "        [0.1832, 0.3676, 0.4492],\n",
              "        [0.1733, 0.3004, 0.5263],\n",
              "        [0.1701, 0.4325, 0.3974],\n",
              "        [0.1997, 0.2819, 0.5184],\n",
              "        [0.1603, 0.4586, 0.3811],\n",
              "        [0.1839, 0.3980, 0.4181],\n",
              "        [0.1808, 0.5329, 0.2863],\n",
              "        [0.1931, 0.2355, 0.5714],\n",
              "        [0.1924, 0.3305, 0.4770],\n",
              "        [0.1862, 0.3129, 0.5009],\n",
              "        [0.1749, 0.3055, 0.5196],\n",
              "        [0.1907, 0.2703, 0.5390],\n",
              "        [0.1954, 0.3285, 0.4761],\n",
              "        [0.1467, 0.4383, 0.4150],\n",
              "        [0.1826, 0.2548, 0.5625],\n",
              "        [0.1866, 0.4939, 0.3195],\n",
              "        [0.1471, 0.5586, 0.2943],\n",
              "        [0.1862, 0.3523, 0.4614],\n",
              "        [0.1770, 0.4506, 0.3724],\n",
              "        [0.1762, 0.4678, 0.3560],\n",
              "        [0.2144, 0.3356, 0.4500],\n",
              "        [0.1739, 0.2858, 0.5403],\n",
              "        [0.1776, 0.2429, 0.5794],\n",
              "        [0.2016, 0.2529, 0.5456],\n",
              "        [0.1734, 0.2054, 0.6212],\n",
              "        [0.1366, 0.5276, 0.3358],\n",
              "        [0.1651, 0.5142, 0.3207],\n",
              "        [0.1610, 0.5615, 0.2775],\n",
              "        [0.1707, 0.5363, 0.2930],\n",
              "        [0.1596, 0.4526, 0.3878],\n",
              "        [0.1883, 0.4651, 0.3466],\n",
              "        [0.1743, 0.4067, 0.4190],\n",
              "        [0.1759, 0.4641, 0.3601],\n",
              "        [0.1693, 0.4984, 0.3322],\n",
              "        [0.1600, 0.4355, 0.4045],\n",
              "        [0.1901, 0.3121, 0.4978],\n",
              "        [0.1747, 0.4282, 0.3971],\n",
              "        [0.1629, 0.4490, 0.3881],\n",
              "        [0.1859, 0.2302, 0.5840],\n",
              "        [0.1757, 0.3661, 0.4582],\n",
              "        [0.1847, 0.4719, 0.3434],\n",
              "        [0.1880, 0.2937, 0.5183],\n",
              "        [0.2032, 0.3437, 0.4530],\n",
              "        [0.1473, 0.4405, 0.4122],\n",
              "        [0.1818, 0.4097, 0.4085],\n",
              "        [0.1892, 0.4925, 0.3183],\n",
              "        [0.1848, 0.4244, 0.3908],\n",
              "        [0.1640, 0.4578, 0.3783],\n",
              "        [0.1597, 0.5323, 0.3080],\n",
              "        [0.1891, 0.3660, 0.4449],\n",
              "        [0.1653, 0.4695, 0.3652],\n",
              "        [0.1868, 0.3185, 0.4946],\n",
              "        [0.1626, 0.4360, 0.4014],\n",
              "        [0.1976, 0.2903, 0.5121],\n",
              "        [0.1918, 0.3436, 0.4646],\n",
              "        [0.1827, 0.3402, 0.4771],\n",
              "        [0.1642, 0.4328, 0.4030],\n",
              "        [0.2076, 0.4129, 0.3795],\n",
              "        [0.1823, 0.1661, 0.6516],\n",
              "        [0.1562, 0.4726, 0.3712],\n",
              "        [0.1636, 0.2855, 0.5509],\n",
              "        [0.1843, 0.3273, 0.4884],\n",
              "        [0.1390, 0.5802, 0.2807],\n",
              "        [0.1649, 0.4712, 0.3639],\n",
              "        [0.1724, 0.4430, 0.3846],\n",
              "        [0.2021, 0.3823, 0.4156],\n",
              "        [0.1734, 0.3154, 0.5113],\n",
              "        [0.1741, 0.2609, 0.5650],\n",
              "        [0.1645, 0.4212, 0.4142],\n",
              "        [0.1788, 0.3444, 0.4768],\n",
              "        [0.1875, 0.3964, 0.4161],\n",
              "        [0.1708, 0.4411, 0.3881],\n",
              "        [0.1912, 0.2163, 0.5925],\n",
              "        [0.1772, 0.3033, 0.5195],\n",
              "        [0.1602, 0.5348, 0.3050],\n",
              "        [0.1857, 0.3354, 0.4789],\n",
              "        [0.1857, 0.2427, 0.5716],\n",
              "        [0.1750, 0.4080, 0.4171],\n",
              "        [0.1804, 0.4219, 0.3977],\n",
              "        [0.1709, 0.2764, 0.5526],\n",
              "        [0.1636, 0.5047, 0.3317],\n",
              "        [0.1782, 0.2156, 0.6062],\n",
              "        [0.1877, 0.2833, 0.5289],\n",
              "        [0.1615, 0.4266, 0.4119],\n",
              "        [0.1739, 0.4051, 0.4210],\n",
              "        [0.1970, 0.3205, 0.4824],\n",
              "        [0.1737, 0.3382, 0.4880],\n",
              "        [0.1878, 0.3538, 0.4584],\n",
              "        [0.1821, 0.3758, 0.4421],\n",
              "        [0.1827, 0.4064, 0.4109],\n",
              "        [0.1846, 0.3846, 0.4307],\n",
              "        [0.1920, 0.3151, 0.4929],\n",
              "        [0.1701, 0.2949, 0.5350],\n",
              "        [0.1542, 0.5266, 0.3191],\n",
              "        [0.1627, 0.5586, 0.2788],\n",
              "        [0.1800, 0.4299, 0.3901],\n",
              "        [0.1778, 0.5017, 0.3205],\n",
              "        [0.1701, 0.3906, 0.4393],\n",
              "        [0.1537, 0.5240, 0.3223],\n",
              "        [0.1858, 0.2999, 0.5143],\n",
              "        [0.1685, 0.4492, 0.3822],\n",
              "        [0.1976, 0.2171, 0.5853],\n",
              "        [0.1796, 0.3071, 0.5133],\n",
              "        [0.1759, 0.3663, 0.4578],\n",
              "        [0.1753, 0.4442, 0.3806],\n",
              "        [0.1767, 0.3943, 0.4290],\n",
              "        [0.1853, 0.4241, 0.3906],\n",
              "        [0.1812, 0.3070, 0.5118],\n",
              "        [0.2022, 0.4132, 0.3846],\n",
              "        [0.1797, 0.4731, 0.3472],\n",
              "        [0.1638, 0.5200, 0.3162],\n",
              "        [0.1721, 0.5173, 0.3105],\n",
              "        [0.1634, 0.5186, 0.3180],\n",
              "        [0.1907, 0.3654, 0.4439],\n",
              "        [0.1553, 0.5341, 0.3106],\n",
              "        [0.1868, 0.2840, 0.5292],\n",
              "        [0.1785, 0.2906, 0.5308],\n",
              "        [0.1837, 0.3897, 0.4266],\n",
              "        [0.1820, 0.1618, 0.6562],\n",
              "        [0.1987, 0.3555, 0.4458],\n",
              "        [0.1689, 0.4047, 0.4265],\n",
              "        [0.1745, 0.4969, 0.3286],\n",
              "        [0.1695, 0.3995, 0.4310],\n",
              "        [0.1871, 0.3621, 0.4507],\n",
              "        [0.1946, 0.3414, 0.4640],\n",
              "        [0.1767, 0.5036, 0.3197],\n",
              "        [0.1705, 0.3910, 0.4385],\n",
              "        [0.1572, 0.4502, 0.3926],\n",
              "        [0.1782, 0.3233, 0.4985],\n",
              "        [0.1850, 0.3650, 0.4500],\n",
              "        [0.1548, 0.5656, 0.2796],\n",
              "        [0.1914, 0.3569, 0.4517],\n",
              "        [0.1772, 0.3452, 0.4776],\n",
              "        [0.1789, 0.3696, 0.4515],\n",
              "        [0.1636, 0.5056, 0.3308],\n",
              "        [0.1541, 0.5184, 0.3275],\n",
              "        [0.1759, 0.4132, 0.4109],\n",
              "        [0.1686, 0.4759, 0.3555],\n",
              "        [0.1778, 0.3355, 0.4867],\n",
              "        [0.1733, 0.2110, 0.6157],\n",
              "        [0.1707, 0.5179, 0.3114],\n",
              "        [0.1524, 0.5720, 0.2756],\n",
              "        [0.1788, 0.4024, 0.4188],\n",
              "        [0.2003, 0.3806, 0.4192],\n",
              "        [0.1608, 0.5238, 0.3154],\n",
              "        [0.1497, 0.5294, 0.3209],\n",
              "        [0.1986, 0.3768, 0.4246],\n",
              "        [0.1722, 0.3709, 0.4569],\n",
              "        [0.2070, 0.3333, 0.4597],\n",
              "        [0.1466, 0.5383, 0.3151],\n",
              "        [0.1962, 0.4165, 0.3873],\n",
              "        [0.1762, 0.3460, 0.4778],\n",
              "        [0.1648, 0.5291, 0.3061],\n",
              "        [0.1663, 0.3188, 0.5149],\n",
              "        [0.2126, 0.3828, 0.4046],\n",
              "        [0.1885, 0.3286, 0.4829],\n",
              "        [0.1611, 0.4033, 0.4357],\n",
              "        [0.1700, 0.4293, 0.4007],\n",
              "        [0.1753, 0.3488, 0.4760],\n",
              "        [0.1714, 0.4026, 0.4260],\n",
              "        [0.1545, 0.4808, 0.3647],\n",
              "        [0.1963, 0.3808, 0.4230],\n",
              "        [0.1531, 0.3299, 0.5170],\n",
              "        [0.1818, 0.2407, 0.5776],\n",
              "        [0.1673, 0.4377, 0.3951],\n",
              "        [0.1868, 0.3116, 0.5016],\n",
              "        [0.1662, 0.4231, 0.4106],\n",
              "        [0.1852, 0.2498, 0.5650],\n",
              "        [0.1925, 0.3027, 0.5048],\n",
              "        [0.1702, 0.3678, 0.4620],\n",
              "        [0.1723, 0.3020, 0.5257],\n",
              "        [0.1987, 0.3804, 0.4209],\n",
              "        [0.1866, 0.2419, 0.5715],\n",
              "        [0.2016, 0.2806, 0.5178],\n",
              "        [0.1619, 0.4341, 0.4040],\n",
              "        [0.1694, 0.3873, 0.4433],\n",
              "        [0.2044, 0.3251, 0.4705],\n",
              "        [0.1910, 0.2567, 0.5523],\n",
              "        [0.1830, 0.3582, 0.4587],\n",
              "        [0.2039, 0.3464, 0.4497],\n",
              "        [0.1803, 0.4640, 0.3557],\n",
              "        [0.1765, 0.4527, 0.3708],\n",
              "        [0.1578, 0.4768, 0.3654],\n",
              "        [0.1855, 0.4542, 0.3603],\n",
              "        [0.1644, 0.4733, 0.3623],\n",
              "        [0.1747, 0.4473, 0.3780],\n",
              "        [0.1689, 0.3758, 0.4553],\n",
              "        [0.1758, 0.4488, 0.3754],\n",
              "        [0.2002, 0.3083, 0.4915],\n",
              "        [0.1684, 0.3284, 0.5032],\n",
              "        [0.1770, 0.3690, 0.4540],\n",
              "        [0.1608, 0.5493, 0.2899],\n",
              "        [0.1913, 0.3724, 0.4363],\n",
              "        [0.1913, 0.3536, 0.4551],\n",
              "        [0.1916, 0.2879, 0.5205],\n",
              "        [0.1604, 0.4477, 0.3920],\n",
              "        [0.1767, 0.3990, 0.4243],\n",
              "        [0.1815, 0.2034, 0.6151],\n",
              "        [0.1762, 0.3831, 0.4406],\n",
              "        [0.1863, 0.2813, 0.5324],\n",
              "        [0.1901, 0.3207, 0.4893],\n",
              "        [0.1919, 0.3713, 0.4367]], grad_fn=<SoftmaxBackward0>)"
            ]
          },
          "metadata": {},
          "execution_count": 39
        }
      ]
    },
    {
      "cell_type": "code",
      "source": [
        "F.sigmoid(a1).shape"
      ],
      "metadata": {
        "colab": {
          "base_uri": "https://localhost:8080/"
        },
        "id": "pcMotyISt0Jr",
        "outputId": "fc16d277-51b3-48a0-907e-797f3a899999"
      },
      "execution_count": null,
      "outputs": [
        {
          "output_type": "execute_result",
          "data": {
            "text/plain": [
              "torch.Size([250, 12])"
            ]
          },
          "metadata": {},
          "execution_count": 33
        }
      ]
    },
    {
      "cell_type": "code",
      "source": [
        "F.sigmoid(a1)"
      ],
      "metadata": {
        "colab": {
          "base_uri": "https://localhost:8080/"
        },
        "id": "NzC7zkI_uC1W",
        "outputId": "06bfea46-92ee-4ebb-d20f-3e11457efa00"
      },
      "execution_count": null,
      "outputs": [
        {
          "output_type": "execute_result",
          "data": {
            "text/plain": [
              "tensor([[0.4126, 0.6127, 0.5744],\n",
              "        [0.3134, 0.5607, 0.5799],\n",
              "        [0.3029, 0.4479, 0.5676],\n",
              "        [0.3257, 0.4576, 0.5752],\n",
              "        [0.3055, 0.3812, 0.5646],\n",
              "        [0.3546, 0.5319, 0.5737],\n",
              "        [0.2760, 0.3786, 0.5651],\n",
              "        [0.3813, 0.5912, 0.5754],\n",
              "        [0.4301, 0.6821, 0.5739],\n",
              "        [0.3530, 0.4312, 0.5612],\n",
              "        [0.3409, 0.5850, 0.5723],\n",
              "        [0.4650, 0.7376, 0.5819],\n",
              "        [0.4048, 0.6378, 0.5719],\n",
              "        [0.2384, 0.2651, 0.5645],\n",
              "        [0.4366, 0.7451, 0.5807],\n",
              "        [0.3119, 0.4367, 0.5731],\n",
              "        [0.3932, 0.5848, 0.5680],\n",
              "        [0.3617, 0.5069, 0.5719],\n",
              "        [0.3064, 0.3970, 0.5749],\n",
              "        [0.3276, 0.5180, 0.5661],\n",
              "        [0.4092, 0.6594, 0.5773],\n",
              "        [0.3183, 0.4793, 0.5763],\n",
              "        [0.4423, 0.7587, 0.5845],\n",
              "        [0.3306, 0.5516, 0.5732],\n",
              "        [0.2993, 0.3962, 0.5636],\n",
              "        [0.3711, 0.6585, 0.5806],\n",
              "        [0.3162, 0.4693, 0.5607],\n",
              "        [0.4037, 0.6490, 0.5740],\n",
              "        [0.2984, 0.4402, 0.5752],\n",
              "        [0.3277, 0.4343, 0.5642],\n",
              "        [0.3859, 0.5821, 0.5694],\n",
              "        [0.3890, 0.6371, 0.5756],\n",
              "        [0.4097, 0.6580, 0.5731],\n",
              "        [0.3954, 0.5939, 0.5803],\n",
              "        [0.4513, 0.7553, 0.5853],\n",
              "        [0.3984, 0.5926, 0.5728],\n",
              "        [0.4172, 0.6620, 0.5785],\n",
              "        [0.3146, 0.4697, 0.5754],\n",
              "        [0.3593, 0.5604, 0.5744],\n",
              "        [0.3700, 0.6238, 0.5779],\n",
              "        [0.3832, 0.5110, 0.5817],\n",
              "        [0.3930, 0.6193, 0.5819],\n",
              "        [0.3076, 0.4784, 0.5754],\n",
              "        [0.3743, 0.6541, 0.5813],\n",
              "        [0.3815, 0.6094, 0.5763],\n",
              "        [0.4105, 0.6819, 0.5792],\n",
              "        [0.3819, 0.6686, 0.5799],\n",
              "        [0.3448, 0.4640, 0.5705],\n",
              "        [0.3565, 0.5264, 0.5759],\n",
              "        [0.3051, 0.4322, 0.5715],\n",
              "        [0.3660, 0.5947, 0.5742],\n",
              "        [0.3375, 0.4183, 0.5694],\n",
              "        [0.3655, 0.6224, 0.5780],\n",
              "        [0.3723, 0.5621, 0.5742],\n",
              "        [0.4594, 0.7146, 0.5736],\n",
              "        [0.3040, 0.3477, 0.5639],\n",
              "        [0.3479, 0.4782, 0.5694],\n",
              "        [0.3348, 0.4582, 0.5752],\n",
              "        [0.3117, 0.4417, 0.5736],\n",
              "        [0.3178, 0.3977, 0.5684],\n",
              "        [0.3532, 0.4786, 0.5709],\n",
              "        [0.3267, 0.5917, 0.5785],\n",
              "        [0.3021, 0.3766, 0.5714],\n",
              "        [0.4446, 0.6793, 0.5782],\n",
              "        [0.4135, 0.7281, 0.5852],\n",
              "        [0.3525, 0.5074, 0.5743],\n",
              "        [0.3937, 0.6230, 0.5773],\n",
              "        [0.3975, 0.6365, 0.5713],\n",
              "        [0.3821, 0.4918, 0.5648],\n",
              "        [0.3044, 0.4183, 0.5762],\n",
              "        [0.2907, 0.3592, 0.5721],\n",
              "        [0.3257, 0.3773, 0.5666],\n",
              "        [0.2674, 0.3018, 0.5666],\n",
              "        [0.3733, 0.6970, 0.5942],\n",
              "        [0.4137, 0.6873, 0.5782],\n",
              "        [0.4395, 0.7323, 0.5748],\n",
              "        [0.4330, 0.7059, 0.5673],\n",
              "        [0.3575, 0.6122, 0.5750],\n",
              "        [0.4274, 0.6484, 0.5788],\n",
              "        [0.3588, 0.5663, 0.5736],\n",
              "        [0.3957, 0.6334, 0.5727],\n",
              "        [0.4028, 0.6650, 0.5696],\n",
              "        [0.3523, 0.5968, 0.5789],\n",
              "        [0.3373, 0.4553, 0.5714],\n",
              "        [0.3715, 0.5916, 0.5732],\n",
              "        [0.3628, 0.6109, 0.5758],\n",
              "        [0.2917, 0.3378, 0.5641],\n",
              "        [0.3442, 0.5223, 0.5778],\n",
              "        [0.4239, 0.6527, 0.5777],\n",
              "        [0.3205, 0.4243, 0.5653],\n",
              "        [0.3740, 0.5026, 0.5712],\n",
              "        [0.3365, 0.6027, 0.5867],\n",
              "        [0.3719, 0.5716, 0.5708],\n",
              "        [0.4455, 0.6765, 0.5748],\n",
              "        [0.3867, 0.5915, 0.5714],\n",
              "        [0.3779, 0.6291, 0.5836],\n",
              "        [0.4186, 0.7059, 0.5814],\n",
              "        [0.3659, 0.5276, 0.5758],\n",
              "        [0.3836, 0.6387, 0.5789],\n",
              "        [0.3339, 0.4608, 0.5703],\n",
              "        [0.3570, 0.5982, 0.5782],\n",
              "        [0.3379, 0.4285, 0.5695],\n",
              "        [0.3543, 0.4957, 0.5706],\n",
              "        [0.3445, 0.4946, 0.5784],\n",
              "        [0.3602, 0.5974, 0.5801],\n",
              "        [0.4183, 0.5886, 0.5680],\n",
              "        [0.2667, 0.2489, 0.5652],\n",
              "        [0.3701, 0.6400, 0.5826],\n",
              "        [0.2898, 0.4159, 0.5787],\n",
              "        [0.3349, 0.4720, 0.5716],\n",
              "        [0.4113, 0.7446, 0.5852],\n",
              "        [0.3875, 0.6439, 0.5827],\n",
              "        [0.3751, 0.6067, 0.5724],\n",
              "        [0.3884, 0.5457, 0.5663],\n",
              "        [0.3167, 0.4574, 0.5775],\n",
              "        [0.2905, 0.3803, 0.5706],\n",
              "        [0.3479, 0.5773, 0.5732],\n",
              "        [0.3369, 0.4947, 0.5755],\n",
              "        [0.3798, 0.5641, 0.5760],\n",
              "        [0.3713, 0.6041, 0.5732],\n",
              "        [0.3020, 0.3286, 0.5728],\n",
              "        [0.3106, 0.4354, 0.5691],\n",
              "        [0.4237, 0.7106, 0.5834],\n",
              "        [0.3391, 0.4811, 0.5696],\n",
              "        [0.2986, 0.3575, 0.5672],\n",
              "        [0.3600, 0.5674, 0.5728],\n",
              "        [0.3803, 0.5894, 0.5750],\n",
              "        [0.2925, 0.4007, 0.5721],\n",
              "        [0.4000, 0.6727, 0.5746],\n",
              "        [0.2809, 0.3210, 0.5706],\n",
              "        [0.3164, 0.4112, 0.5660],\n",
              "        [0.3512, 0.5885, 0.5800],\n",
              "        [0.3595, 0.5666, 0.5760],\n",
              "        [0.3475, 0.4642, 0.5660],\n",
              "        [0.3194, 0.4775, 0.5687],\n",
              "        [0.3509, 0.5046, 0.5689],\n",
              "        [0.3554, 0.5322, 0.5724],\n",
              "        [0.3717, 0.5682, 0.5709],\n",
              "        [0.3625, 0.5422, 0.5701],\n",
              "        [0.3425, 0.4608, 0.5721],\n",
              "        [0.2985, 0.4245, 0.5724],\n",
              "        [0.3940, 0.6895, 0.5736],\n",
              "        [0.4466, 0.7348, 0.5803],\n",
              "        [0.3901, 0.6044, 0.5810],\n",
              "        [0.4305, 0.6809, 0.5768],\n",
              "        [0.3431, 0.5453, 0.5743],\n",
              "        [0.4023, 0.6966, 0.5854],\n",
              "        [0.3240, 0.4362, 0.5702],\n",
              "        [0.3735, 0.6137, 0.5748],\n",
              "        [0.3051, 0.3253, 0.5652],\n",
              "        [0.3231, 0.4494, 0.5771],\n",
              "        [0.3429, 0.5207, 0.5759],\n",
              "        [0.3856, 0.6140, 0.5768],\n",
              "        [0.3641, 0.5609, 0.5815],\n",
              "        [0.3887, 0.5928, 0.5728],\n",
              "        [0.3221, 0.4460, 0.5730],\n",
              "        [0.4155, 0.5922, 0.5748],\n",
              "        [0.4175, 0.6537, 0.5808],\n",
              "        [0.4178, 0.6950, 0.5808],\n",
              "        [0.4299, 0.6939, 0.5763],\n",
              "        [0.4090, 0.6871, 0.5738],\n",
              "        [0.3641, 0.5231, 0.5713],\n",
              "        [0.4104, 0.7053, 0.5819],\n",
              "        [0.3184, 0.4153, 0.5696],\n",
              "        [0.3157, 0.4289, 0.5784],\n",
              "        [0.3617, 0.5458, 0.5681],\n",
              "        [0.2619, 0.2398, 0.5613],\n",
              "        [0.3704, 0.5128, 0.5690],\n",
              "        [0.3544, 0.5682, 0.5810],\n",
              "        [0.4170, 0.6707, 0.5739],\n",
              "        [0.3375, 0.5457, 0.5644],\n",
              "        [0.3513, 0.5117, 0.5660],\n",
              "        [0.3639, 0.5009, 0.5770],\n",
              "        [0.4352, 0.6871, 0.5823],\n",
              "        [0.3439, 0.5459, 0.5741],\n",
              "        [0.3553, 0.6122, 0.5793],\n",
              "        [0.3198, 0.4603, 0.5680],\n",
              "        [0.3482, 0.5131, 0.5651],\n",
              "        [0.4349, 0.7377, 0.5816],\n",
              "        [0.3672, 0.5197, 0.5780],\n",
              "        [0.3348, 0.4951, 0.5757],\n",
              "        [0.3491, 0.5256, 0.5752],\n",
              "        [0.4047, 0.6775, 0.5789],\n",
              "        [0.3933, 0.6856, 0.5795],\n",
              "        [0.3641, 0.5735, 0.5722],\n",
              "        [0.4005, 0.6534, 0.5848],\n",
              "        [0.3296, 0.4813, 0.5737],\n",
              "        [0.2695, 0.3100, 0.5673],\n",
              "        [0.4315, 0.6973, 0.5807],\n",
              "        [0.4322, 0.7408, 0.5793],\n",
              "        [0.3625, 0.5614, 0.5713],\n",
              "        [0.3920, 0.5506, 0.5744],\n",
              "        [0.4090, 0.6926, 0.5757],\n",
              "        [0.3896, 0.6930, 0.5777],\n",
              "        [0.3792, 0.5368, 0.5664],\n",
              "        [0.3348, 0.5202, 0.5718],\n",
              "        [0.3725, 0.4887, 0.5687],\n",
              "        [0.3974, 0.7078, 0.5864],\n",
              "        [0.4079, 0.5938, 0.5761],\n",
              "        [0.3348, 0.4970, 0.5771],\n",
              "        [0.4316, 0.7092, 0.5851],\n",
              "        [0.3006, 0.4518, 0.5710],\n",
              "        [0.4156, 0.5615, 0.5751],\n",
              "        [0.3392, 0.4722, 0.5679],\n",
              "        [0.3318, 0.5543, 0.5732],\n",
              "        [0.3698, 0.5970, 0.5803],\n",
              "        [0.3283, 0.4931, 0.5703],\n",
              "        [0.3481, 0.5564, 0.5702],\n",
              "        [0.3657, 0.6421, 0.5764],\n",
              "        [0.3871, 0.5506, 0.5764],\n",
              "        [0.2862, 0.4636, 0.5752],\n",
              "        [0.3002, 0.3623, 0.5768],\n",
              "        [0.3613, 0.5968, 0.5719],\n",
              "        [0.3274, 0.4481, 0.5666],\n",
              "        [0.3583, 0.5870, 0.5797],\n",
              "        [0.3014, 0.3678, 0.5683],\n",
              "        [0.3285, 0.4347, 0.5619],\n",
              "        [0.3347, 0.5207, 0.5772],\n",
              "        [0.2975, 0.4260, 0.5637],\n",
              "        [0.3917, 0.5521, 0.5770],\n",
              "        [0.2984, 0.3553, 0.5656],\n",
              "        [0.3399, 0.4175, 0.5694],\n",
              "        [0.3526, 0.5935, 0.5760],\n",
              "        [0.3432, 0.5443, 0.5776],\n",
              "        [0.3693, 0.4823, 0.5741],\n",
              "        [0.3118, 0.3784, 0.5671],\n",
              "        [0.3521, 0.5154, 0.5766],\n",
              "        [0.3789, 0.5090, 0.5737],\n",
              "        [0.4109, 0.6422, 0.5791],\n",
              "        [0.3914, 0.6226, 0.5747],\n",
              "        [0.3661, 0.6356, 0.5720],\n",
              "        [0.4088, 0.6287, 0.5732],\n",
              "        [0.3797, 0.6379, 0.5742],\n",
              "        [0.3843, 0.6151, 0.5745],\n",
              "        [0.3350, 0.5284, 0.5759],\n",
              "        [0.3840, 0.6141, 0.5711],\n",
              "        [0.3481, 0.4513, 0.5673],\n",
              "        [0.3117, 0.4690, 0.5751],\n",
              "        [0.3430, 0.5211, 0.5724],\n",
              "        [0.4327, 0.7226, 0.5789],\n",
              "        [0.3756, 0.5393, 0.5784],\n",
              "        [0.3581, 0.5076, 0.5703],\n",
              "        [0.3300, 0.4253, 0.5723],\n",
              "        [0.3591, 0.6100, 0.5780],\n",
              "        [0.3648, 0.5646, 0.5797],\n",
              "        [0.2747, 0.2980, 0.5621],\n",
              "        [0.3505, 0.5399, 0.5744],\n",
              "        [0.3186, 0.4138, 0.5719],\n",
              "        [0.3352, 0.4596, 0.5648],\n",
              "        [0.3680, 0.5298, 0.5699]], grad_fn=<SigmoidBackward0>)"
            ]
          },
          "metadata": {},
          "execution_count": 40
        }
      ]
    },
    {
      "cell_type": "code",
      "source": [],
      "metadata": {
        "id": "8QffOuZuujol"
      },
      "execution_count": null,
      "outputs": []
    }
  ]
}