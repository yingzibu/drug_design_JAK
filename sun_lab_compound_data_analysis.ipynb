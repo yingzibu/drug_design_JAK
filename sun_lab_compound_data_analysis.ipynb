{
  "cells": [
    {
      "cell_type": "markdown",
      "metadata": {
        "id": "view-in-github",
        "colab_type": "text"
      },
      "source": [
        "<a href=\"https://colab.research.google.com/github/yingzibu/drug_design_JAK/blob/main/sun_lab_compound_data_analysis.ipynb\" target=\"_parent\"><img src=\"https://colab.research.google.com/assets/colab-badge.svg\" alt=\"Open In Colab\"/></a>"
      ]
    },
    {
      "cell_type": "code",
      "execution_count": 1,
      "metadata": {
        "colab": {
          "base_uri": "https://localhost:8080/"
        },
        "id": "VKOZATAzWslW",
        "outputId": "73199d85-4546-49c1-ffcd-91604328d801"
      },
      "outputs": [
        {
          "output_type": "stream",
          "name": "stdout",
          "text": [
            "Mounted at /content/drive\n"
          ]
        }
      ],
      "source": [
        "from google.colab import drive\n",
        "drive.mount('/content/drive')"
      ]
    },
    {
      "cell_type": "code",
      "execution_count": 3,
      "metadata": {
        "id": "tCXPfDEIfckd"
      },
      "outputs": [],
      "source": [
        "cd /content/drive/MyDrive/sun_lab_compound_pk/"
      ]
    },
    {
      "cell_type": "code",
      "execution_count": 4,
      "metadata": {
        "id": "f2IJ5MubW1nW",
        "colab": {
          "base_uri": "https://localhost:8080/"
        },
        "outputId": "8e751da2-6c0c-4f1a-c7fd-9dd38e910e39"
      },
      "outputs": [
        {
          "output_type": "stream",
          "name": "stdout",
          "text": [
            "/content/drive/MyDrive/A_JAK_design/sun_lab_compound_pk\n"
          ]
        }
      ],
      "source": [
        "# cd /content/drive/MyDrive/A_JAK_design/sun_lab_compound_pk/"
      ]
    },
    {
      "cell_type": "code",
      "execution_count": 5,
      "metadata": {
        "id": "FGdNZ2bgDyK2",
        "colab": {
          "base_uri": "https://localhost:8080/"
        },
        "outputId": "1e323bf2-e9f8-472c-9acf-81992759fd71"
      },
      "outputs": [
        {
          "output_type": "stream",
          "name": "stdout",
          "text": [
            "\u001b[2K     \u001b[90m━━━━━━━━━━━━━━━━━━━━━━━━━━━━━━━━━━━━━━━━\u001b[0m \u001b[32m29.7/29.7 MB\u001b[0m \u001b[31m12.7 MB/s\u001b[0m eta \u001b[36m0:00:00\u001b[0m\n",
            "\u001b[?25h  Preparing metadata (setup.py) ... \u001b[?25l\u001b[?25hdone\n",
            "\u001b[2K     \u001b[90m━━━━━━━━━━━━━━━━━━━━━━━━━━━━━━━━━━━━━━━━\u001b[0m \u001b[32m1.6/1.6 MB\u001b[0m \u001b[31m5.0 MB/s\u001b[0m eta \u001b[36m0:00:00\u001b[0m\n",
            "\u001b[?25h  Building wheel for mol2vec (setup.py) ... \u001b[?25l\u001b[?25hdone\n"
          ]
        }
      ],
      "source": [
        "!pip install rdkit --quiet\n",
        "!pip install git+https://github.com/samoturk/mol2vec --quiet\n",
        "from mol2vec.helpers import depict_identifier, plot_2D_vectors, IdentifierTable, mol_to_svg\n",
        "import pandas as pd\n",
        "import matplotlib.pyplot as plt\n",
        "import numpy as np\n",
        "from sklearn.decomposition import PCA\n",
        "import seaborn as sns\n",
        "from sklearn.preprocessing import StandardScaler\n",
        "import warnings\n",
        "def warn(*args, **kwargs):\n",
        "    pass\n",
        "warnings.warn = warn\n",
        "from cal import *"
      ]
    },
    {
      "cell_type": "markdown",
      "metadata": {
        "id": "TG1bcbAN_Aej"
      },
      "source": [
        "## Make sure 2 xlsx files\n",
        "\n",
        "\n",
        "\n",
        "*   **compound_data.xlsx**, the excel file containing pk data\n",
        "*   **drug_smile.xlsx**, the excel file containing SMILES, MW, ALERTS, QED etc.\n",
        "\n",
        "\n",
        "\n",
        "\n",
        "are in this *directory*. Do not interchange or change the name."
      ]
    },
    {
      "cell_type": "code",
      "execution_count": 6,
      "metadata": {
        "colab": {
          "base_uri": "https://localhost:8080/",
          "height": 36
        },
        "id": "F53plhJ3D70J",
        "outputId": "ea2665cb-7835-4d61-a4d2-41b7a93b4817"
      },
      "outputs": [
        {
          "output_type": "execute_result",
          "data": {
            "text/plain": [
              "'/content/drive/MyDrive/A_JAK_design/sun_lab_compound_pk/'"
            ],
            "application/vnd.google.colaboratory.intrinsic+json": {
              "type": "string"
            }
          },
          "metadata": {},
          "execution_count": 6
        }
      ],
      "source": [
        "get_dir()"
      ]
    },
    {
      "cell_type": "code",
      "execution_count": 7,
      "metadata": {
        "colab": {
          "base_uri": "https://localhost:8080/"
        },
        "id": "xJzxK3Db9nNh",
        "outputId": "bf68d5a4-b934-4648-fe66-f212837badee"
      },
      "outputs": [
        {
          "output_type": "stream",
          "name": "stdout",
          "text": [
            "cal.py  compound_data.xlsx  drug_smile.xlsx  gfg.html  \u001b[0m\u001b[01;34m__pycache__\u001b[0m/\n"
          ]
        }
      ],
      "source": [
        "ls"
      ]
    },
    {
      "cell_type": "code",
      "execution_count": 8,
      "metadata": {
        "colab": {
          "base_uri": "https://localhost:8080/",
          "height": 956
        },
        "id": "BjHm8XP2EGW_",
        "outputId": "857b6a44-9284-439b-a3ca-292f58c5bf68"
      },
      "outputs": [
        {
          "output_type": "execute_result",
          "data": {
            "text/plain": [
              "         Compound name   Structure picture             Target       MW  \\\n",
              "0      ARD-3474-WX (36)                NaN  Androgen receptor   807.41   \n",
              "1      ARD-3474-WX (36)                NaN  Androgen receptor   807.41   \n",
              "2      ARD-3474-WX (36)                NaN  Androgen receptor   807.41   \n",
              "3      ARD-3474-WX (36)                NaN  Androgen receptor   807.41   \n",
              "4      ARD-3474-WX (36)                NaN  Androgen receptor   807.41   \n",
              "...                 ...                ...                ...      ...   \n",
              "21338        M-1034-XSL                NaN              Menin  696.815   \n",
              "21339        M-1034-XSL                NaN              Menin  696.815   \n",
              "21340        M-1034-XSL                NaN              Menin  696.815   \n",
              "21341        M-1034-XSL                NaN              Menin  696.815   \n",
              "21342        M-1034-XSL                NaN              Menin  696.815   \n",
              "\n",
              "      Dose route Dosage (mg/kg) Time (h) Concentration  [ng/(mL or g)]  \\\n",
              "0             PO              3        1                          28.9   \n",
              "1             PO              3        3                          17.9   \n",
              "2             PO              3        6                            11   \n",
              "3             PO              3       24                          9.63   \n",
              "4             PO              3        1                          10.3   \n",
              "...          ...            ...      ...                           ...   \n",
              "21338         PO             25       24                          4.95   \n",
              "21339         PO             25        1                         37.78   \n",
              "21340         PO             25        3                         14.79   \n",
              "21341         PO             25        6                          7.97   \n",
              "21342         PO             25       24                          2.08   \n",
              "\n",
              "      Concentration Average  Tissue  ...  ROTB AROM ALERTS       QED    LogS  \\\n",
              "0                       NaN  Plasma  ...   6.0  3.0    1.0  0.263721 -10.890   \n",
              "1                       NaN  Plasma  ...   6.0  3.0    1.0  0.263721 -10.890   \n",
              "2                       NaN  Plasma  ...   6.0  3.0    1.0  0.263721 -10.890   \n",
              "3                       NaN  Plasma  ...   6.0  3.0    1.0  0.263721 -10.890   \n",
              "4                       NaN  Plasma  ...   6.0  3.0    1.0  0.263721 -10.890   \n",
              "...                     ...     ...  ...   ...  ...    ...       ...     ...   \n",
              "21338                83.535  Plasma  ...  11.0  2.0    0.0  0.334316  -7.747   \n",
              "21339                101.45  Plasma  ...  11.0  2.0    0.0  0.334316  -7.747   \n",
              "21340                25.245  Plasma  ...  11.0  2.0    0.0  0.334316  -7.747   \n",
              "21341                 19.57  Plasma  ...  11.0  2.0    0.0  0.334316  -7.747   \n",
              "21342                 3.515  Plasma  ...  11.0  2.0    0.0  0.334316  -7.747   \n",
              "\n",
              "                pKa                                              Notes  \\\n",
              "0             8.806                          PEG400:Labrasol (1:1 v/v)   \n",
              "1             8.806                          PEG400:Labrasol (1:1 v/v)   \n",
              "2             8.806                          PEG400:Labrasol (1:1 v/v)   \n",
              "3             8.806                          PEG400:Labrasol (1:1 v/v)   \n",
              "4             8.806                          PEG400:Labrasol (1:1 v/v)   \n",
              "...             ...                                                ...   \n",
              "21338  7.785, 8.087  Red numbers indicate that there were larget di...   \n",
              "21339  7.785, 8.087  Red numbers indicate that there were larget di...   \n",
              "21340  7.785, 8.087  Red numbers indicate that there were larget di...   \n",
              "21341  7.785, 8.087  Red numbers indicate that there were larget di...   \n",
              "21342  7.785, 8.087  Red numbers indicate that there were larget di...   \n",
              "\n",
              "       Unnamed: 24  Unnamed: 25  Unnamed: 26  \n",
              "0              NaN          NaN          NaN  \n",
              "1              NaN          NaN          NaN  \n",
              "2              NaN          NaN          NaN  \n",
              "3              NaN          NaN          NaN  \n",
              "4              NaN          NaN          NaN  \n",
              "...            ...          ...          ...  \n",
              "21338       137.37       -9.983        7.275  \n",
              "21339       137.37       -9.983        7.275  \n",
              "21340       137.37       -9.983        7.275  \n",
              "21341       137.37       -9.983        7.275  \n",
              "21342       137.37       -9.983        7.275  \n",
              "\n",
              "[21343 rows x 27 columns]"
            ],
            "text/html": [
              "\n",
              "\n",
              "  <div id=\"df-661cdb8a-7121-4c37-b304-f3431c22c39f\">\n",
              "    <div class=\"colab-df-container\">\n",
              "      <div>\n",
              "<style scoped>\n",
              "    .dataframe tbody tr th:only-of-type {\n",
              "        vertical-align: middle;\n",
              "    }\n",
              "\n",
              "    .dataframe tbody tr th {\n",
              "        vertical-align: top;\n",
              "    }\n",
              "\n",
              "    .dataframe thead th {\n",
              "        text-align: right;\n",
              "    }\n",
              "</style>\n",
              "<table border=\"1\" class=\"dataframe\">\n",
              "  <thead>\n",
              "    <tr style=\"text-align: right;\">\n",
              "      <th></th>\n",
              "      <th>Compound name</th>\n",
              "      <th>Structure picture</th>\n",
              "      <th>Target</th>\n",
              "      <th>MW</th>\n",
              "      <th>Dose route</th>\n",
              "      <th>Dosage (mg/kg)</th>\n",
              "      <th>Time (h)</th>\n",
              "      <th>Concentration  [ng/(mL or g)]</th>\n",
              "      <th>Concentration Average</th>\n",
              "      <th>Tissue</th>\n",
              "      <th>...</th>\n",
              "      <th>ROTB</th>\n",
              "      <th>AROM</th>\n",
              "      <th>ALERTS</th>\n",
              "      <th>QED</th>\n",
              "      <th>LogS</th>\n",
              "      <th>pKa</th>\n",
              "      <th>Notes</th>\n",
              "      <th>Unnamed: 24</th>\n",
              "      <th>Unnamed: 25</th>\n",
              "      <th>Unnamed: 26</th>\n",
              "    </tr>\n",
              "  </thead>\n",
              "  <tbody>\n",
              "    <tr>\n",
              "      <th>0</th>\n",
              "      <td>ARD-3474-WX (36)</td>\n",
              "      <td>NaN</td>\n",
              "      <td>Androgen receptor</td>\n",
              "      <td>807.41</td>\n",
              "      <td>PO</td>\n",
              "      <td>3</td>\n",
              "      <td>1</td>\n",
              "      <td>28.9</td>\n",
              "      <td>NaN</td>\n",
              "      <td>Plasma</td>\n",
              "      <td>...</td>\n",
              "      <td>6.0</td>\n",
              "      <td>3.0</td>\n",
              "      <td>1.0</td>\n",
              "      <td>0.263721</td>\n",
              "      <td>-10.890</td>\n",
              "      <td>8.806</td>\n",
              "      <td>PEG400:Labrasol (1:1 v/v)</td>\n",
              "      <td>NaN</td>\n",
              "      <td>NaN</td>\n",
              "      <td>NaN</td>\n",
              "    </tr>\n",
              "    <tr>\n",
              "      <th>1</th>\n",
              "      <td>ARD-3474-WX (36)</td>\n",
              "      <td>NaN</td>\n",
              "      <td>Androgen receptor</td>\n",
              "      <td>807.41</td>\n",
              "      <td>PO</td>\n",
              "      <td>3</td>\n",
              "      <td>3</td>\n",
              "      <td>17.9</td>\n",
              "      <td>NaN</td>\n",
              "      <td>Plasma</td>\n",
              "      <td>...</td>\n",
              "      <td>6.0</td>\n",
              "      <td>3.0</td>\n",
              "      <td>1.0</td>\n",
              "      <td>0.263721</td>\n",
              "      <td>-10.890</td>\n",
              "      <td>8.806</td>\n",
              "      <td>PEG400:Labrasol (1:1 v/v)</td>\n",
              "      <td>NaN</td>\n",
              "      <td>NaN</td>\n",
              "      <td>NaN</td>\n",
              "    </tr>\n",
              "    <tr>\n",
              "      <th>2</th>\n",
              "      <td>ARD-3474-WX (36)</td>\n",
              "      <td>NaN</td>\n",
              "      <td>Androgen receptor</td>\n",
              "      <td>807.41</td>\n",
              "      <td>PO</td>\n",
              "      <td>3</td>\n",
              "      <td>6</td>\n",
              "      <td>11</td>\n",
              "      <td>NaN</td>\n",
              "      <td>Plasma</td>\n",
              "      <td>...</td>\n",
              "      <td>6.0</td>\n",
              "      <td>3.0</td>\n",
              "      <td>1.0</td>\n",
              "      <td>0.263721</td>\n",
              "      <td>-10.890</td>\n",
              "      <td>8.806</td>\n",
              "      <td>PEG400:Labrasol (1:1 v/v)</td>\n",
              "      <td>NaN</td>\n",
              "      <td>NaN</td>\n",
              "      <td>NaN</td>\n",
              "    </tr>\n",
              "    <tr>\n",
              "      <th>3</th>\n",
              "      <td>ARD-3474-WX (36)</td>\n",
              "      <td>NaN</td>\n",
              "      <td>Androgen receptor</td>\n",
              "      <td>807.41</td>\n",
              "      <td>PO</td>\n",
              "      <td>3</td>\n",
              "      <td>24</td>\n",
              "      <td>9.63</td>\n",
              "      <td>NaN</td>\n",
              "      <td>Plasma</td>\n",
              "      <td>...</td>\n",
              "      <td>6.0</td>\n",
              "      <td>3.0</td>\n",
              "      <td>1.0</td>\n",
              "      <td>0.263721</td>\n",
              "      <td>-10.890</td>\n",
              "      <td>8.806</td>\n",
              "      <td>PEG400:Labrasol (1:1 v/v)</td>\n",
              "      <td>NaN</td>\n",
              "      <td>NaN</td>\n",
              "      <td>NaN</td>\n",
              "    </tr>\n",
              "    <tr>\n",
              "      <th>4</th>\n",
              "      <td>ARD-3474-WX (36)</td>\n",
              "      <td>NaN</td>\n",
              "      <td>Androgen receptor</td>\n",
              "      <td>807.41</td>\n",
              "      <td>PO</td>\n",
              "      <td>3</td>\n",
              "      <td>1</td>\n",
              "      <td>10.3</td>\n",
              "      <td>NaN</td>\n",
              "      <td>Plasma</td>\n",
              "      <td>...</td>\n",
              "      <td>6.0</td>\n",
              "      <td>3.0</td>\n",
              "      <td>1.0</td>\n",
              "      <td>0.263721</td>\n",
              "      <td>-10.890</td>\n",
              "      <td>8.806</td>\n",
              "      <td>PEG400:Labrasol (1:1 v/v)</td>\n",
              "      <td>NaN</td>\n",
              "      <td>NaN</td>\n",
              "      <td>NaN</td>\n",
              "    </tr>\n",
              "    <tr>\n",
              "      <th>...</th>\n",
              "      <td>...</td>\n",
              "      <td>...</td>\n",
              "      <td>...</td>\n",
              "      <td>...</td>\n",
              "      <td>...</td>\n",
              "      <td>...</td>\n",
              "      <td>...</td>\n",
              "      <td>...</td>\n",
              "      <td>...</td>\n",
              "      <td>...</td>\n",
              "      <td>...</td>\n",
              "      <td>...</td>\n",
              "      <td>...</td>\n",
              "      <td>...</td>\n",
              "      <td>...</td>\n",
              "      <td>...</td>\n",
              "      <td>...</td>\n",
              "      <td>...</td>\n",
              "      <td>...</td>\n",
              "      <td>...</td>\n",
              "      <td>...</td>\n",
              "    </tr>\n",
              "    <tr>\n",
              "      <th>21338</th>\n",
              "      <td>M-1034-XSL</td>\n",
              "      <td>NaN</td>\n",
              "      <td>Menin</td>\n",
              "      <td>696.815</td>\n",
              "      <td>PO</td>\n",
              "      <td>25</td>\n",
              "      <td>24</td>\n",
              "      <td>4.95</td>\n",
              "      <td>83.535</td>\n",
              "      <td>Plasma</td>\n",
              "      <td>...</td>\n",
              "      <td>11.0</td>\n",
              "      <td>2.0</td>\n",
              "      <td>0.0</td>\n",
              "      <td>0.334316</td>\n",
              "      <td>-7.747</td>\n",
              "      <td>7.785, 8.087</td>\n",
              "      <td>Red numbers indicate that there were larget di...</td>\n",
              "      <td>137.37</td>\n",
              "      <td>-9.983</td>\n",
              "      <td>7.275</td>\n",
              "    </tr>\n",
              "    <tr>\n",
              "      <th>21339</th>\n",
              "      <td>M-1034-XSL</td>\n",
              "      <td>NaN</td>\n",
              "      <td>Menin</td>\n",
              "      <td>696.815</td>\n",
              "      <td>PO</td>\n",
              "      <td>25</td>\n",
              "      <td>1</td>\n",
              "      <td>37.78</td>\n",
              "      <td>101.45</td>\n",
              "      <td>Plasma</td>\n",
              "      <td>...</td>\n",
              "      <td>11.0</td>\n",
              "      <td>2.0</td>\n",
              "      <td>0.0</td>\n",
              "      <td>0.334316</td>\n",
              "      <td>-7.747</td>\n",
              "      <td>7.785, 8.087</td>\n",
              "      <td>Red numbers indicate that there were larget di...</td>\n",
              "      <td>137.37</td>\n",
              "      <td>-9.983</td>\n",
              "      <td>7.275</td>\n",
              "    </tr>\n",
              "    <tr>\n",
              "      <th>21340</th>\n",
              "      <td>M-1034-XSL</td>\n",
              "      <td>NaN</td>\n",
              "      <td>Menin</td>\n",
              "      <td>696.815</td>\n",
              "      <td>PO</td>\n",
              "      <td>25</td>\n",
              "      <td>3</td>\n",
              "      <td>14.79</td>\n",
              "      <td>25.245</td>\n",
              "      <td>Plasma</td>\n",
              "      <td>...</td>\n",
              "      <td>11.0</td>\n",
              "      <td>2.0</td>\n",
              "      <td>0.0</td>\n",
              "      <td>0.334316</td>\n",
              "      <td>-7.747</td>\n",
              "      <td>7.785, 8.087</td>\n",
              "      <td>Red numbers indicate that there were larget di...</td>\n",
              "      <td>137.37</td>\n",
              "      <td>-9.983</td>\n",
              "      <td>7.275</td>\n",
              "    </tr>\n",
              "    <tr>\n",
              "      <th>21341</th>\n",
              "      <td>M-1034-XSL</td>\n",
              "      <td>NaN</td>\n",
              "      <td>Menin</td>\n",
              "      <td>696.815</td>\n",
              "      <td>PO</td>\n",
              "      <td>25</td>\n",
              "      <td>6</td>\n",
              "      <td>7.97</td>\n",
              "      <td>19.57</td>\n",
              "      <td>Plasma</td>\n",
              "      <td>...</td>\n",
              "      <td>11.0</td>\n",
              "      <td>2.0</td>\n",
              "      <td>0.0</td>\n",
              "      <td>0.334316</td>\n",
              "      <td>-7.747</td>\n",
              "      <td>7.785, 8.087</td>\n",
              "      <td>Red numbers indicate that there were larget di...</td>\n",
              "      <td>137.37</td>\n",
              "      <td>-9.983</td>\n",
              "      <td>7.275</td>\n",
              "    </tr>\n",
              "    <tr>\n",
              "      <th>21342</th>\n",
              "      <td>M-1034-XSL</td>\n",
              "      <td>NaN</td>\n",
              "      <td>Menin</td>\n",
              "      <td>696.815</td>\n",
              "      <td>PO</td>\n",
              "      <td>25</td>\n",
              "      <td>24</td>\n",
              "      <td>2.08</td>\n",
              "      <td>3.515</td>\n",
              "      <td>Plasma</td>\n",
              "      <td>...</td>\n",
              "      <td>11.0</td>\n",
              "      <td>2.0</td>\n",
              "      <td>0.0</td>\n",
              "      <td>0.334316</td>\n",
              "      <td>-7.747</td>\n",
              "      <td>7.785, 8.087</td>\n",
              "      <td>Red numbers indicate that there were larget di...</td>\n",
              "      <td>137.37</td>\n",
              "      <td>-9.983</td>\n",
              "      <td>7.275</td>\n",
              "    </tr>\n",
              "  </tbody>\n",
              "</table>\n",
              "<p>21343 rows × 27 columns</p>\n",
              "</div>\n",
              "      <button class=\"colab-df-convert\" onclick=\"convertToInteractive('df-661cdb8a-7121-4c37-b304-f3431c22c39f')\"\n",
              "              title=\"Convert this dataframe to an interactive table.\"\n",
              "              style=\"display:none;\">\n",
              "\n",
              "  <svg xmlns=\"http://www.w3.org/2000/svg\" height=\"24px\"viewBox=\"0 0 24 24\"\n",
              "       width=\"24px\">\n",
              "    <path d=\"M0 0h24v24H0V0z\" fill=\"none\"/>\n",
              "    <path d=\"M18.56 5.44l.94 2.06.94-2.06 2.06-.94-2.06-.94-.94-2.06-.94 2.06-2.06.94zm-11 1L8.5 8.5l.94-2.06 2.06-.94-2.06-.94L8.5 2.5l-.94 2.06-2.06.94zm10 10l.94 2.06.94-2.06 2.06-.94-2.06-.94-.94-2.06-.94 2.06-2.06.94z\"/><path d=\"M17.41 7.96l-1.37-1.37c-.4-.4-.92-.59-1.43-.59-.52 0-1.04.2-1.43.59L10.3 9.45l-7.72 7.72c-.78.78-.78 2.05 0 2.83L4 21.41c.39.39.9.59 1.41.59.51 0 1.02-.2 1.41-.59l7.78-7.78 2.81-2.81c.8-.78.8-2.07 0-2.86zM5.41 20L4 18.59l7.72-7.72 1.47 1.35L5.41 20z\"/>\n",
              "  </svg>\n",
              "      </button>\n",
              "\n",
              "\n",
              "\n",
              "    <div id=\"df-892939fd-c236-4e84-b213-2d1863c5f7ed\">\n",
              "      <button class=\"colab-df-quickchart\" onclick=\"quickchart('df-892939fd-c236-4e84-b213-2d1863c5f7ed')\"\n",
              "              title=\"Suggest charts.\"\n",
              "              style=\"display:none;\">\n",
              "\n",
              "<svg xmlns=\"http://www.w3.org/2000/svg\" height=\"24px\"viewBox=\"0 0 24 24\"\n",
              "     width=\"24px\">\n",
              "    <g>\n",
              "        <path d=\"M19 3H5c-1.1 0-2 .9-2 2v14c0 1.1.9 2 2 2h14c1.1 0 2-.9 2-2V5c0-1.1-.9-2-2-2zM9 17H7v-7h2v7zm4 0h-2V7h2v10zm4 0h-2v-4h2v4z\"/>\n",
              "    </g>\n",
              "</svg>\n",
              "      </button>\n",
              "    </div>\n",
              "\n",
              "<style>\n",
              "  .colab-df-quickchart {\n",
              "    background-color: #E8F0FE;\n",
              "    border: none;\n",
              "    border-radius: 50%;\n",
              "    cursor: pointer;\n",
              "    display: none;\n",
              "    fill: #1967D2;\n",
              "    height: 32px;\n",
              "    padding: 0 0 0 0;\n",
              "    width: 32px;\n",
              "  }\n",
              "\n",
              "  .colab-df-quickchart:hover {\n",
              "    background-color: #E2EBFA;\n",
              "    box-shadow: 0px 1px 2px rgba(60, 64, 67, 0.3), 0px 1px 3px 1px rgba(60, 64, 67, 0.15);\n",
              "    fill: #174EA6;\n",
              "  }\n",
              "\n",
              "  [theme=dark] .colab-df-quickchart {\n",
              "    background-color: #3B4455;\n",
              "    fill: #D2E3FC;\n",
              "  }\n",
              "\n",
              "  [theme=dark] .colab-df-quickchart:hover {\n",
              "    background-color: #434B5C;\n",
              "    box-shadow: 0px 1px 3px 1px rgba(0, 0, 0, 0.15);\n",
              "    filter: drop-shadow(0px 1px 2px rgba(0, 0, 0, 0.3));\n",
              "    fill: #FFFFFF;\n",
              "  }\n",
              "</style>\n",
              "\n",
              "    <script>\n",
              "      async function quickchart(key) {\n",
              "        const containerElement = document.querySelector('#' + key);\n",
              "        const charts = await google.colab.kernel.invokeFunction(\n",
              "            'suggestCharts', [key], {});\n",
              "      }\n",
              "    </script>\n",
              "\n",
              "      <script>\n",
              "\n",
              "function displayQuickchartButton(domScope) {\n",
              "  let quickchartButtonEl =\n",
              "    domScope.querySelector('#df-892939fd-c236-4e84-b213-2d1863c5f7ed button.colab-df-quickchart');\n",
              "  quickchartButtonEl.style.display =\n",
              "    google.colab.kernel.accessAllowed ? 'block' : 'none';\n",
              "}\n",
              "\n",
              "        displayQuickchartButton(document);\n",
              "      </script>\n",
              "      <style>\n",
              "    .colab-df-container {\n",
              "      display:flex;\n",
              "      flex-wrap:wrap;\n",
              "      gap: 12px;\n",
              "    }\n",
              "\n",
              "    .colab-df-convert {\n",
              "      background-color: #E8F0FE;\n",
              "      border: none;\n",
              "      border-radius: 50%;\n",
              "      cursor: pointer;\n",
              "      display: none;\n",
              "      fill: #1967D2;\n",
              "      height: 32px;\n",
              "      padding: 0 0 0 0;\n",
              "      width: 32px;\n",
              "    }\n",
              "\n",
              "    .colab-df-convert:hover {\n",
              "      background-color: #E2EBFA;\n",
              "      box-shadow: 0px 1px 2px rgba(60, 64, 67, 0.3), 0px 1px 3px 1px rgba(60, 64, 67, 0.15);\n",
              "      fill: #174EA6;\n",
              "    }\n",
              "\n",
              "    [theme=dark] .colab-df-convert {\n",
              "      background-color: #3B4455;\n",
              "      fill: #D2E3FC;\n",
              "    }\n",
              "\n",
              "    [theme=dark] .colab-df-convert:hover {\n",
              "      background-color: #434B5C;\n",
              "      box-shadow: 0px 1px 3px 1px rgba(0, 0, 0, 0.15);\n",
              "      filter: drop-shadow(0px 1px 2px rgba(0, 0, 0, 0.3));\n",
              "      fill: #FFFFFF;\n",
              "    }\n",
              "  </style>\n",
              "\n",
              "      <script>\n",
              "        const buttonEl =\n",
              "          document.querySelector('#df-661cdb8a-7121-4c37-b304-f3431c22c39f button.colab-df-convert');\n",
              "        buttonEl.style.display =\n",
              "          google.colab.kernel.accessAllowed ? 'block' : 'none';\n",
              "\n",
              "        async function convertToInteractive(key) {\n",
              "          const element = document.querySelector('#df-661cdb8a-7121-4c37-b304-f3431c22c39f');\n",
              "          const dataTable =\n",
              "            await google.colab.kernel.invokeFunction('convertToInteractive',\n",
              "                                                     [key], {});\n",
              "          if (!dataTable) return;\n",
              "\n",
              "          const docLinkHtml = 'Like what you see? Visit the ' +\n",
              "            '<a target=\"_blank\" href=https://colab.research.google.com/notebooks/data_table.ipynb>data table notebook</a>'\n",
              "            + ' to learn more about interactive tables.';\n",
              "          element.innerHTML = '';\n",
              "          dataTable['output_type'] = 'display_data';\n",
              "          await google.colab.output.renderOutput(dataTable, element);\n",
              "          const docLink = document.createElement('div');\n",
              "          docLink.innerHTML = docLinkHtml;\n",
              "          element.appendChild(docLink);\n",
              "        }\n",
              "      </script>\n",
              "    </div>\n",
              "  </div>\n"
            ]
          },
          "metadata": {},
          "execution_count": 8
        }
      ],
      "source": [
        "compounds"
      ]
    },
    {
      "cell_type": "markdown",
      "metadata": {
        "id": "plRl63BT-lEb"
      },
      "source": [
        "####Check duplicates in drug_smile.xlsx"
      ]
    },
    {
      "cell_type": "code",
      "execution_count": 10,
      "metadata": {
        "id": "F0RXcs0kXB1c"
      },
      "outputs": [],
      "source": [
        "smi_path = 'drug_smile.xlsx'\n",
        "smiles_df = pd.read_excel(smi_path)\n",
        "length = len([*set(smiles_df['NAME'])])\n",
        "\n",
        "try:\n",
        "    assert length == smiles_df.shape[0]\n",
        "except:\n",
        "    print(f'there are multiple lines for drugs in file {smi_path}')\n",
        "    for s in set(smiles_df['NAME']):\n",
        "        if smiles_df.loc[smiles_df['NAME'] == s].shape[0] != 1:\n",
        "            print(f'multi lines:  {s}      check',\n",
        "                  smiles_df.loc[smiles_df['NAME'] == s].index.tolist())"
      ]
    },
    {
      "cell_type": "markdown",
      "metadata": {
        "id": "k9Eb1q-T3_w3"
      },
      "source": [
        "### Calculate kp for your sheet"
      ]
    },
    {
      "cell_type": "code",
      "execution_count": null,
      "metadata": {
        "colab": {
          "base_uri": "https://localhost:8080/"
        },
        "id": "IqGK4OHcEaN9",
        "outputId": "35447b9a-48ee-4d76-e799-ce8c56d73113"
      },
      "outputs": [
        {
          "output_type": "stream",
          "name": "stderr",
          "text": [
            "  5%|▌         | 73/1382 [00:03<01:29, 14.66it/s]"
          ]
        }
      ],
      "source": [
        "t_dict = {}\n",
        "from tqdm import tqdm\n",
        "invalid_kp_names = []\n",
        "valid_kp_names = []\n",
        "one_tissue_names = []\n",
        "only_plasma_names = []\n",
        "specials = []\n",
        "for name in tqdm(names):\n",
        "    # print(name)\n",
        "    try:\n",
        "        data = pk(name)\n",
        "        l = data.get_kp()\n",
        "        name, df, tissues, _, dose_routes, doses, time_points, species = data.get_info()\n",
        "        if len(l) == 0:\n",
        "            # print(name)\n",
        "            invalid_kp_names.append(name)\n",
        "            if len(tissues) == 1:\n",
        "                one_tissue_names.append(name)\n",
        "                if tissues[0] == 'Plasma':\n",
        "                  only_plasma_names.append(name)\n",
        "            else:\n",
        "                specials.append(name)\n",
        "            # name, data_df, tissues, targets, dose_routes, doses, time_points, species = data.get_info()\n",
        "        # for t in time_points:\n",
        "        #     if t not in t_dict.keys():\n",
        "        #         t_dict[t] = 1\n",
        "        #     else: t_dict[t] += 1\n",
        "        else:\n",
        "            valid_kp_names.append(name)\n",
        "    except:\n",
        "        print(f'cannot handle {name}')\n",
        "print()\n",
        "\n",
        "print(f'total {len(names)} compounds, '\n",
        "      f\"can calculate {len(valid_kp_names)} compounds,\",\n",
        "      f\"cannot handle {len(invalid_kp_names)} compounds,\\n\",\n",
        "      f\"* in invalid calculations {len(one_tissue_names)} compounds have one tissue only \\n\",\n",
        "      f\"* in those one tissue drugs, {len(only_plasma_names)} compounds have plasma only \\n\",\n",
        "      f\"* still {len(specials)} compounds need to check\")\n",
        "\n",
        "\n",
        "\n",
        "# specials, 5 compounds indeed no kp:\n",
        "# 'AK-2288', liver == 0\n",
        "# 'AK-2278', dosage different, cannot calculate kp\n",
        "# ARD-3007-WX. BLQ\n",
        "# M-1403-XRQ, BLQ\n",
        "# SD-3016 BLQ\n",
        "################################"
      ]
    },
    {
      "cell_type": "code",
      "execution_count": null,
      "metadata": {
        "id": "LV08SQFm47Zs"
      },
      "outputs": [],
      "source": [
        "len(valid_kp_names)"
      ]
    },
    {
      "cell_type": "markdown",
      "metadata": {
        "id": "VO2TAAIf-U4w"
      },
      "source": [
        "You can randomly change the ind variable between 0 and len(valid_kp_names)"
      ]
    },
    {
      "cell_type": "code",
      "execution_count": null,
      "metadata": {
        "id": "8kpUOZxu4mhG"
      },
      "outputs": [],
      "source": [
        "ind = 23 #@param {type:\"integer\"}\n",
        "\n",
        "if ind == None or ind >= len(valid_kp_names):\n",
        "    print('invalid input, let ind = 0')\n",
        "    ind = 0\n",
        "###############################\n",
        "\n",
        "name = valid_kp_names[ind]\n",
        "print(name)\n",
        "pd.DataFrame.from_dict(pk(name).get_kp())"
      ]
    },
    {
      "cell_type": "markdown",
      "source": [
        "change the variable \"name\" to check"
      ],
      "metadata": {
        "id": "k7zMbBt06_pB"
      }
    },
    {
      "cell_type": "code",
      "execution_count": null,
      "metadata": {
        "id": "BLBwv_A1tgWA"
      },
      "outputs": [],
      "source": [
        "name = \"PVT-004206\" #@param {type:\"string\"}\n",
        "# print(name not in valid_kp_names)\n",
        "if name == None or (name not in valid_kp_names):\n",
        "    print(f'invalid name, use {valid_kp_names[0]} instead')\n",
        "    name = valid_kp_names[0]\n",
        "data = pk(name)\n",
        "name, df, tissues, target, dose_routes, doses, time_points, species = data.get_info()\n",
        "all_kps = data.get_kp()\n",
        "df = pd.DataFrame.from_dict(all_kps)\n",
        "print('name: ', name)\n",
        "\n",
        "tumor_only = True #@param {type:\"boolean\"}\n",
        "if tumor_only:\n",
        "    # If you want tumor only:\n",
        "    print('tumor only')\n",
        "    print(df[df['tissue'] == 'Tumor'])\n",
        "else:\n",
        "    print(df)"
      ]
    },
    {
      "cell_type": "markdown",
      "metadata": {
        "id": "mEu0AayuM4sX"
      },
      "source": [
        "Try PCA"
      ]
    },
    {
      "cell_type": "code",
      "execution_count": null,
      "metadata": {
        "id": "wOkCYMSF1qU-"
      },
      "outputs": [],
      "source": [
        "smi_path = 'drug_smile.xlsx'\n",
        "smiles_df = pd.read_excel(smi_path)\n",
        "smiles_df"
      ]
    },
    {
      "cell_type": "code",
      "execution_count": null,
      "metadata": {
        "id": "q22CdhBPNGvq"
      },
      "outputs": [],
      "source": [
        "# d = 0\n",
        "in_smile_excel = []\n",
        "not_in_excel = []\n",
        "\n",
        "for i in tqdm(valid_kp_names):\n",
        "    if i in smiles_df['NAME'].tolist():\n",
        "        in_smile_excel.append(i)\n",
        "        pass\n",
        "    else:\n",
        "        not_in_excel.append(i)\n",
        "        # print(i)\n",
        "        # d += 1\n",
        "# print(d)\n",
        "print()\n",
        "print(f'total {len(valid_kp_names)} compounds having kp, \\n'\n",
        "      f\"*{len(in_smile_excel)} compounds in {smi_path},\\n\",\n",
        "      f\"*{len(not_in_excel)} compounds are not in {smi_path}\")"
      ]
    },
    {
      "cell_type": "markdown",
      "metadata": {
        "id": "Yd85hL_-Vp04"
      },
      "source": [
        "For compounds in drug_smile.xlsx, check whether have 24h tumor kp"
      ]
    },
    {
      "cell_type": "code",
      "execution_count": null,
      "metadata": {
        "id": "CQLababJNbSA"
      },
      "outputs": [],
      "source": [
        "from statistics import mean\n",
        "certain_time = \"24\" #@param [\"24\", \"6\"]\n",
        "certain_time = int(certain_time)\n",
        "certain_time_kp_names = []\n",
        "kp_list = []\n",
        "tissue = \"Tumor\" #@param [\"Tumor\", \"Spleen\", \"Liver\"]\n",
        "\n",
        "new_df = pd.DataFrame()\n",
        "for i in tqdm(in_smile_excel):\n",
        "    # df2 = df.loc[:, df.columns != \"Duration\"]\n",
        "    features = smiles_df[smiles_df['NAME'] == i].iloc[:, 1:]\n",
        "    # features = features.loc[:, features.columns != 'SMILES']\n",
        "    if features.shape[0] > 1:  # duplicates in drug_smile file\n",
        "        # print(features)\n",
        "        features = features.iloc[0]\n",
        "        try:\n",
        "            features = features.values.reshape(1, int(features.size))\n",
        "            features = pd.DataFrame(features, columns = smiles_df.columns[3:])\n",
        "            # features['']\n",
        "            assert features.shape[0] == 1\n",
        "        except:\n",
        "            print('now features,size: ', features.size)\n",
        "            print('now features.shape: ', features.shape)\n",
        "            pass\n",
        "        # print(features)\n",
        "        # print(features.shape[0])\n",
        "        # break\n",
        "    data = pk(i)\n",
        "    name, df, tissues, target, dose_routes, doses, time_points, species = data.get_info()\n",
        "    all_kps = data.get_kp()\n",
        "    df = pd.DataFrame.from_dict(all_kps)\n",
        "    tumor_df = df.loc[(df['tissue'] == tissue) & (df['time'] == certain_time)]\n",
        "    if tumor_df.shape[0] != 0:\n",
        "        # print(tumor_df)\n",
        "        certain_time_kp_names.append(i)\n",
        "        new_df = new_df.append([features]*1,ignore_index=True)\n",
        "        kp_list.append(mean(tumor_df['Kp'].tolist()))\n",
        "        # print('current df shape', tumor_df.shape[0], len(tumor_df['Kp'].tolist()))\n",
        "        # print('tumor_df.shape', new_df.shape[0], len(kp_list))\n",
        "        try:\n",
        "            assert new_df.shape[0] == len(kp_list)\n",
        "            assert tumor_df.shape[0] == len(tumor_df['Kp'].tolist())\n",
        "        except:\n",
        "            print(i)\n",
        "            # print('current df shape', tumor_df.shape[0], len(tumor_df['Kp'].tolist()))\n",
        "            break\n",
        "print()\n",
        "print(len(certain_time_kp_names),\n",
        "      f'compounds have {certain_time}h tumor Kp')\n",
        "new_df['Kp_average'] = pd.DataFrame(kp_list)\n",
        "new_df\n",
        "# print('Kp tumor at 24 h: ')\n",
        "# print(new_df)"
      ]
    },
    {
      "cell_type": "code",
      "execution_count": null,
      "metadata": {
        "id": "9W_w4eWEf1D-"
      },
      "outputs": [],
      "source": [
        "sns.displot(kp_list, binwidth=3)"
      ]
    },
    {
      "cell_type": "markdown",
      "metadata": {
        "id": "RavTMRJEjdW-"
      },
      "source": [
        "Kp range too large, next fig show Kp in Kp range\n"
      ]
    },
    {
      "cell_type": "code",
      "execution_count": null,
      "metadata": {
        "id": "RhZ10D5RA1C9"
      },
      "outputs": [],
      "source": [
        "kp_min = 0\n",
        "print(\"max kp and min kp values: \", new_df['Kp_average'].max(),\n",
        "      new_df['Kp_average'].min())\n",
        "print('define your range of kp you want to visualize')\n",
        "kp_min = new_df['Kp_average'].min()\n",
        "kp_max = new_df['Kp_average'].max()"
      ]
    },
    {
      "cell_type": "code",
      "execution_count": null,
      "metadata": {
        "id": "_n_fj6l1aEeG"
      },
      "outputs": [],
      "source": [
        "# Max and mininum Kps\n",
        "# print(\"max kp and min kp values: \", new_df['Kp'].max(), new_df['Kp'].min())\n",
        "### change Kp_range here###\n",
        "kp_min = 0 #@param {type:\"number\"}\n",
        "kp_max = 100  #@param {type:\"number\"}\n",
        "if kp_min == None:\n",
        "    kp_min = new_df['Kp_average'].min()\n",
        "if kp_max == None:\n",
        "    kp_max = new_df['Kp_average'].max()\n",
        "\n",
        "Kp_range = [kp_min, kp_max]\n",
        "###########################\n",
        "\n",
        "test_df = pd.DataFrame()\n",
        "test_df = new_df.loc[(new_df['Kp_average'] < Kp_range[1]) & (new_df['Kp_average'] > Kp_range[0])]\n",
        "test_df = test_df.reset_index(drop=True)\n",
        "\n",
        "# print(test_df)\n",
        "features = test_df[test_df.columns[2:-1]]\n",
        "\n",
        "# print('features before PCA')\n",
        "# print(features.iloc[187], test_df.iloc[187])\n",
        "# # print(features)\n",
        "\n",
        "\n",
        "labels = test_df[test_df.columns[-1]]\n",
        "\n",
        "# print('labels at 187', labels.iloc[187])\n",
        "\n",
        "pca = PCA(n_components=2)\n",
        "features = StandardScaler().fit_transform(features)\n",
        "pca.fit(features)\n",
        "\n",
        "# Below is the code for transform the data that Nick has mentioned\n",
        "# see https://medium.com/all-about-ml/understanding-principal-component-analysis-pca-556778324b0e\n",
        "# features = StandardScaler().fit_transform(features)\n",
        "\n",
        "columns = [\"principle component 1\", \"principle component 2\"]\n",
        "features = pd.DataFrame(data = pca.transform(features), columns = columns)\n",
        "features['label'] = labels\n",
        "\n",
        "# print(features.iloc[187])\n",
        "sns.set()\n",
        "ax = sns.scatterplot(x=columns[0], y=columns[1],\n",
        "                     hue = 'label', palette='RdBu',\n",
        "                     data=features)\n",
        "\n",
        "norm = plt.Normalize(labels.min(), labels.max())\n",
        "scalarmap = plt.cm.ScalarMappable(cmap=\"RdBu\", norm=norm)\n",
        "scalarmap.set_array([])\n",
        "\n",
        "ax.get_legend().remove() # Remove the legend and add a colorbar\n",
        "ax.figure.colorbar(scalarmap)\n",
        "\n",
        "# set the title for the figure\n",
        "plt.title(f\"Kp in range {Kp_range}\")\n",
        "plt.show()"
      ]
    },
    {
      "cell_type": "code",
      "execution_count": null,
      "metadata": {
        "id": "Z1pXMLYNgVnY"
      },
      "outputs": [],
      "source": [
        "assert len(features)  == len(test_df)\n",
        "\n",
        "new_features = features.copy()\n",
        "new_features['NAME'] = test_df['NAME']\n",
        "new_features['SMILES'] = test_df['SMILES']\n",
        "# FIRST DEBUG\n",
        "svgs = []\n",
        "for smi in tqdm(new_features['SMILES'].tolist()):\n",
        "    try:\n",
        "        svg = DrawMol(smi, kekulize=True)\n",
        "        svgs.append(svg)\n",
        "    except:\n",
        "        print(smi)\n",
        "\n",
        "from bokeh.plotting import figure, show, output_notebook, ColumnDataSource\n",
        "from bokeh.models import HoverTool, LinearColorMapper, ColumnDataSource\n",
        "from bokeh.models import ColorBar\n",
        "from bokeh.sampledata.iris import flowers\n",
        "output_notebook()\n",
        "labels = []\n",
        "for i in new_features[['NAME', 'label']].values:\n",
        "    # print(i[0], i[1])\n",
        "    new_labels = f'{i[0]}, Kp_average: {str(round(i[1], 3))}'\n",
        "    labels.append(new_labels)\n",
        "\n",
        "source = ColumnDataSource(\n",
        "                  data=dict(x=new_features.iloc[:, 0] ,\n",
        "                            y=new_features.iloc[:, 1],\n",
        "                            col=new_features['label'],\n",
        "                            desc=labels,\n",
        "                            svgs=[DrawMol(smi, kekulize=True) for smi \\\n",
        "                                    in new_features['SMILES'].values]))\n",
        "\n",
        "exp_cmap = LinearColorMapper(palette=\"Viridis256\",\n",
        "                             low = min(new_features['label']),\n",
        "                             high = max(new_features['label']))\n",
        "\n",
        "hover = HoverTool(tooltips=\"\"\"\n",
        "    <div>\n",
        "        <div>@svgs{safe}\n",
        "        </div>\n",
        "        <div>\n",
        "            <span style=\"font-size: 15px; font-weight: bold;\">@desc</span>\n",
        "        </div>\n",
        "    </div>\n",
        "    \"\"\"\n",
        ")\n",
        "p = figure(plot_width=700, plot_height=700,\n",
        "           tools=['reset,box_zoom,wheel_zoom,zoom_in,zoom_out,pan',hover],\n",
        "           title=\"Mouse over the dots\")\n",
        "\n",
        "# p.circle(\"x\", \"y\",size=5, source=source, line_color=None,\n",
        "#         fill_color={\"field\":\"col\", \"transform\":exp_cmap})\n",
        "\n",
        "bar = ColorBar(color_mapper=exp_cmap, location=(0,0))\n",
        "p.add_layout(bar, \"right\")\n",
        "\n",
        "p.circle('x', 'y', size=10, source=source, line_color=None, fill_alpha=0.5,\n",
        "         fill_color={\"field\":\"col\", \"transform\":exp_cmap});\n",
        "show(p)"
      ]
    },
    {
      "cell_type": "code",
      "execution_count": null,
      "metadata": {
        "id": "0v5F4odRuklU"
      },
      "outputs": [],
      "source": [
        "columns = ['MW', 'ALOGP', 'HBA', 'HBD', 'PSA', 'ROTB', 'AROM',\n",
        "       'ALERTS', 'QED']\n",
        "for name in columns:\n",
        "  fig, ax = plt.subplots()\n",
        "  # new_df = new_df[new_df['Kp']<200]\n",
        "  ax.scatter(new_df[name], new_df['Kp_average'], vmin=0, vmax=1)\n",
        "  plt.xlabel(name)\n",
        "  plt.ylabel('kp')\n",
        "  plt.title(f'{name} vs Kp')"
      ]
    },
    {
      "cell_type": "markdown",
      "metadata": {
        "id": "L7A9h4Pbjicy"
      },
      "source": []
    }
  ],
  "metadata": {
    "colab": {
      "provenance": [],
      "include_colab_link": true
    },
    "kernelspec": {
      "display_name": "Python 3",
      "name": "python3"
    },
    "language_info": {
      "name": "python"
    }
  },
  "nbformat": 4,
  "nbformat_minor": 0
}