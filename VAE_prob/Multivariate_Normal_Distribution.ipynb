{
  "nbformat": 4,
  "nbformat_minor": 0,
  "metadata": {
    "colab": {
      "provenance": [],
      "authorship_tag": "ABX9TyMJdPzfhewAjAbc5pXblO8J",
      "include_colab_link": true
    },
    "kernelspec": {
      "name": "python3",
      "display_name": "Python 3"
    },
    "language_info": {
      "name": "python"
    }
  },
  "cells": [
    {
      "cell_type": "markdown",
      "metadata": {
        "id": "view-in-github",
        "colab_type": "text"
      },
      "source": [
        "<a href=\"https://colab.research.google.com/github/yingzibu/drug_design_JAK/blob/main/VAE_prob/Multivariate_Normal_Distribution.ipynb\" target=\"_parent\"><img src=\"https://colab.research.google.com/assets/colab-badge.svg\" alt=\"Open In Colab\"/></a>"
      ]
    },
    {
      "cell_type": "markdown",
      "source": [
        "https://python.quantecon.org/multivariate_normal.html"
      ],
      "metadata": {
        "id": "kTK_0bStSIxf"
      }
    },
    {
      "cell_type": "code",
      "execution_count": 1,
      "metadata": {
        "id": "WAgUa_eCSHaj"
      },
      "outputs": [],
      "source": [
        "%matplotlib inline\n",
        "import matplotlib.pyplot as plt\n",
        "plt.rcParams[\"figure.figsize\"] = (11, 5)  #set default figure size\n",
        "import numpy as np\n",
        "from numba import njit\n",
        "import statsmodels.api as sm"
      ]
    },
    {
      "cell_type": "markdown",
      "source": [
        "$z \\sim \\mathcal{N}(\\mu, \\Sigma)$, $z \\in \\mathbb{R}^{N \\times 1}$, which means:\n",
        "\n",
        "\\begin{equation}\n",
        "    f(z; \\mu, \\Sigma) = (2\\pi)^{-\\frac{N}{2}} \\det (\\Sigma)^{-\\frac{1}{2}} \\exp(-.5 (z-\\mu)' \\Sigma^{-1} (z-\\mu))\n",
        "\\end{equation}\n",
        "\n",
        "$\\mu = \\mathbb{E}(z)$ is the mean of the random vector $z$, $\\Sigma = \\mathbb{E} (z-\\mu)(z-\\mu)'$ is the covariance matrix of $z$\n",
        "\n",
        "\n",
        "the covariance matrix $\\Sigma$ is symmetric and positive definite"
      ],
      "metadata": {
        "id": "lO_-_7jHSSdo"
      }
    },
    {
      "cell_type": "code",
      "source": [
        "@njit\n",
        "def f(z, mu, cov):\n",
        "    z = np.atleast_2d(z)\n",
        "    mu = np.atleast_2d(mu)\n",
        "    cov = np.atleast_2d(cov)\n",
        "    N = z.size\n",
        "\n",
        "    temp_1 = np.linalg.det(cov) ** (-1/2)  # det(Σ)−0.5\n",
        "    temp_2 = np.exp(-.5 * (z - mu).T @ np.linalg.inv(cov) @ (z - mu)) # exp(−.5(𝑧−𝜇)′Σ−1(𝑧−𝜇))\n",
        "\n",
        "    return (2 * np.pi) **(-N/2) * temp_1 * temp_2"
      ],
      "metadata": {
        "id": "CRjRgHM2SPV5"
      },
      "execution_count": 9,
      "outputs": []
    },
    {
      "cell_type": "markdown",
      "source": [
        "for $k \\in \\{1, \\dots, N-1\\}$, partition z as\n",
        "\\begin{align}\n",
        "z = \\begin{bmatrix}\n",
        "    z_1 \\\\\n",
        "    z_2\n",
        "\\end{bmatrix}\n",
        "\\end{align}\n",
        "\n",
        "$z_1 \\in \\mathbb{R}^{(N-k)\\times 1}, z_2 \\in \\mathbb{R}^{(k)\\times 1}$\n",
        "\n",
        "Let\n",
        "\\begin{align}\n",
        "\\mu = \\begin{bmatrix}\n",
        "    \\mu_1 \\\\\n",
        "    \\mu_2\n",
        "\\end{bmatrix},\n",
        "\\Sigma = \\begin{bmatrix}\n",
        "    \\Sigma_{11}  \\Sigma_{12} \\\\\n",
        "    \\Sigma_{21}  \\Sigma_{22}\n",
        "\\end{bmatrix}\n",
        "\\end{align}\n",
        "\n",
        "$z \\sim \\mathcal{N}(\\mu, \\Sigma)$, $z \\in \\mathbb{R}^{N \\times 1}$\n",
        "\n",
        "$z_1 \\sim \\mathcal{N}(\\mu_1, \\Sigma_{11})$,\n",
        "\n",
        "$z_2 \\sim \\mathcal{N}(\\mu_2, \\Sigma_{22})$,\n",
        "\n",
        "\n",
        "$z_1 | z_2 \\sim \\mathcal{N}(\\hat{\\mu_1}, \\hat{\\Sigma}_{11}) $, where\n",
        "\\begin{align}\n",
        "    \\hat{\\mu_1} & = \\mu_1 + \\beta (z_2 - \\mu_2)  \\\\\n",
        "    \\hat{\\Sigma}_{11} & = \\Sigma_{11} - \\Sigma_{12} \\Sigma_{22}^{-1} \\Sigma_{21} = \\Sigma_{11} - \\beta \\Sigma_{22} \\beta' \\\\\n",
        "    \\beta & = \\Sigma_{12} \\Sigma_{22}^{-1}\n",
        "\\end{align}\n",
        "\n",
        "  <!-- \\begin{align}\n",
        "    y &= \\begin{bmatrix}\n",
        "           x_{1} \\\\\n",
        "           x_{2} \\\\\n",
        "           \\vdots \\\\\n",
        "           x_{m}\n",
        "         \\end{bmatrix}\n",
        "  \\end{align} -->"
      ],
      "metadata": {
        "id": "RYn3HyxKXuy3"
      }
    },
    {
      "cell_type": "code",
      "source": [
        "class MultivariateNormal:\n",
        "    def __init__(self, mu, cov):\n",
        "        self.mu = np.array(mu)\n",
        "        self.cov = np.atleast_2d(cov)\n",
        "    def partition(self, k):\n",
        "        mu = self.mu\n",
        "        cov = self.cov\n",
        "\n",
        "        self.mu_ = [mu[:k], mu[k:]]\n",
        "        self.cov_ = [[cov[:k, :k], cov[:k, k:]],\n",
        "                     [cov[k:, :k], cov[k:, k:]]]\n",
        "        self.beta_ = [self.cov_[0][1] @ np.linalg.inv(self.cov_[1][1]), # Σ12Σ22^{-1}\n",
        "                      self.cov_[1][0] @ np.linalg.inv(self.cov_[0][0])]\n",
        "\n",
        "    def cond_dist(self, ind, z): # conditional distribution\n",
        "    # ind = 0:  z1 | z2\n",
        "    # ind = 1:  z2 | z1\n",
        "        beta = self.beta_[ind] # beta also matrix\n",
        "        mu_ = self.mu_\n",
        "        cov_ = self.cov_\n",
        "\n",
        "        mu_hat = mu_[ind] + beta @ (z - mu_[1-ind])\n",
        "        cov_hat = cov_[ind][ind] - beta @ cov_[1-ind][1-ind] @ beta.T\n",
        "        return mu_hat, cov_hat\n"
      ],
      "metadata": {
        "id": "7hSXMHOQTpWp"
      },
      "execution_count": 10,
      "outputs": []
    },
    {
      "cell_type": "code",
      "source": [
        "μ = np.array([.5, 1.])\n",
        "Σ = np.array([[1., .5], [.5 ,1.]])\n",
        "\n",
        "# construction of the multivariate normal instance\n",
        "multi_normal = MultivariateNormal(μ, Σ)"
      ],
      "metadata": {
        "id": "mKXRvQo-TsAa"
      },
      "execution_count": 11,
      "outputs": []
    },
    {
      "cell_type": "code",
      "source": [
        "k = 1 # choose partition\n",
        "\n",
        "# partition and compute regression coefficients\n",
        "multi_normal.partition(k)\n",
        "multi_normal.beta_[0],multi_normal.beta_[1]"
      ],
      "metadata": {
        "colab": {
          "base_uri": "https://localhost:8080/"
        },
        "id": "BuQ5QnnOTsnK",
        "outputId": "bb7ef552-8090-4fe4-8b3f-0ee448f6e8d1"
      },
      "execution_count": 13,
      "outputs": [
        {
          "output_type": "execute_result",
          "data": {
            "text/plain": [
              "(array([[0.5]]), array([[0.5]]))"
            ]
          },
          "metadata": {},
          "execution_count": 13
        }
      ]
    },
    {
      "cell_type": "markdown",
      "source": [
        "$y_i = \\theta + \\sigma_y w_i, i = 1, \\cdots, n$, $y_i$ is the test score of a person, and $\\theta$ is the person's true IQ, but we do not know.\n",
        "\n",
        "Assume $\\theta = \\mu_{\\theta} + \\sigma_{\\theta} w_{n+1}$,\n",
        "\n",
        "thus $y_i = \\theta +\\sigma_y w_i =  \\mu_{\\theta} + \\sigma_{\\theta} w_{n+1} +   \\sigma_y w_i$\n",
        "\n",
        "We assume $\\{w_i\\}_{i=1}^N$ in the test scores are IID and not correlated with IQ, we also assume:\n",
        "\\begin{align}\n",
        "   w = \\begin{bmatrix}\n",
        "    w_1 \\\\\n",
        "    w_2 \\\\\n",
        "    \\vdots \\\\\n",
        "    w_n \\\\\n",
        "    w_{n+1}\n",
        "\\end{bmatrix} \\sim \\mathcal{N} (0, I_{n+1})\n",
        "\\end{align}\n",
        "\n",
        "\\begin{align}\n",
        "X & = \\begin{bmatrix}\n",
        "    y_1 \\\\\n",
        "    y_2 \\\\\n",
        "    \\vdots \\\\\n",
        "    y_n \\\\\n",
        "    \\theta\n",
        "\\end{bmatrix} = \\begin{bmatrix}\n",
        "\\boldsymbol{y} \\\\\n",
        "\\theta \\end{bmatrix} = \\begin{bmatrix} \\mu_{\\theta} \\\\ \\mu_{\\theta} \\\\ \\vdots \\\\ \\mu_{\\theta} \\\\ \\mu_{\\theta} \\end{bmatrix} + \\begin{bmatrix}\n",
        " \\sigma_y & 0 & \\dots & 0 & \\sigma_{\\theta} \\\\\n",
        " 0 & \\sigma_y & \\dots & 0 & \\sigma_{\\theta} \\\\\n",
        " \\vdots & \\vdots & \\ddots & \\vdots & \\vdots \\\\\n",
        " 0 & 0 & \\dots & \\sigma_y & \\sigma_{\\theta} \\\\\n",
        "0 & 0 & \\dots & 0& \\sigma_{\\theta} \\\\\n",
        "\\end{bmatrix} \\begin{bmatrix} w_1 \\\\ w_2 \\\\ \\vdots \\\\ w_n \\\\ w_{n+1}\\end{bmatrix}\n",
        " & = \\mu_{\\theta} \\boldsymbol{1}_{n+1} + D\\boldsymbol{w}\n",
        "\\end{align}"
      ],
      "metadata": {
        "id": "3fAMbGnwgd4S"
      }
    },
    {
      "cell_type": "code",
      "source": [
        "def construct_moments_IQ(n, mu_theta, sigma_theta, sigma_y):\n",
        "    mu_IQ = np.full(n+1, mu_theta)  # array (n+1, )\n",
        "    D_IQ = np.zeros((n+1, n+1))\n",
        "    D_IQ[range(n), range(n)] = sigma_y\n",
        "    D_IQ[:,n] = sigma_theta\n",
        "    cov_IQ = D_IQ @ D_IQ.T\n",
        "    return mu_IQ, cov_IQ, D_IQ"
      ],
      "metadata": {
        "id": "MP1CVZeZfSmT"
      },
      "execution_count": 17,
      "outputs": []
    },
    {
      "cell_type": "code",
      "source": [
        "n = 50\n",
        "μθ, σθ, σy = 100., 10., 10.\n",
        "μ_IQ, Σ_IQ, D_IQ = construct_moments_IQ(n, μθ, σθ, σy)"
      ],
      "metadata": {
        "id": "yurD3qv9kxbD"
      },
      "execution_count": 28,
      "outputs": []
    },
    {
      "cell_type": "code",
      "source": [
        "multi_normal_IQ = MultivariateNormal(μ_IQ, Σ_IQ)\n",
        "k = n\n",
        "multi_normal_IQ.partition(k)"
      ],
      "metadata": {
        "id": "_cx3X8Stky4u"
      },
      "execution_count": 29,
      "outputs": []
    },
    {
      "cell_type": "code",
      "source": [
        "x = np.random.multivariate_normal(μ_IQ, Σ_IQ)\n",
        "y = x[:-1] # test scores\n",
        "θ = x[-1]  # IQ"
      ],
      "metadata": {
        "id": "srvfkYV6lWgH"
      },
      "execution_count": 30,
      "outputs": []
    },
    {
      "cell_type": "code",
      "source": [
        "θ"
      ],
      "metadata": {
        "colab": {
          "base_uri": "https://localhost:8080/"
        },
        "id": "lthQv764lgCl",
        "outputId": "5d53c779-40dc-4a22-86a5-fc6b52edc711"
      },
      "execution_count": 31,
      "outputs": [
        {
          "output_type": "execute_result",
          "data": {
            "text/plain": [
              "98.01764657770761"
            ]
          },
          "metadata": {},
          "execution_count": 31
        }
      ]
    },
    {
      "cell_type": "code",
      "source": [
        "# array for containing moments\n",
        "μθ_hat_arr = np.empty(n)\n",
        "Σθ_hat_arr = np.empty(n)\n",
        "\n",
        "# loop over number of test scores\n",
        "for i in range(1, n+1):\n",
        "    # construction of multivariate normal distribution instance\n",
        "    μ_IQ_i, Σ_IQ_i, D_IQ_i = construct_moments_IQ(i, μθ, σθ, σy)\n",
        "    multi_normal_IQ_i = MultivariateNormal(μ_IQ_i, Σ_IQ_i)\n",
        "\n",
        "    # partition and compute conditional distribution\n",
        "    multi_normal_IQ_i.partition(i)\n",
        "    scores_i = y[:i]\n",
        "    μθ_hat_i, Σθ_hat_i = multi_normal_IQ_i.cond_dist(1, scores_i)\n",
        "\n",
        "    # store the results\n",
        "    μθ_hat_arr[i-1] = μθ_hat_i[0]\n",
        "    Σθ_hat_arr[i-1] = Σθ_hat_i[0, 0]\n",
        "\n",
        "# transform variance to standard deviation\n",
        "σθ_hat_arr = np.sqrt(Σθ_hat_arr)\n",
        "μθ_hat_lower = μθ_hat_arr - 1.96 * σθ_hat_arr\n",
        "μθ_hat_higher = μθ_hat_arr + 1.96 * σθ_hat_arr\n",
        "\n",
        "plt.hlines(θ, 1, n+1, ls='--', label='true $θ$')\n",
        "plt.plot(range(1, n+1), μθ_hat_arr, color='b', label='$\\hat{μ}_{θ}$')\n",
        "plt.plot(range(1, n+1), μθ_hat_lower, color='b', ls='--')\n",
        "plt.plot(range(1, n+1), μθ_hat_higher, color='b', ls='--')\n",
        "plt.fill_between(range(1, n+1), μθ_hat_lower, μθ_hat_higher,\n",
        "                 color='b', alpha=0.2, label='95%')\n",
        "\n",
        "plt.xlabel('number of test scores')\n",
        "plt.ylabel('$\\hat{θ}$')\n",
        "plt.legend()\n",
        "\n",
        "plt.show()"
      ],
      "metadata": {
        "colab": {
          "base_uri": "https://localhost:8080/",
          "height": 465
        },
        "id": "fJ0vGfoylgvs",
        "outputId": "632c41d5-abc3-4c76-8332-0a36ec93900f"
      },
      "execution_count": 32,
      "outputs": [
        {
          "output_type": "display_data",
          "data": {
            "text/plain": [
              "<Figure size 1100x500 with 1 Axes>"
            ],
            "image/png": "[encoded data removed]"
          },
          "metadata": {}
        }
      ]
    },
    {
      "cell_type": "code",
      "source": [
        "Σθ_hat_arr.shape"
      ],
      "metadata": {
        "colab": {
          "base_uri": "https://localhost:8080/"
        },
        "id": "XkvOiHxRmUub",
        "outputId": "fd55aa90-2979-413c-fa08-b41e228e4294"
      },
      "execution_count": 35,
      "outputs": [
        {
          "output_type": "execute_result",
          "data": {
            "text/plain": [
              "(50,)"
            ]
          },
          "metadata": {},
          "execution_count": 35
        }
      ]
    },
    {
      "cell_type": "code",
      "source": [],
      "metadata": {
        "id": "pbol6GOJmv-V"
      },
      "execution_count": null,
      "outputs": []
    }
  ]
}